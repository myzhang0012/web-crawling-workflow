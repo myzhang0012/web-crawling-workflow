{
 "cells": [
  {
   "cell_type": "code",
   "execution_count": 1,
   "id": "bafb3218",
   "metadata": {},
   "outputs": [],
   "source": [
    "import re\n",
    "import os\n",
    "import json\n",
    "import pandas as pd\n",
    "from tqdm import tqdm\n",
    "from glob import glob\n",
    "from bs4 import BeautifulSoup\n",
    "from scrapy.selector import Selector\n",
    "import urllib "
   ]
  },
  {
   "cell_type": "markdown",
   "id": "df7547da",
   "metadata": {},
   "source": [
    "# 解析"
   ]
  },
  {
   "cell_type": "code",
   "execution_count": 28,
   "id": "77ea338e",
   "metadata": {},
   "outputs": [],
   "source": [
    "def recursive_parser_medicines(item, texts, pre_class):\n",
    "    for child in item:\n",
    "        try:\n",
    "#             if isinstance(child, str):\n",
    "#                 content = child.strip()\n",
    "#                 if len(content) > 0:\n",
    "#                     texts.append(content)\n",
    "#                 continue\n",
    "\n",
    "            tag = child.name\n",
    "            \n",
    "            content = child.text.strip()\n",
    "            if len(content) == 0:\n",
    "                continue\n",
    "                \n",
    "                \n",
    "            if tag == 'a' and 'class' in child.attrs:\n",
    "                class_ = child.attrs['class'][0]\n",
    "                if class_ in ['mediaPrmo ss']:\n",
    "                    continue\n",
    "            if tag == 'p' and 'class' in child.attrs:\n",
    "                class_ = child.attrs['class'][0]\n",
    "                if class_ in ['credits']:\n",
    "                    continue\n",
    "            \n",
    "            if tag in ['script', 'link', 'table', 'tbody', 'img', 'iframe']: # 加视频\n",
    "                continue\n",
    "\n",
    "            if tag == 'center':\n",
    "                texts.append(content)\n",
    "                continue\n",
    "\n",
    "\n",
    "            \n",
    "            if tag == 'section' and 'id' in child.attrs and len(child.attrs['id']) > 0:\n",
    "                id_ = child.attrs['id']\n",
    "                if id_ in ['sponsors']:\n",
    "                    continue\n",
    "            \n",
    "            if tag == 'div' and 'class' in child.attrs and len(child.attrs['class']) > 0:\n",
    "                # 对div标签的class进行判别，不同情况分别处理\n",
    "                class_ = child.attrs['class'][0]\n",
    "                if class_ in ['SECONDARY', 'AUTHORS', 'HNUM', 'BY', 'SG', 'PN', 'pagenum', 'TB', 'SIDEBAR', \n",
    "                              'app-brightcove-video', 'nhsuk-body-s nhsuk-u-margin-top-7 nhsuk-u-secondary-text-color']:\n",
    "                    continue\n",
    "\n",
    "                if class_ in ['h1', 'h2', 'h3', 'h4', 'h5']:\n",
    "                    texts.append(content)\n",
    "\n",
    "                elif class_ in ['HD', 'FRTITLE']:\n",
    "                    texts.append(content)\n",
    "\n",
    "                elif class_ == 'P':\n",
    "                    texts.append(content)\n",
    "\n",
    "                else:\n",
    "                    recursive_parser_medicines(child, texts, class_)\n",
    "                    \n",
    "            elif tag in ['section', 'div', 'ul', 'ol', 'article']:\n",
    "                # 这几类标签 直接递归处理子标签\n",
    "                recursive_parser_medicines(child, texts, '')\n",
    "                \n",
    "            else:\n",
    "                # 剩余情况直接获取标签内容\n",
    "                texts.append(content)\n",
    "\n",
    "        except Exception as e:\n",
    "            print(e)"
   ]
  },
  {
   "cell_type": "code",
   "execution_count": 29,
   "id": "b495e58a",
   "metadata": {},
   "outputs": [],
   "source": [
    "def recursive_parser_health(item, texts, pre_class):\n",
    "    for child in item:\n",
    "        try:\n",
    "#             if isinstance(child, str):\n",
    "#                 content = child.strip()\n",
    "#                 if len(content) > 0:\n",
    "#                     texts.append(content)\n",
    "#                 continue\n",
    "\n",
    "            tag = child.name\n",
    "            \n",
    "            content = child.text.strip()\n",
    "            if len(content) == 0:\n",
    "                continue\n",
    "            \n",
    "            \n",
    "            if tag in ['script', 'link', 'table', 'tbody', 'img', 'iframe', 'nav']: \n",
    "                continue\n",
    "            \n",
    "            if tag == 'div' and 'class' in child.attrs and len(child.attrs['class']) > 0:\n",
    "                # 对div标签的class进行判别，不同情况分别处理\n",
    "                class_ = child.attrs['class'][0]\n",
    "                if class_ in ['SECONDARY', 'AUTHORS', 'HNUM', 'BY', 'SG', 'PN', 'pagenum', 'TB', 'SIDEBAR', \n",
    "                              'app-brightcove-video', 'nhsuk-body-s nhsuk-u-margin-top-7 nhsuk-u-secondary-text-color']:\n",
    "                    continue\n",
    "\n",
    "                if class_ in ['h1', 'h2', 'h3', 'h4', 'h5']:\n",
    "                    texts.append(content)\n",
    "\n",
    "                elif class_ in ['HD', 'FRTITLE']:\n",
    "                    texts.append(content)\n",
    "\n",
    "                elif class_ == 'P':\n",
    "                    texts.append(content)\n",
    "\n",
    "                else:\n",
    "                    recursive_parser_health(child, texts, class_)\n",
    "                    \n",
    "            elif tag in ['section', 'div', 'ul', 'ol', 'article']:\n",
    "                # 这几类标签 直接递归处理子标签\n",
    "                recursive_parser_health(child, texts, '')\n",
    "                \n",
    "            else:\n",
    "                # 剩余情况直接获取标签内容\n",
    "                texts.append(content)\n",
    "\n",
    "        except Exception as e:\n",
    "            print(e)"
   ]
  },
  {
   "cell_type": "code",
   "execution_count": 30,
   "id": "1242e774",
   "metadata": {},
   "outputs": [],
   "source": [
    "def recursive_parser_mis(item, texts, pre_class):\n",
    "    for child in item:\n",
    "        try:\n",
    "\n",
    "            tag = child.name\n",
    "            \n",
    "            content = child.text.strip()\n",
    "            if len(content) == 0:\n",
    "                continue\n",
    "                \n",
    "                \n",
    "            if tag == 'a' and 'class' in child.attrs:\n",
    "                class_ = child.attrs['class'][0]\n",
    "                if class_ in ['mediaPrmo ss']:\n",
    "                    continue\n",
    "            if tag == 'p' and 'class' in child.attrs:\n",
    "                class_ = child.attrs['class'][0]\n",
    "                if class_ in ['credits']:\n",
    "                    continue\n",
    "            \n",
    "            if tag in ['script', 'link', 'table', 'tbody', 'img', 'iframe']: # 加视频\n",
    "                continue\n",
    "\n",
    "            if tag == 'center':\n",
    "                texts.append(content)\n",
    "                continue\n",
    "\n",
    "            \n",
    "            if tag == 'section' and 'id' in child.attrs and len(child.attrs['id']) > 0:\n",
    "                id_ = child.attrs['id']\n",
    "                if id_ in ['sponsors']:\n",
    "                    continue\n",
    "            \n",
    "            if tag == 'div' and 'class' in child.attrs and len(child.attrs['class']) > 0:\n",
    "                # 对div标签的class进行判别，不同情况分别处理\n",
    "                class_ = child.attrs['class'][0]\n",
    "                if class_ in ['SECONDARY', 'AUTHORS', 'HNUM', 'BY', 'SG', 'PN', 'pagenum', 'TB', 'SIDEBAR', \n",
    "                              'app-brightcove-video', 'nhsuk-body-s nhsuk-u-margin-top-7 nhsuk-u-secondary-text-color']:\n",
    "                    continue\n",
    "\n",
    "                if class_ in ['h1', 'h2', 'h3', 'h4', 'h5']:\n",
    "                    texts.append(content)\n",
    "\n",
    "                elif class_ in ['HD', 'FRTITLE']:\n",
    "                    texts.append(content)\n",
    "\n",
    "                elif class_ == 'P':\n",
    "                    texts.append(content)\n",
    "\n",
    "                else:\n",
    "                    recursive_parser_medicines(child, texts, class_)\n",
    "                    \n",
    "            elif tag in ['section', 'div', 'ul', 'ol', 'article']:\n",
    "                # 这几类标签 直接递归处理子标签\n",
    "                recursive_parser_medicines(child, texts, '')\n",
    "                \n",
    "            else:\n",
    "                # 剩余情况直接获取标签内容\n",
    "                texts.append(content)\n",
    "\n",
    "        except Exception as e:\n",
    "            print(e)"
   ]
  },
  {
   "cell_type": "code",
   "execution_count": 31,
   "id": "b12475c5",
   "metadata": {},
   "outputs": [],
   "source": [
    "def parser(input_path, output_path, tag, results):\n",
    "    for root, dirs, file_names in os.walk(input_path):\n",
    "        \"\"\"\n",
    "        os.walk()\n",
    "        root 所指的是当前正在遍历的这个文件夹的本身的地址\n",
    "        files_names同样是 list , 内容是该文件夹中所有的文件(不包括子目录)\n",
    "        函数会自动改变root的值使得遍历所有的子文件夹。\n",
    "        所以返回的三元元组的个数为所有子文件夹（包括子子文件夹，子子子文件夹等等）加上1（根文件夹）\n",
    "        \"\"\"\n",
    "        \n",
    "        for file_name in file_names:\n",
    "            html_file = os.path.join(root, file_name)\n",
    "            html_content = open(html_file, 'r', encoding='utf-8').read()\n",
    "            selector = Selector(text=html_content)\n",
    "#             try:\n",
    "#                 title = selector.xpath(\"//h1//text()\").extract()[0].strip()\n",
    "#             except Exception as e:\n",
    "#                 print(e)\n",
    "#                 print(html_file)\n",
    "#                 continue\n",
    "            \n",
    "            title = file_name.strip('.html')\n",
    "            \n",
    "            texts = []\n",
    "            \n",
    "            soup = BeautifulSoup(html_content, 'html.parser') \n",
    "            \n",
    "            if tag=='health':\n",
    "                item = soup.find('article')\n",
    "                if item is None:\n",
    "                    print(html_file)\n",
    "                    continue\n",
    "                else:\n",
    "                    recursive_parser_health(item, texts, \"\")  \n",
    "                    content = '\\n'.join(texts)\n",
    "                    if content == \"\":\n",
    "                        continue\n",
    "                    tmp = {\n",
    "                        \"title\": title,\n",
    "                        \"content\": content\n",
    "                    }\n",
    "                    results.append(tmp)\n",
    "                \n",
    "            if tag=='medicines':\n",
    "                item = soup.find('article')\n",
    "                if item is None:\n",
    "                    print(html_file)\n",
    "                    continue\n",
    "                else:\n",
    "                    recursive_parser_medicines(item, texts, \"\")\n",
    "                    content = '\\n'.join(texts)\n",
    "                    if content == \"\":\n",
    "                        continue\n",
    "                    tmp = {\n",
    "                        \"title\": title,\n",
    "                        \"content\": content\n",
    "                    }\n",
    "                    results.append(tmp)\n",
    "            \n",
    "            if tag=='mis':\n",
    "                abstract = soup.find('div',{'class':'nhsuk-u-margin-bottom-8'})\n",
    "                if abstract is None:\n",
    "                    continue\n",
    "                item = soup.find('article')\n",
    "                if item is None:\n",
    "                    print(html_file)\n",
    "                    continue\n",
    "                else:\n",
    "                    recursive_parser_mis(item, texts, \"\")\n",
    "                    content = '\\n'.join(texts)\n",
    "                    if content == \"\":\n",
    "                        continue\n",
    "                    tmp = {\n",
    "                        \"title\": title,\n",
    "                        \"content\": content\n",
    "                    }\n",
    "                    results.append(tmp)"
   ]
  },
  {
   "cell_type": "code",
   "execution_count": 13,
   "id": "62ddffdc",
   "metadata": {
    "scrolled": true
   },
   "outputs": [
    {
     "name": "stdout",
     "output_type": "stream",
     "text": [
      "health\n",
      "medicines\n",
      "D:/Intern_Project/7_nhs/medicines_html\\indapamide：how-and-when-to-take-indapamide：.html\n"
     ]
    }
   ],
   "source": [
    "tags = ['health', 'medicines']\n",
    "output_path = 'D:/Intern_Project/7_nhs/'\n",
    "for tag in tags: \n",
    "    results = []\n",
    "    mislist = []\n",
    "    print(tag)\n",
    "    source_path = f'D:/Intern_Project/7_nhs/{tag}_html'\n",
    "    parser(source_path, output_path, tag, results, mislist)\n",
    "    with open(f'D:/Intern_Project/7_nhs/{tag}_parser_results.json', 'w', encoding=\"utf-8\") as f:\n",
    "        f.write(json.dumps(results, indent=1, ensure_ascii=False))\n",
    "        # f.write('\\n'.join(results))"
   ]
  },
  {
   "cell_type": "code",
   "execution_count": 47,
   "id": "0c5f72de",
   "metadata": {},
   "outputs": [
    {
     "name": "stdout",
     "output_type": "stream",
     "text": [
      "D:/Intern_Project/7_nhs/medicines_html\\indapamide：how-and-when-to-take-indapamide：.html\n"
     ]
    }
   ],
   "source": [
    "tag = 'medicines'\n",
    "source_path = f'D:/Intern_Project/7_nhs/{tag}_html'\n",
    "\n",
    "results = []\n",
    "\n",
    "parser(source_path, output_path, tag, results)"
   ]
  },
  {
   "cell_type": "code",
   "execution_count": 48,
   "id": "d1498ff4",
   "metadata": {},
   "outputs": [],
   "source": [
    "tag = 'mis'\n",
    "source_path = f'D:/Intern_Project/7_nhs/medicineslist_html/'\n",
    "\n",
    "mis_results = []\n",
    "\n",
    "parser(source_path, output_path, tag, mis_results)"
   ]
  },
  {
   "cell_type": "code",
   "execution_count": 50,
   "id": "f94ae64d",
   "metadata": {},
   "outputs": [
    {
     "name": "stdout",
     "output_type": "stream",
     "text": [
      "1257\n",
      "85\n"
     ]
    }
   ],
   "source": [
    "print(len(results))\n",
    "print(len(mis_results))"
   ]
  },
  {
   "cell_type": "code",
   "execution_count": 51,
   "id": "e5021081",
   "metadata": {},
   "outputs": [],
   "source": [
    "results.extend(mis_results)"
   ]
  },
  {
   "cell_type": "code",
   "execution_count": 52,
   "id": "6e00a24d",
   "metadata": {},
   "outputs": [
    {
     "name": "stdout",
     "output_type": "stream",
     "text": [
      "1342\n"
     ]
    }
   ],
   "source": [
    "print(len(results))"
   ]
  },
  {
   "cell_type": "code",
   "execution_count": 53,
   "id": "72f4e66b",
   "metadata": {},
   "outputs": [],
   "source": [
    "with open(f'D:/Intern_Project/7_nhs/all_medicines_parser_results.json', 'w', encoding=\"utf-8\") as f:\n",
    "    f.write(json.dumps(results, indent=1, ensure_ascii=False))"
   ]
  },
  {
   "cell_type": "code",
   "execution_count": 17,
   "id": "3fd8187e",
   "metadata": {},
   "outputs": [
    {
     "name": "stdout",
     "output_type": "stream",
     "text": [
      "1226\n"
     ]
    }
   ],
   "source": [
    "with open('D:/Intern_Project/7_nhs/health_parser_results.json', 'r', encoding='utf-8') as f:\n",
    "    health_parser_results = json.load(f)\n",
    "print(len(health_parser_results))"
   ]
  },
  {
   "cell_type": "code",
   "execution_count": 19,
   "id": "e7669387",
   "metadata": {},
   "outputs": [],
   "source": [
    "for item in health_parser_results:\n",
    "    item['content'] = item['content'].split(\"Further information\")[0].split(\"Page last reviewed\")[0]"
   ]
  },
  {
   "cell_type": "code",
   "execution_count": 23,
   "id": "75b3b7b9",
   "metadata": {},
   "outputs": [
    {
     "name": "stdout",
     "output_type": "stream",
     "text": [
      "{'title': 'Abdominal aortic aneurys', 'content': \"An abdominal aortic aneurysm (AAA) is a swelling in the aorta, the artery that carries blood from the heart to the tummy. Most aneurysms do not cause any problems, but they can be serious because there's a risk they could burst (rupture).\\nSymptoms of abdominal aortic aneurysm\\nAbdominal aortic aneurysm often has no symptoms.\\nYou usually only find out you have one during an abdominal aortic aneurysm screening test or during tests for another condition.\\nIf an aneurysm gets bigger, you might sometimes notice:\\ntummy or back pain\\na pulsing feeling in your tummy\\nNon-urgent advice:  See a GP if:\\nyou have tummy or back pain that does not go away or keeps coming back\\nyou feel a lump in your tummy\\nThese symptoms can be caused by lots of things and do not mean you have an abdominal aortic aneurysm, but it's best to get them checked.\\nImmediate action required: Call 999 if you or someone else:\\nhave sudden, severe pain in your tummy or back\\nare struggling to breathe or have stopped breathing\\nhave pale or grey skin (on brown or black skin this may be easier to see on the palms of the hands or soles of the feet)\\nlose consciousness\\nThese could be signs of an abdominal aortic aneurysm bursting (rupturing). This is a life-threatening emergency that needs to be treated in hospital as soon as possible.\\nTests for abdominal aortic aneurysm\\nThe main test to find out if you have an abdominal aortic aneurysm is an ultrasound scan of your tummy.\\nA small device is placed on your tummy and images of the inside of your tummy will be shown on a screen.\\nYou'll usually be told if you have an aneurysm at the end of the test.\\nYou’ll also be told how big it is:\\nsmall (3cm to 4.4cm or smaller)\\nmedium (4.5cm to 5.4cm)\\nlarge (5.5cm or bigger)\\nScreening for abdominal aortic aneurysm\\nAn ultrasound test is offered to all men when they turn 65, as they're most at risk of getting an abdominal aortic aneurysm.\\nThis is called abdominal aortic aneurysm screening.\\nTreatment for abdominal aortic aneurysm\\nTreatment for an abdominal aortic aneurysm usually depends on how big it is and if you have symptoms.\\nIf it's small, lifestyle changes such as quitting smoking and eating healthily may be recommended to help stop it getting bigger.\\nSometimes you may need:\\nmedicines to lower your blood pressure and cholesterol level, which may help stop the aneurysm getting bigger\\nsurgery to reduce the risk of the aneurysm bursting - this may be done if your AAA is large (5.5cm or bigger), is quickly getting bigger or is painful\\nSurgery has risks and side effects which your doctor or surgeon should discuss with you.\\nAbdominal aortic aneurysms often get bigger over time. You'll usually need regular scans to see if it's getting bigger.\\nIf your aneurysm ruptures, you’ll need emergency surgery to treat it.\\nHow to lower your risk of getting an abdominal aortic aneurysm\\nMaking healthy lifestyle changes can help lower your risk of getting an abdominal aortic aneurysm, or stop one from getting bigger.\\nDo\\neat healthily\\nexercise regularly\\ntry to lose weight if you're overweight\\ntry to cut down on alcohol\\nDon’t\\ndo not smoke\\nInformation:\\nFind out how to get help to quit smoking\\nCauses of an abdominal aortic aneurysm\\nAn abdominal aortic aneurysm happens when the main artery that carries blood from the heart to the tummy (the aorta) becomes weakened.\\nIt's not always clear what causes it, but some people have a higher chance of getting one.\\nYou’re more at risk if you:\\nare male and aged 65 or over\\nsmoke or used to smoke\\nhave high blood pressure\\nhave high cholesterol\\nhave a close relative who's had an abdominal aortic aneurysm\\nhave coronary or peripheral artery disease (atherosclerosis)\\nhave chronic obstructive pulmonary disease (COPD)\\nhave a condition such as Marfan syndrome\\nSometimes an abdominal aortic aneurysm can be caused by an infection, but this is rare.\\n\"}\n"
     ]
    }
   ],
   "source": [
    "print(health_parser_results[3])"
   ]
  }
 ],
 "metadata": {
  "kernelspec": {
   "display_name": "Python 3 (ipykernel)",
   "language": "python",
   "name": "python3"
  },
  "language_info": {
   "codemirror_mode": {
    "name": "ipython",
    "version": 3
   },
   "file_extension": ".py",
   "mimetype": "text/x-python",
   "name": "python",
   "nbconvert_exporter": "python",
   "pygments_lexer": "ipython3",
   "version": "3.9.12"
  }
 },
 "nbformat": 4,
 "nbformat_minor": 5
}
