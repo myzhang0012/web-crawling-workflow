{
 "cells": [
  {
   "cell_type": "markdown",
   "id": "50ee8c04",
   "metadata": {},
   "source": [
    "https://www.rxlist.com/"
   ]
  },
  {
   "cell_type": "code",
   "execution_count": 1,
   "id": "bafb3218",
   "metadata": {},
   "outputs": [],
   "source": [
    "import re\n",
    "import os\n",
    "import requests\n",
    "import hashlib\n",
    "import json\n",
    "import time\n",
    "import random\n",
    "import string\n",
    "import pandas as pd\n",
    "from tqdm import tqdm\n",
    "import codecs\n",
    "from glob import glob\n",
    "from bs4 import BeautifulSoup\n",
    "from scrapy.selector import Selector\n",
    "from urllib.parse import unquote\n",
    "from concurrent.futures import ThreadPoolExecutor, as_completed"
   ]
  },
  {
   "cell_type": "code",
   "execution_count": 2,
   "id": "7db41641",
   "metadata": {},
   "outputs": [],
   "source": [
    "# 定义随机的useragent\n",
    "from fake_useragent import UserAgent\n",
    "ua = UserAgent()\n",
    "\n",
    "# 设置代理ip\n",
    "ipdata = pd.read_excel('D:/Intern_Project/代理ip的地址2000.xlsx')\n",
    "ipdata.fillna(\"\",inplace = True)\n",
    "\n",
    "proxieslist = []\n",
    "\n",
    "for i in ipdata.index.values:\n",
    "    line = ipdata.loc[i,['HTTP']].to_dict()\n",
    "    proxieslist.append(line)\n",
    "    \n",
    "# randomproxy = random.choice(proxieslist)\n",
    "\n",
    "# 设置消息头\n",
    "headers_pc = {\n",
    "    'User-Agent': ua.random,\n",
    "    'Accept': 'text/html,application/xhtml+xml,application/xml;q=0.9,image/avif,image/webp,image/apng,*/*;q=0.8,application/signed-exchange;v=b3;q=0.7'\n",
    "}\n",
    "\n",
    "# params = {\n",
    "#     'ie': 'UTF-8',\n",
    "#     'wd': 'Python'\n",
    "# }\n"
   ]
  },
  {
   "cell_type": "code",
   "execution_count": 3,
   "id": "09b87a34",
   "metadata": {},
   "outputs": [],
   "source": [
    "def changeparams():\n",
    "    headers_pc = {\n",
    "    'User-Agent': ua.random,\n",
    "    'Accept': 'text/html,application/xhtml+xml,application/xml;q=0.9,image/avif,image/webp,image/apng,*/*;q=0.8,application/signed-exchange;v=b3;q=0.7'\n",
    "    }\n",
    "    randomproxy = random.choice(proxieslist)\n",
    "    #  访问百度服务器，获取cookie\n",
    "    res = requests.get('https://www.rxlist.com/supplements/alpha_a.htm', headers=headers_pc, proxies= randomproxy,)\n",
    "    # 将cookieJar数据转化为字典，s\n",
    "    cookie_dict = requests.utils.dict_from_cookiejar(res.cookies)\n",
    "    return headers_pc, randomproxy, cookie_dict"
   ]
  },
  {
   "cell_type": "markdown",
   "id": "b92b5ff2",
   "metadata": {},
   "source": [
    "# 1、先获取文章链接列表"
   ]
  },
  {
   "cell_type": "code",
   "execution_count": 28,
   "id": "1d67e503",
   "metadata": {},
   "outputs": [],
   "source": [
    "def get_term_url(url, tag, letter, headers_pc, randomproxy, cookie_dict):\n",
    "    results = []\n",
    "    # pbar.set_description(letter)\n",
    "    try:\n",
    "        requests.adapters.DEFAULT_RETRIES = 12 # 增加重连次数\n",
    "        s = requests.session()\n",
    "        s.keep_alive = False # 关闭多余连接\n",
    "\n",
    "        r = requests.get(url, headers=headers_pc, proxies=randomproxy, cookies=cookie_dict, timeout=10)\n",
    "#             encoding = cchardet.detect(r.content)['encoding']\n",
    "#             html = r.content.decode(encoding)\n",
    "        r.encoding = 'utf-8'\n",
    "        html = r.text\n",
    "#         if os.path.exists(f\"D:/Intern_Project/8_RxList/{tag}_{letter}列表页.html\"):   \n",
    "#             return None\n",
    "        with open(f'D:/Intern_Project/8_RxList/{tag}_{letter}列表页.html', 'w+', encoding='utf-8') as f:\n",
    "             f.write(html)\n",
    "\n",
    "        selector = Selector(text=html)\n",
    "        termUrl_list = selector.xpath(\n",
    "            \"//div[@id='AZ_container']/div[@class='AZ_results']/ul/li/a\")\n",
    "        #print(len(termUrl_list))\n",
    "        for termUrl in termUrl_list:\n",
    "            url = termUrl.xpath('./@href').extract()[0]\n",
    "            term = termUrl.xpath('./text()').extract()[0]\n",
    "            # print(term)\n",
    "            tmp = {\n",
    "                'term': term,\n",
    "                'url': url\n",
    "            }\n",
    "            results.append(tmp)\n",
    "            # time.sleep()\n",
    "        # pbar.update(1)\n",
    "    except Exception as e:\n",
    "        print(e)\n",
    "    return results"
   ]
  },
  {
   "cell_type": "code",
   "execution_count": 29,
   "id": "b632ba48",
   "metadata": {},
   "outputs": [],
   "source": [
    "def task_monitor(task_list, mt_pool, results):\n",
    "    while len(task_list) > 0:\n",
    "        tmp_task_list = []\n",
    "        for future in task_list:\n",
    "            if future.done():\n",
    "                result = future.result()\n",
    "                results.extend(result)\n",
    "            else:\n",
    "                tmp_task_list.append(future)\n",
    "        \n",
    "        task_list = tmp_task_list"
   ]
  },
  {
   "cell_type": "code",
   "execution_count": 30,
   "id": "051449b2",
   "metadata": {},
   "outputs": [
    {
     "name": "stdout",
     "output_type": "stream",
     "text": [
      "drugs\n",
      "supplements\n",
      "drugs_class\n",
      "drugs_comparasion\n"
     ]
    }
   ],
   "source": [
    "letters = [chr(i) for i in range(97, 123)] # 生成26个英文字母的列表\n",
    "\n",
    "# pbar = tqdm(total=len(letters))\n",
    "tags = ['drugs', 'supplements', 'drugs_class', 'drugs_comparasion']\n",
    "\n",
    "for tag in tags:\n",
    "    results = []\n",
    "    all_craw_tasks = []\n",
    "    print(tag)\n",
    "    headers_pc, randomproxy, cookie_dict = changeparams()\n",
    "    with ThreadPoolExecutor(max_workers=10) as mt_pool:\n",
    "        for letter in letters:\n",
    "            if tag == 'drugs' or 'supplements':\n",
    "                tag_url = f'https://www.rxlist.com/{tag}/alpha_{letter}.htm'\n",
    "            if tag == 'drugs_class':\n",
    "                tag_url = f'https://www.rxlist.com/script/main/alphaidx.asp?p={letter}_rx-class'\n",
    "            if tag == 'drugs_comparasion':\n",
    "                tag_url = f'https://www.rxlist.com/script/main/alphaidx.asp?p={letter}_rx-dvd'\n",
    "            tmp_task = mt_pool.submit(get_term_url, tag_url, tag, letter, headers_pc, randomproxy, cookie_dict)\n",
    "            all_craw_tasks.append(tmp_task)\n",
    "        \n",
    "        task_monitor(all_craw_tasks, mt_pool, results)\n",
    "        with open(f'D:/Intern_Project/8_RxList/{tag}术语链接列表.json', 'w', encoding='utf-8') as f:\n",
    "            f.write(json.dumps(results, indent=2, ensure_ascii=False))"
   ]
  },
  {
   "cell_type": "code",
   "execution_count": 13,
   "id": "a9ca385f",
   "metadata": {},
   "outputs": [
    {
     "name": "stdout",
     "output_type": "stream",
     "text": [
      "{'term': 'Avocado Sugar Extract', 'url': 'https://www.rxlist.com/avocado_sugar_extract/supplements.htm'}\n"
     ]
    }
   ],
   "source": [
    "# 用来测试哪些页面能简单获取到\n",
    "headers_pc, randomproxy, cookie_dict = changeparams()\n",
    "            \n",
    "requests.adapters.DEFAULT_RETRIES = 12 # 增加重连次数\n",
    "s = requests.session()\n",
    "s.keep_alive = False # 关闭多余连接\n",
    "\n",
    "# url = f'https://www.medicinenet.com/diseases_and_conditions/alpha_u.htm'\n",
    "url = f'https://www.rxlist.com/supplements/alpha_a.htm'\n",
    "# r = requests.get(url, headers=headers_pc, params=params, proxies=randomproxy, cookies=cookie_dict, timeout=10)\n",
    "try:  \n",
    "    # 外网不能加params？？？\n",
    "    r = requests.get(url, headers=headers_pc, proxies=randomproxy, cookies=cookie_dict, timeout=10)\n",
    "    \n",
    "    \n",
    "    #             encoding = cchardet.detect(r.content)['encoding']\n",
    "    #             html = r.content.decode(encoding)\n",
    "    r.encoding = 'utf-8'\n",
    "    html = r.text\n",
    "    with open('D:/Intern_Project/8_RxList/test列表页2.html', 'w+', encoding='utf-8') as f:\n",
    "        f.write(html)\n",
    "except Exception as e:\n",
    "    print(e)\n",
    "\n",
    "selector = Selector(text=html)\n",
    "termUrl_list = selector.xpath(\n",
    "    \"//div[@id='AZ_container']/div[@class='AZ_results']/ul/li/a\")\n",
    "    \n",
    "for termUrl in termUrl_list:\n",
    "    url = termUrl.xpath('./@href').extract()[0]\n",
    "    term = termUrl.xpath('./text()').extract()[0]\n",
    "    # print(term)\n",
    "    tmp = {\n",
    "        'term': term,\n",
    "        'url': url\n",
    "    }\n",
    "\n",
    "print(tmp)"
   ]
  }
 ],
 "metadata": {
  "kernelspec": {
   "display_name": "Python 3 (ipykernel)",
   "language": "python",
   "name": "python3"
  },
  "language_info": {
   "codemirror_mode": {
    "name": "ipython",
    "version": 3
   },
   "file_extension": ".py",
   "mimetype": "text/x-python",
   "name": "python",
   "nbconvert_exporter": "python",
   "pygments_lexer": "ipython3",
   "version": "3.9.12"
  }
 },
 "nbformat": 4,
 "nbformat_minor": 5
}
