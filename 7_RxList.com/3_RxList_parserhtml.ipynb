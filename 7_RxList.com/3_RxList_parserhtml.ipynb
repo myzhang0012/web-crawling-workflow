{
 "cells": [
  {
   "cell_type": "code",
   "execution_count": 1,
   "id": "bafb3218",
   "metadata": {},
   "outputs": [],
   "source": [
    "import re\n",
    "import os\n",
    "import json\n",
    "import pandas as pd\n",
    "from tqdm import tqdm\n",
    "from glob import glob\n",
    "from bs4 import BeautifulSoup\n",
    "from scrapy.selector import Selector\n",
    "import urllib "
   ]
  },
  {
   "cell_type": "markdown",
   "id": "df7547da",
   "metadata": {},
   "source": [
    "# 解析"
   ]
  },
  {
   "cell_type": "code",
   "execution_count": 29,
   "id": "77ea338e",
   "metadata": {},
   "outputs": [],
   "source": [
    "def recursive_parser(item, texts, pre_class):\n",
    "    for child in item:\n",
    "        try:\n",
    "#             if isinstance(child, str):\n",
    "#                 content = child.strip()\n",
    "#                 if len(content) > 0:\n",
    "#                     texts.append(content)\n",
    "#                 continue\n",
    "\n",
    "            tag = child.name\n",
    "            \n",
    "            content = child.text.strip()\n",
    "            if len(content) == 0:\n",
    "                continue\n",
    "            \n",
    "            if tag == 'ul' and 'class' in child.attrs:\n",
    "                class_ = child.attrs['class'][0]\n",
    "                if class_ in ['vitTOC']:\n",
    "                    continue\n",
    "            if tag == 'a' and 'class' in child.attrs:\n",
    "                class_ = child.attrs['class'][0]\n",
    "                if class_ in ['mediaPrmo ss']:\n",
    "                    continue\n",
    "            if tag == 'p' and 'class' in child.attrs:\n",
    "                class_ = child.attrs['class'][0]\n",
    "                if class_ in ['credits']:\n",
    "                    continue\n",
    "            \n",
    "            if tag in ['script', 'link', 'table', 'tbody', 'img', 'iframe']: # 加视频\n",
    "                continue\n",
    "\n",
    "            if tag == 'center':\n",
    "                texts.append(content)\n",
    "                continue\n",
    "\n",
    "            if tag == 'div' and 'id' in child.attrs and len(child.attrs['id']) > 0:\n",
    "                id_ = child.attrs['id']\n",
    "                if id_ in ['printpreview_header', 'fdaWrapper', 'adCont']:\n",
    "                    continue\n",
    "            \n",
    "            if tag == 'section' and 'id' in child.attrs and len(child.attrs['id']) > 0:\n",
    "                id_ = child.attrs['id']\n",
    "                if id_ in ['sponsors']:\n",
    "                    continue\n",
    "            \n",
    "            if tag == 'div' and 'class' in child.attrs and len(child.attrs['class']) > 0:\n",
    "                # 对div标签的class进行判别，不同情况分别处理\n",
    "                class_ = child.attrs['class'][0]\n",
    "                if class_ in ['SECONDARY', 'AUTHORS', 'HNUM', 'BY', 'SG', 'PN', 'pagenum', 'TB', 'SIDEBAR', \n",
    "                              'otherNames', 'apPageBottom', 'contentad', 'medianet', 'from_webmd', 'toc_lite', 'monolastreviewed', 'drug_rel_main', 'disclaimer']:\n",
    "                    continue\n",
    "\n",
    "                if class_ in ['h1', 'h2', 'h3', 'h4', 'h5']:\n",
    "                    texts.append(content)\n",
    "\n",
    "                elif class_ in ['HD', 'FRTITLE']:\n",
    "                    texts.append(content)\n",
    "\n",
    "                elif class_ == 'P':\n",
    "                    texts.append(content)\n",
    "\n",
    "                else:\n",
    "                    recursive_parser(child, texts, class_)\n",
    "                    \n",
    "            elif tag in ['section', 'div', 'ul', 'ol', 'article']:\n",
    "                # 这几类标签 直接递归处理子标签\n",
    "                recursive_parser(child, texts, '')\n",
    "                \n",
    "            else:\n",
    "                # 剩余情况直接获取标签内容\n",
    "                texts.append(content)\n",
    "\n",
    "        except Exception as e:\n",
    "            print(e)"
   ]
  },
  {
   "cell_type": "code",
   "execution_count": 30,
   "id": "b12475c5",
   "metadata": {},
   "outputs": [],
   "source": [
    "def parser(input_path, output_path, tag, results):\n",
    "    for root, dirs, file_names in os.walk(input_path):\n",
    "        \"\"\"\n",
    "        os.walk()\n",
    "        root 所指的是当前正在遍历的这个文件夹的本身的地址\n",
    "        files_names同样是 list , 内容是该文件夹中所有的文件(不包括子目录)\n",
    "        函数会自动改变root的值使得遍历所有的子文件夹。\n",
    "        所以返回的三元元组的个数为所有子文件夹（包括子子文件夹，子子子文件夹等等）加上1（根文件夹）\n",
    "        \"\"\"\n",
    "        \n",
    "        for file_name in file_names:\n",
    "            html_file = os.path.join(root, file_name)\n",
    "            html_content = open(html_file, 'r', encoding='utf-8').read()\n",
    "            selector = Selector(text=html_content)\n",
    "            try:\n",
    "                title = selector.xpath(\"//h1//text()\").extract()[0].strip()\n",
    "            except Exception as e:\n",
    "                print(e)\n",
    "                print(html_file)\n",
    "                continue\n",
    "\n",
    "            texts = []\n",
    "            \n",
    "            soup = BeautifulSoup(html_content, 'html.parser') \n",
    "\n",
    "            if tag=='supplements':\n",
    "                item = soup.find('div',{'class':'w-full'})\n",
    "            if tag=='drugs':\n",
    "                item = soup.find('article',{'class':'pageContainer'})\n",
    "            if tag=='drugs_comparasion':\n",
    "                item = soup.find('article',{'id':'article_rdr'})\n",
    "                if item is None:\n",
    "                    item = soup.find('article',{'class':'pageContainer'})\n",
    "            if tag=='drugs_class':\n",
    "                item = soup.find('div',{'class':'w-full'})\n",
    "\n",
    "            if item is None:\n",
    "                print(html_file)\n",
    "                continue\n",
    "            else:\n",
    "                recursive_parser(item, texts, \"\")  \n",
    "                content = '\\n'.join(texts)\n",
    "                if content == \"\":\n",
    "                    continue\n",
    "                tmp = {\n",
    "                    \"title\": title,\n",
    "                    \"content\": content\n",
    "                }\n",
    "                results.append(tmp)"
   ]
  },
  {
   "cell_type": "code",
   "execution_count": 31,
   "id": "62ddffdc",
   "metadata": {
    "scrolled": true
   },
   "outputs": [
    {
     "name": "stdout",
     "output_type": "stream",
     "text": [
      "supplements\n",
      "drugs\n",
      "drugs_comparasion\n",
      "drugs_class\n"
     ]
    }
   ],
   "source": [
    "tags = ['supplements', 'drugs', 'drugs_comparasion', 'drugs_class']\n",
    "output_path = 'D:/Intern_Project/8_RxList/'\n",
    "for tag in tags: \n",
    "    results = []\n",
    "    print(tag)\n",
    "    source_path = f'D:/Intern_Project/8_RxList/{tag}_htmls'\n",
    "    parser(source_path, output_path, tag, results)\n",
    "    with open(f'D:/Intern_Project/8_RxList/{tag}_parser_results.json', 'w', encoding=\"utf-8\") as f:\n",
    "        f.write(json.dumps(results, indent=1, ensure_ascii=False))\n",
    "        # f.write('\\n'.join(results))"
   ]
  },
  {
   "cell_type": "code",
   "execution_count": 23,
   "id": "26add919",
   "metadata": {},
   "outputs": [
    {
     "name": "stdout",
     "output_type": "stream",
     "text": [
      "16480\n"
     ]
    }
   ],
   "source": [
    "print(len(results))"
   ]
  },
  {
   "cell_type": "code",
   "execution_count": 52,
   "id": "e7669387",
   "metadata": {},
   "outputs": [],
   "source": [
    "for item in supplements_results:\n",
    "    item['content'] = item['content'].replace(\n",
    "        \"QUESTION\\nNext to red peppers, you can get the most vitamin C from ________________.\",\"\")"
   ]
  },
  {
   "cell_type": "code",
   "execution_count": 55,
   "id": "e7eb97a2",
   "metadata": {},
   "outputs": [],
   "source": [
    "with open(f'D:/Intern_Project/8_RxList/parser_results/supplements_parser_results.json', 'w', encoding=\"utf-8\") as f:\n",
    "        f.write(json.dumps(supplements_results, indent=1, ensure_ascii=False))"
   ]
  },
  {
   "cell_type": "code",
   "execution_count": 61,
   "id": "3fd8187e",
   "metadata": {},
   "outputs": [
    {
     "name": "stdout",
     "output_type": "stream",
     "text": [
      "8110\n"
     ]
    }
   ],
   "source": [
    "with open('D:/Intern_Project/8_RxList/parser_results/drugs_parser_results.json', 'r', encoding='utf-8') as f:\n",
    "    drugs_parser_results = json.load(f)\n",
    "print(len(drugs_parser_results))"
   ]
  },
  {
   "cell_type": "code",
   "execution_count": 62,
   "id": "8bcfe57d",
   "metadata": {},
   "outputs": [
    {
     "name": "stdout",
     "output_type": "stream",
     "text": [
      "1193\n"
     ]
    }
   ],
   "source": [
    "with open('D:/Intern_Project/8_RxList/parser_results/supplements_parser_results.json', 'r', encoding='utf-8') as f:\n",
    "    supplements_results = json.load(f)\n",
    "print(len(supplements_results))"
   ]
  },
  {
   "cell_type": "code",
   "execution_count": 63,
   "id": "d6cc53bf",
   "metadata": {},
   "outputs": [
    {
     "name": "stdout",
     "output_type": "stream",
     "text": [
      "1804\n"
     ]
    }
   ],
   "source": [
    "with open('D:/Intern_Project/8_RxList/parser_results/drugs_comparasion_parser_results.json', 'r', encoding='utf-8') as f:\n",
    "    drugs_comparasion_parser_results = json.load(f)\n",
    "print(len(drugs_comparasion_parser_results))"
   ]
  },
  {
   "cell_type": "code",
   "execution_count": 64,
   "id": "823f7642",
   "metadata": {},
   "outputs": [
    {
     "name": "stdout",
     "output_type": "stream",
     "text": [
      "750\n"
     ]
    }
   ],
   "source": [
    "with open('D:/Intern_Project/8_RxList/parser_results/drugs_class_parser_results.json', 'r', encoding='utf-8') as f:\n",
    "    drugs_class_parser_results = json.load(f)\n",
    "print(len(drugs_class_parser_results))"
   ]
  },
  {
   "cell_type": "code",
   "execution_count": null,
   "id": "22c704b0",
   "metadata": {},
   "outputs": [],
   "source": []
  }
 ],
 "metadata": {
  "kernelspec": {
   "display_name": "Python 3 (ipykernel)",
   "language": "python",
   "name": "python3"
  },
  "language_info": {
   "codemirror_mode": {
    "name": "ipython",
    "version": 3
   },
   "file_extension": ".py",
   "mimetype": "text/x-python",
   "name": "python",
   "nbconvert_exporter": "python",
   "pygments_lexer": "ipython3",
   "version": "3.9.12"
  }
 },
 "nbformat": 4,
 "nbformat_minor": 5
}
