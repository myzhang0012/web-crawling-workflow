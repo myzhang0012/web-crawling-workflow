{
 "cells": [
  {
   "cell_type": "code",
   "execution_count": 1,
   "id": "186c9b5c",
   "metadata": {},
   "outputs": [],
   "source": [
    "import re\n",
    "import os\n",
    "import requests\n",
    "import hashlib\n",
    "import json\n",
    "import time\n",
    "import random\n",
    "import string\n",
    "import pandas as pd\n",
    "from tqdm import tqdm\n",
    "import codecs\n",
    "from glob import glob\n",
    "from bs4 import BeautifulSoup\n",
    "from scrapy.selector import Selector\n",
    "from urllib.parse import unquote\n",
    "from concurrent.futures import ThreadPoolExecutor, as_completed\n",
    "from lxml import etree"
   ]
  },
  {
   "cell_type": "code",
   "execution_count": 2,
   "id": "9e73238b",
   "metadata": {},
   "outputs": [],
   "source": [
    "# 定义随机的useragent\n",
    "from fake_useragent import UserAgent\n",
    "ua = UserAgent()\n",
    "\n",
    "# 设置代理ip\n",
    "ipdata = pd.read_excel('D:/Intern_Project/代理ip的地址2000.xlsx')\n",
    "ipdata.fillna(\"\",inplace = True)\n",
    "\n",
    "proxieslist = []\n",
    "\n",
    "for i in ipdata.index.values:\n",
    "    line = ipdata.loc[i,['HTTP']].to_dict()\n",
    "    proxieslist.append(line)\n",
    "    \n",
    "# randomproxy = random.choice(proxieslist)\n",
    "\n",
    "\n",
    "params = {\n",
    "    'ie': 'UTF-8',\n",
    "    'wd': 'Python'\n",
    "}\n"
   ]
  },
  {
   "cell_type": "code",
   "execution_count": 3,
   "id": "d13801b5",
   "metadata": {},
   "outputs": [],
   "source": [
    "def changeparams():\n",
    "    headers_pc = {\n",
    "        'User-Agent': ua.random,\n",
    "        'Accept': 'text/html,application/xhtml+xml,application/xml;q=0.9,image/avif,image/webp,image/apng,*/*;q=0.8,application/signed-exchange;v=b3;q=0.7'\n",
    "    }\n",
    "    randomproxy = random.choice(proxieslist)\n",
    "#     try:\n",
    "#         res = requests.get('https://www.health.com/diseases-conditions', headers=headers_pc, proxies= randomproxy)\n",
    "#         # 将cookieJar数据转化为字典，s\n",
    "#         cookie_dict = requests.utils.dict_from_cookiejar(res.cookies)\n",
    "#     except Exception as e:\n",
    "#         time.sleep(3)\n",
    "#         headers_pc = {\n",
    "#         'User-Agent': ua.random,\n",
    "#         'Accept': 'text/html,application/xhtml+xml,application/xml;q=0.9,image/avif,image/webp,image/apng,*/*;q=0.8,application/signed-exchange;v=b3;q=0.7'\n",
    "#         }\n",
    "#         randomproxy = random.choice(proxieslist)\n",
    "#         res = requests.get('https://www.health.com/diseases-conditions', headers=headers_pc, proxies= randomproxy)\n",
    "#         # 将cookieJar数据转化为字典，s\n",
    "#         cookie_dict = requests.utils.dict_from_cookiejar(res.cookies)\n",
    "    return headers_pc, randomproxy"
   ]
  },
  {
   "cell_type": "code",
   "execution_count": 4,
   "id": "42aa23db",
   "metadata": {},
   "outputs": [],
   "source": [
    "def get_response(url, headers_pc, randomproxy):\n",
    "    try:\n",
    "        requests.adapters.DEFAULT_RETRIES = 12 # 增加重连次数\n",
    "        s = requests.session()\n",
    "        s.keep_alive = False # 关闭多余连接\n",
    "        \n",
    "        r = requests.get(url, headers=headers_pc, params=params, proxies=randomproxy, timeout=10)\n",
    "        r.encoding = 'utf-8'\n",
    "        return r.text\n",
    "    except Exception as e:\n",
    "        time.sleep(5)\n",
    "        print(e)\n",
    "\n",
    "    return None"
   ]
  },
  {
   "cell_type": "code",
   "execution_count": 5,
   "id": "318abb6e",
   "metadata": {},
   "outputs": [],
   "source": [
    "def get_article_url(url, term, headers_pc, randomproxy):\n",
    "    results = []\n",
    "    try:\n",
    "\n",
    "        html = get_response(url, headers_pc, randomproxy)\n",
    "#             encoding = cchardet.detect(r.content)['encoding']\n",
    "#             html = r.content.decode(encoding)\n",
    "        if os.path.exists(f\"D:/Intern_Project/6_health.com/术语详情页/{term}.html\"):\n",
    "            pbar.update(1)\n",
    "            return None\n",
    "        \n",
    "        with open(f'D:/Intern_Project/6_health.com/术语详情页/{term}.html', 'w+', encoding='utf-8') as f:\n",
    "             f.write(html)\n",
    "\n",
    "#         selector = Selector(text=html)\n",
    "#         articleUrl_list = selector.xpath(\n",
    "#             \"//div[@class='card__content']\")\n",
    "#         #print(len(termUrl_list))\n",
    "#         for articleUrl in articleUrl_list:\n",
    "#             url = articleUrl.xpath('./../@href').extract()[0]\n",
    "#             title = articleUrl.xpath('./span/span/text()').extract()[0].strip()\n",
    "#             # print(term)\n",
    "#             tmp = {\n",
    "#                 'title': title,\n",
    "#                 'url': url\n",
    "#             }\n",
    "#             results.append(tmp)\n",
    "        \n",
    "        time.sleep(2)\n",
    "        \n",
    "        pbar.update(1)\n",
    "    except Exception as e:\n",
    "        print(e)\n",
    "        time.sleep(2)\n",
    "\n",
    "    return results"
   ]
  },
  {
   "cell_type": "code",
   "execution_count": 14,
   "id": "3245c4fd",
   "metadata": {},
   "outputs": [],
   "source": [
    "def task_monitor(task_list, mt_pool, results):\n",
    "    while len(task_list) > 0:\n",
    "        tmp_task_list = []\n",
    "        for future in task_list:\n",
    "            if future.done():\n",
    "                result = future.result()\n",
    "                results.extend(result)\n",
    "            else:\n",
    "                tmp_task_list.append(future)\n",
    "        \n",
    "        task_list = tmp_task_list"
   ]
  },
  {
   "cell_type": "code",
   "execution_count": 15,
   "id": "d18573bc",
   "metadata": {
    "scrolled": true
   },
   "outputs": [
    {
     "name": "stderr",
     "output_type": "stream",
     "text": [
      "  1%|▋                                                                                 | 1/112 [00:05<09:49,  5.31s/it]"
     ]
    },
    {
     "name": "stdout",
     "output_type": "stream",
     "text": [
      "HTTPSConnectionPool(host='www.health.com', port=443): Max retries exceeded with url: /condition/adhd?ie=UTF-8&wd=Python (Caused by SSLError(SSLEOFError(8, 'EOF occurred in violation of protocol (_ssl.c:1129)')))HTTPSConnectionPool(host='www.health.com', port=443): Max retries exceeded with url: /condition/acne?ie=UTF-8&wd=Python (Caused by SSLError(SSLEOFError(8, 'EOF occurred in violation of protocol (_ssl.c:1129)')))\n",
      "\n",
      "HTTPSConnectionPool(host='www.health.com', port=443): Max retries exceeded with url: /condition/anxiety?ie=UTF-8&wd=Python (Caused by SSLError(SSLEOFError(8, 'EOF occurred in violation of protocol (_ssl.c:1129)')))\n",
      "HTTPSConnectionPool(host='www.health.com', port=443): Max retries exceeded with url: /condition/allergy?ie=UTF-8&wd=Python (Caused by SSLError(SSLEOFError(8, 'EOF occurred in violation of protocol (_ssl.c:1129)')))\n",
      "HTTPSConnectionPool(host='www.health.com', port=443): Max retries exceeded with url: /condition/addiction?ie=UTF-8&wd=Python (Caused by SSLError(SSLEOFError(8, 'EOF occurred in violation of protocol (_ssl.c:1129)')))\n",
      "HTTPSConnectionPool(host='www.health.com', port=443): Max retries exceeded with url: /condition/antisocial-personality-disorder?ie=UTF-8&wd=Python (Caused by SSLError(SSLEOFError(8, 'EOF occurred in violation of protocol (_ssl.c:1129)')))HTTPSConnectionPool(host='www.health.com', port=443): Max retries exceeded with url: /condition/anorexia?ie=UTF-8&wd=Python (Caused by SSLError(SSLEOFError(8, 'EOF occurred in violation of protocol (_ssl.c:1129)')))\n",
      "HTTPSConnectionPool(host='www.health.com', port=443): Max retries exceeded with url: /condition/alzheimers?ie=UTF-8&wd=Python (Caused by SSLError(SSLEOFError(8, 'EOF occurred in violation of protocol (_ssl.c:1129)')))\n",
      "HTTPSConnectionPool(host='www.health.com', port=443): Max retries exceeded with url: /condition/anemia?ie=UTF-8&wd=Python (Caused by SSLError(SSLEOFError(8, 'EOF occurred in violation of protocol (_ssl.c:1129)')))\n",
      "\n"
     ]
    },
    {
     "name": "stderr",
     "output_type": "stream",
     "text": [
      "  9%|███████▏                                                                         | 10/112 [00:05<01:14,  1.37it/s]"
     ]
    },
    {
     "name": "stdout",
     "output_type": "stream",
     "text": [
      "HTTPSConnectionPool(host='www.health.com', port=443): Max retries exceeded with url: /condition/asthma?ie=UTF-8&wd=Python (Caused by SSLError(SSLEOFError(8, 'EOF occurred in violation of protocol (_ssl.c:1129)')))\n"
     ]
    },
    {
     "name": "stderr",
     "output_type": "stream",
     "text": [
      " 17%|█████████████▋                                                                   | 19/112 [00:10<00:52,  1.76it/s]"
     ]
    },
    {
     "name": "stdout",
     "output_type": "stream",
     "text": [
      "HTTPSConnectionPool(host='www.health.com', port=443): Max retries exceeded with url: /condition/autoimmune-disease?ie=UTF-8&wd=Python (Caused by SSLError(SSLEOFError(8, 'EOF occurred in violation of protocol (_ssl.c:1129)')))HTTPSConnectionPool(host='www.health.com', port=443): Max retries exceeded with url: /condition/chronic-pain?ie=UTF-8&wd=Python (Caused by SSLError(SSLEOFError(8, 'EOF occurred in violation of protocol (_ssl.c:1129)')))\n",
      "\n",
      "HTTPSConnectionPool(host='www.health.com', port=443): Max retries exceeded with url: /condition/autism?ie=UTF-8&wd=Python (Caused by SSLError(SSLEOFError(8, 'EOF occurred in violation of protocol (_ssl.c:1129)')))\n",
      "HTTPSConnectionPool(host='www.health.com', port=443): Max retries exceeded with url: /condition/birth-control?ie=UTF-8&wd=Python (Caused by SSLError(SSLEOFError(8, 'EOF occurred in violation of protocol (_ssl.c:1129)')))HTTPSConnectionPool(host='www.health.com', port=443): Max retries exceeded with url: /condition/bipolar?ie=UTF-8&wd=Python (Caused by SSLError(SSLEOFError(8, 'EOF occurred in violation of protocol (_ssl.c:1129)')))\n",
      "\n",
      "HTTPSConnectionPool(host='www.health.com', port=443): Max retries exceeded with url: /condition/blood-cancer?ie=UTF-8&wd=Python (Caused by SSLError(SSLEOFError(8, 'EOF occurred in violation of protocol (_ssl.c:1129)')))\n",
      "HTTPSConnectionPool(host='www.health.com', port=443): Max retries exceeded with url: /condition/borderline-personality-disorder?ie=UTF-8&wd=Python (Caused by SSLError(SSLEOFError(8, 'EOF occurred in violation of protocol (_ssl.c:1129)')))\n",
      "HTTPSConnectionPool(host='www.health.com', port=443): Max retries exceeded with url: /condition/breast-cancer-overview?ie=UTF-8&wd=Python (Caused by SSLError(SSLEOFError(8, 'EOF occurred in violation of protocol (_ssl.c:1129)')))HTTPSConnectionPool(host='www.health.com', port=443): Max retries exceeded with url: /condition/bulimia?ie=UTF-8&wd=Python (Caused by SSLError(SSLEOFError(8, 'EOF occurred in violation of protocol (_ssl.c:1129)')))\n",
      "\n",
      "HTTPSConnectionPool(host='www.health.com', port=443): Max retries exceeded with url: /condition/cancer?ie=UTF-8&wd=Python (Caused by SSLError(SSLEOFError(8, 'EOF occurred in violation of protocol (_ssl.c:1129)')))\n"
     ]
    },
    {
     "name": "stderr",
     "output_type": "stream",
     "text": [
      " 27%|█████████████████████▋                                                           | 30/112 [00:15<00:21,  3.86it/s]"
     ]
    },
    {
     "name": "stdout",
     "output_type": "stream",
     "text": [
      "HTTPSConnectionPool(host='www.health.com', port=443): Max retries exceeded with url: /condition/cholesterol?ie=UTF-8&wd=Python (Caused by SSLError(SSLEOFError(8, 'EOF occurred in violation of protocol (_ssl.c:1129)')))HTTPSConnectionPool(host='www.health.com', port=443): Max retries exceeded with url: /condition/cellulitis?ie=UTF-8&wd=Python (Caused by SSLError(SSLEOFError(8, 'EOF occurred in violation of protocol (_ssl.c:1129)')))\n",
      "\n",
      "HTTPSConnectionPool(host='www.health.com', port=443): Max retries exceeded with url: /condition/chronic-fatigue-syndrome?ie=UTF-8&wd=Python (Caused by SSLError(SSLEOFError(8, 'EOF occurred in violation of protocol (_ssl.c:1129)')))\n",
      "HTTPSConnectionPool(host='www.health.com', port=443): Max retries exceeded with url: /condition/colorectal-cancer?ie=UTF-8&wd=Python (Caused by SSLError(SSLEOFError(8, 'EOF occurred in violation of protocol (_ssl.c:1129)')))\n",
      "HTTPSConnectionPool(host='www.health.com', port=443): Max retries exceeded with url: /condition/chronic-pain?ie=UTF-8&wd=Python (Caused by SSLError(SSLEOFError(8, 'EOF occurred in violation of protocol (_ssl.c:1129)')))\n",
      "HTTPSConnectionPool(host='www.health.com', port=443): Max retries exceeded with url: /condition/cold?ie=UTF-8&wd=Python (Caused by SSLError(SSLEOFError(8, 'EOF occurred in violation of protocol (_ssl.c:1129)')))HTTPSConnectionPool(host='www.health.com', port=443): Max retries exceeded with url: /condition/constipation?ie=UTF-8&wd=Python (Caused by SSLError(SSLEOFError(8, 'EOF occurred in violation of protocol (_ssl.c:1129)')))\n",
      "\n",
      "HTTPSConnectionPool(host='www.health.com', port=443): Max retries exceeded with url: /condition/infectious-diseases/coronavirus?ie=UTF-8&wd=Python (Caused by SSLError(SSLEOFError(8, 'EOF occurred in violation of protocol (_ssl.c:1129)')))HTTPSConnectionPool(host='www.health.com', port=443): Max retries exceeded with url: /condition/copd?ie=UTF-8&wd=Python (Caused by SSLError(SSLEOFError(8, 'EOF occurred in violation of protocol (_ssl.c:1129)')))\n",
      "HTTPSConnectionPool(host='www.health.com', port=443): Max retries exceeded with url: /condition/crohns-disease?ie=UTF-8&wd=Python (Caused by SSLError(SSLEOFError(8, 'EOF occurred in violation of protocol (_ssl.c:1129)')))\n",
      "\n"
     ]
    },
    {
     "name": "stderr",
     "output_type": "stream",
     "text": [
      " 30%|████████████████████████▌                                                        | 34/112 [00:20<00:38,  2.01it/s]"
     ]
    },
    {
     "name": "stdout",
     "output_type": "stream",
     "text": [
      "HTTPSConnectionPool(host='www.health.com', port=443): Max retries exceeded with url: /condition/diarrhea?ie=UTF-8&wd=Python (Caused by SSLError(SSLEOFError(8, 'EOF occurred in violation of protocol (_ssl.c:1129)')))\n",
      "HTTPSConnectionPool(host='www.health.com', port=443): Max retries exceeded with url: /condition/depression?ie=UTF-8&wd=Python (Caused by SSLError(SSLEOFError(8, 'EOF occurred in violation of protocol (_ssl.c:1129)')))\n",
      "HTTPSConnectionPool(host='www.health.com', port=443): Max retries exceeded with url: /condition/digestive-health?ie=UTF-8&wd=Python (Caused by SSLError(SSLEOFError(8, 'EOF occurred in violation of protocol (_ssl.c:1129)')))HTTPSConnectionPool(host='www.health.com', port=443): Max retries exceeded with url: /condition/addiction?ie=UTF-8&wd=Python (Caused by SSLError(SSLEOFError(8, 'EOF occurred in violation of protocol (_ssl.c:1129)')))\n",
      "\n",
      "HTTPSConnectionPool(host='www.health.com', port=443): Max retries exceeded with url: /condition/eczema?ie=UTF-8&wd=Python (Caused by SSLError(SSLEOFError(8, 'EOF occurred in violation of protocol (_ssl.c:1129)')))HTTPSConnectionPool(host='www.health.com', port=443): Max retries exceeded with url: /condition/dry-eye?ie=UTF-8&wd=Python (Caused by SSLError(SSLEOFError(8, 'EOF occurred in violation of protocol (_ssl.c:1129)')))\n",
      "\n",
      "HTTPSConnectionPool(host='www.health.com', port=443): Max retries exceeded with url: /condition/endometriosis?ie=UTF-8&wd=Python (Caused by SSLError(SSLEOFError(8, 'EOF occurred in violation of protocol (_ssl.c:1129)')))\n",
      "HTTPSConnectionPool(host='www.health.com', port=443): Max retries exceeded with url: /condition/fibromyalgia?ie=UTF-8&wd=Python (Caused by SSLError(SSLEOFError(8, 'EOF occurred in violation of protocol (_ssl.c:1129)')))HTTPSConnectionPool(host='www.health.com', port=443): Max retries exceeded with url: /condition/eye-health?ie=UTF-8&wd=Python (Caused by SSLError(SSLEOFError(8, 'EOF occurred in violation of protocol (_ssl.c:1129)')))\n",
      "HTTPSConnectionPool(host='www.health.com', port=443): Max retries exceeded with url: /condition/flu?ie=UTF-8&wd=Python (Caused by SSLError(SSLEOFError(8, 'EOF occurred in violation of protocol (_ssl.c:1129)')))\n",
      "\n"
     ]
    },
    {
     "name": "stderr",
     "output_type": "stream",
     "text": [
      " 38%|███████████████████████████████                                                  | 43/112 [00:25<00:34,  1.98it/s]"
     ]
    },
    {
     "name": "stdout",
     "output_type": "stream",
     "text": [
      "HTTPSConnectionPool(host='www.health.com', port=443): Max retries exceeded with url: /nutrition-basics-6951511?ie=UTF-8&wd=Python (Caused by SSLError(SSLEOFError(8, 'EOF occurred in violation of protocol (_ssl.c:1129)')))\n",
      "HTTPSConnectionPool(host='www.health.com', port=443): Max retries exceeded with url: /condition/gastrointestinal-infections?ie=UTF-8&wd=Python (Caused by SSLError(SSLEOFError(8, 'EOF occurred in violation of protocol (_ssl.c:1129)')))\n",
      "HTTPSConnectionPool(host='www.health.com', port=443): Max retries exceeded with url: /condition/genetic-disorders?ie=UTF-8&wd=Python (Caused by SSLError(SSLEOFError(8, 'EOF occurred in violation of protocol (_ssl.c:1129)')))HTTPSConnectionPool(host='www.health.com', port=443): Max retries exceeded with url: /condition/gerd?ie=UTF-8&wd=Python (Caused by SSLError(SSLEOFError(8, 'EOF occurred in violation of protocol (_ssl.c:1129)')))\n",
      "\n",
      "HTTPSConnectionPool(host='www.health.com', port=443): Max retries exceeded with url: /condition/gout?ie=UTF-8&wd=Python (Caused by SSLError(SSLEOFError(8, 'EOF occurred in violation of protocol (_ssl.c:1129)')))\n",
      "HTTPSConnectionPool(host='www.health.com', port=443): Max retries exceeded with url: /condition/glaucoma?ie=UTF-8&wd=Python (Caused by SSLError(SSLEOFError(8, 'EOF occurred in violation of protocol (_ssl.c:1129)')))HTTPSConnectionPool(host='www.health.com', port=443): Max retries exceeded with url: /condition/heart-disease?ie=UTF-8&wd=Python (Caused by SSLError(SSLEOFError(8, 'EOF occurred in violation of protocol (_ssl.c:1129)')))\n",
      "\n",
      "HTTPSConnectionPool(host='www.health.com', port=443): Max retries exceeded with url: /condition/hepatitis-c?ie=UTF-8&wd=Python (Caused by SSLError(SSLEOFError(8, 'EOF occurred in violation of protocol (_ssl.c:1129)')))HTTPSConnectionPool(host='www.health.com', port=443): Max retries exceeded with url: /condition/heartburn?ie=UTF-8&wd=Python (Caused by SSLError(SSLEOFError(8, 'EOF occurred in violation of protocol (_ssl.c:1129)')))\n",
      "\n",
      "HTTPSConnectionPool(host='www.health.com', port=443): Max retries exceeded with url: /condition/heart-failure?ie=UTF-8&wd=Python (Caused by SSLError(SSLEOFError(8, 'EOF occurred in violation of protocol (_ssl.c:1129)')))\n"
     ]
    },
    {
     "name": "stderr",
     "output_type": "stream",
     "text": [
      " 99%|███████████████████████████████████████████████████████████████████████████████▎| 111/112 [00:36<00:00,  3.15it/s]"
     ]
    },
    {
     "name": "stdout",
     "output_type": "stream",
     "text": [
      "HTTPSConnectionPool(host='www.health.com', port=443): Max retries exceeded with url: /condition/osteoarthritis?ie=UTF-8&wd=Python (Caused by ProxyError('Cannot connect to proxy.', NewConnectionError('<urllib3.connection.HTTPSConnection object at 0x000002546F7D55B0>: Failed to establish a new connection: [WinError 10061] 由于目标计算机积极拒绝，无法连接。')))\n"
     ]
    },
    {
     "name": "stderr",
     "output_type": "stream",
     "text": [
      "\r",
      "100%|████████████████████████████████████████████████████████████████████████████████| 112/112 [00:40<00:00,  1.00it/s]"
     ]
    },
    {
     "name": "stdout",
     "output_type": "stream",
     "text": [
      "HTTPSConnectionPool(host='www.health.com', port=443): Max retries exceeded with url: /condition/uti?ie=UTF-8&wd=Python (Caused by ProxyError('Cannot connect to proxy.', NewConnectionError('<urllib3.connection.HTTPSConnection object at 0x000002546FA12C10>: Failed to establish a new connection: [WinError 10061] 由于目标计算机积极拒绝，无法连接。')))\n"
     ]
    },
    {
     "ename": "TypeError",
     "evalue": "'NoneType' object is not iterable",
     "output_type": "error",
     "traceback": [
      "\u001b[1;31m---------------------------------------------------------------------------\u001b[0m",
      "\u001b[1;31mTypeError\u001b[0m                                 Traceback (most recent call last)",
      "Input \u001b[1;32mIn [15]\u001b[0m, in \u001b[0;36m<cell line: 11>\u001b[1;34m()\u001b[0m\n\u001b[0;32m     17\u001b[0m     all_craw_tasks\u001b[38;5;241m.\u001b[39mappend(tmp_task)\n\u001b[0;32m     19\u001b[0m \u001b[38;5;66;03m# 监测下载任务进展\u001b[39;00m\n\u001b[1;32m---> 20\u001b[0m \u001b[43mtask_monitor\u001b[49m\u001b[43m(\u001b[49m\u001b[43mall_craw_tasks\u001b[49m\u001b[43m,\u001b[49m\u001b[43m \u001b[49m\u001b[43mmt_pool\u001b[49m\u001b[43m,\u001b[49m\u001b[43m \u001b[49m\u001b[43mresults\u001b[49m\u001b[43m)\u001b[49m\n\u001b[0;32m     22\u001b[0m \u001b[38;5;28;01mwith\u001b[39;00m \u001b[38;5;28mopen\u001b[39m(\u001b[38;5;124m'\u001b[39m\u001b[38;5;124mD:/Intern_Project/6_health.com/文章链接列表.json\u001b[39m\u001b[38;5;124m'\u001b[39m, \u001b[38;5;124m'\u001b[39m\u001b[38;5;124mw\u001b[39m\u001b[38;5;124m'\u001b[39m, encoding\u001b[38;5;241m=\u001b[39m\u001b[38;5;124m'\u001b[39m\u001b[38;5;124mutf-8\u001b[39m\u001b[38;5;124m'\u001b[39m) \u001b[38;5;28;01mas\u001b[39;00m f:\n\u001b[0;32m     23\u001b[0m     f\u001b[38;5;241m.\u001b[39mwrite(json\u001b[38;5;241m.\u001b[39mdumps(results, indent\u001b[38;5;241m=\u001b[39m\u001b[38;5;241m2\u001b[39m, ensure_ascii\u001b[38;5;241m=\u001b[39m\u001b[38;5;28;01mFalse\u001b[39;00m))\n",
      "Input \u001b[1;32mIn [14]\u001b[0m, in \u001b[0;36mtask_monitor\u001b[1;34m(task_list, mt_pool, results)\u001b[0m\n\u001b[0;32m      6\u001b[0m \u001b[38;5;28;01mif\u001b[39;00m future\u001b[38;5;241m.\u001b[39mdone():\n\u001b[0;32m      7\u001b[0m     result \u001b[38;5;241m=\u001b[39m future\u001b[38;5;241m.\u001b[39mresult()\n\u001b[1;32m----> 8\u001b[0m     \u001b[43mresults\u001b[49m\u001b[38;5;241;43m.\u001b[39;49m\u001b[43mextend\u001b[49m\u001b[43m(\u001b[49m\u001b[43mresult\u001b[49m\u001b[43m)\u001b[49m\n\u001b[0;32m      9\u001b[0m \u001b[38;5;28;01melse\u001b[39;00m:\n\u001b[0;32m     10\u001b[0m     tmp_task_list\u001b[38;5;241m.\u001b[39mappend(future)\n",
      "\u001b[1;31mTypeError\u001b[0m: 'NoneType' object is not iterable"
     ]
    }
   ],
   "source": [
    "with open('D:/Intern_Project/6_health.com/术语链接列表.json', 'r', encoding='utf-8') as f:\n",
    "        keyword_results = json.load(f)\n",
    "\n",
    "all_craw_tasks = []\n",
    "results = []\n",
    "\n",
    "headers_pc, randomproxy = changeparams()\n",
    "\n",
    "pbar = tqdm(total=len(keyword_results))\n",
    "\n",
    "with ThreadPoolExecutor(max_workers=10) as mt_pool:\n",
    "    for keyword in keyword_results:\n",
    "        headers_pc, randomproxy = changeparams()\n",
    "        url = keyword['url']\n",
    "        term = keyword['term']\n",
    "        tmp_task = mt_pool.submit(get_article_url, url, term, headers_pc, randomproxy)\n",
    "        all_craw_tasks.append(tmp_task)\n",
    "\n",
    "    # 监测下载任务进展\n",
    "    task_monitor(all_craw_tasks, mt_pool, results)\n",
    "\n",
    "    with open('D:/Intern_Project/6_health.com/文章链接列表.json', 'w', encoding='utf-8') as f:\n",
    "        f.write(json.dumps(results, indent=2, ensure_ascii=False))"
   ]
  },
  {
   "cell_type": "code",
   "execution_count": 6,
   "id": "44fda3af",
   "metadata": {},
   "outputs": [],
   "source": [
    "def findAllFile(base):\n",
    "    for root, ds, fs in os.walk(base):\n",
    "        for f in fs:\n",
    "            fullname = os.path.join(root, f)\n",
    "            yield fullname"
   ]
  },
  {
   "cell_type": "code",
   "execution_count": 7,
   "id": "9ef6885d",
   "metadata": {},
   "outputs": [],
   "source": [
    "\n",
    "results = []\n",
    "for html_file in findAllFile(\"D:/Intern_Project/6_health.com/术语详情页\"):\n",
    "    html_content = open(html_file, 'r', encoding='utf-8').read()\n",
    "    selector = Selector(text=html_content)\n",
    "    articleUrl_list = selector.xpath(\n",
    "        \"//div[@class='card__content']\")\n",
    "    #print(len(termUrl_list))\n",
    "    for articleUrl in articleUrl_list:\n",
    "        url = articleUrl.xpath('./../@href').extract()[0]\n",
    "        title = articleUrl.xpath('./span/span/text()').extract()[0].strip()\n",
    "        # print(term)\n",
    "        tmp = {\n",
    "            'title': title,\n",
    "            'url': url\n",
    "        }\n",
    "        results.append(tmp)\n",
    "    \n",
    "with open('D:/Intern_Project/6_health.com/文章链接列表.json', 'w', encoding='utf-8') as f:\n",
    "    f.write(json.dumps(results, indent=2, ensure_ascii=False))"
   ]
  },
  {
   "cell_type": "code",
   "execution_count": 8,
   "id": "3c7bee88",
   "metadata": {},
   "outputs": [],
   "source": [
    "def get_response2(url, headers_pc):\n",
    "    try:\n",
    "        requests.adapters.DEFAULT_RETRIES = 12 # 增加重连次数\n",
    "        s = requests.session()\n",
    "        s.keep_alive = False # 关闭多余连接\n",
    "        \n",
    "        r = requests.get(url, headers=headers_pc, params=params, timeout=10)\n",
    "        r.encoding = 'utf-8'\n",
    "        return r.text\n",
    "    except Exception as e:\n",
    "        time.sleep(5)\n",
    "        print(e)\n",
    "\n",
    "    return None"
   ]
  },
  {
   "cell_type": "code",
   "execution_count": 12,
   "id": "9c3032bc",
   "metadata": {},
   "outputs": [
    {
     "name": "stdout",
     "output_type": "stream",
     "text": [
      "{'title': \"This Beauty Influencer Got Real About Zits—and Why She's Okay With Them\", 'url': 'https://www.health.com/condition/acne/beauty-influencer-ingrid-nilsen-acne'}\n"
     ]
    }
   ],
   "source": [
    "# 用来测试哪些页面能简单获取到\n",
    "\n",
    "\n",
    "# headers_pc, randomproxy = changeparams()\n",
    "\n",
    "# url = f'https://www.health.com/condition/acne'\n",
    "# # r = requests.get(url, headers=headers_pc, params=params, proxies=randomproxy, cookies=cookie_dict, timeout=10)\n",
    "# try:\n",
    "#     html = get_response2(url, headers_pc)\n",
    "#     with open(f'D:/Intern_Project/6_health.com/Acne.html', 'w+', encoding='utf-8') as f:\n",
    "#         f.write(html)\n",
    "# except Exception as e:\n",
    "#     print(e)\n",
    "\n",
    "\n",
    "html_content = open('D:/Intern_Project/6_health.com/术语详情页/Acne.html', 'r', encoding='utf-8').read()\n",
    "\n",
    "# tree = etree.HTML(html_content)\n",
    "selector = Selector(text=html_content)\n",
    "articleUrl_list = selector.xpath(\n",
    "    \"//div[@class='card__content']\")\n",
    "#print(len(termUrl_list))\n",
    "for articleUrl in articleUrl_list:\n",
    "    url = articleUrl.xpath('./../@href').extract()[0]\n",
    "    title = articleUrl.xpath('./span/span/text()').extract()[0].strip()\n",
    "    # print(term)\n",
    "    tmp = {\n",
    "        'title': title,\n",
    "        'url': url\n",
    "    }   \n",
    "print(tmp)"
   ]
  },
  {
   "cell_type": "code",
   "execution_count": null,
   "id": "4d7dfe52",
   "metadata": {},
   "outputs": [],
   "source": []
  }
 ],
 "metadata": {
  "kernelspec": {
   "display_name": "Python 3 (ipykernel)",
   "language": "python",
   "name": "python3"
  },
  "language_info": {
   "codemirror_mode": {
    "name": "ipython",
    "version": 3
   },
   "file_extension": ".py",
   "mimetype": "text/x-python",
   "name": "python",
   "nbconvert_exporter": "python",
   "pygments_lexer": "ipython3",
   "version": "3.9.12"
  }
 },
 "nbformat": 4,
 "nbformat_minor": 5
}
