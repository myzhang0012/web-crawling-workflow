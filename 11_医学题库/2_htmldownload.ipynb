{
 "cells": [
  {
   "cell_type": "markdown",
   "id": "50ee8c04",
   "metadata": {},
   "source": [
    "https://www.med66.com/sitemap/yixuetiku/1.htm"
   ]
  },
  {
   "cell_type": "code",
   "execution_count": 1,
   "id": "bafb3218",
   "metadata": {},
   "outputs": [],
   "source": [
    "import re\n",
    "import os\n",
    "import requests\n",
    "import hashlib\n",
    "import json\n",
    "import time\n",
    "import random\n",
    "import string\n",
    "import pandas as pd\n",
    "from tqdm import tqdm\n",
    "import codecs\n",
    "from glob import glob\n",
    "from bs4 import BeautifulSoup\n",
    "from scrapy.selector import Selector\n",
    "from urllib.parse import unquote\n",
    "from concurrent.futures import ThreadPoolExecutor, as_completed"
   ]
  },
  {
   "cell_type": "code",
   "execution_count": 2,
   "id": "7db41641",
   "metadata": {},
   "outputs": [],
   "source": [
    "# 定义随机的useragent\n",
    "from fake_useragent import UserAgent\n",
    "ua = UserAgent()\n",
    "\n",
    "# 设置代理ip\n",
    "ipdata = pd.read_excel('D:/Intern_Project/代理ip的地址2000.xlsx')\n",
    "ipdata.fillna(\"\",inplace = True)\n",
    "\n",
    "proxieslist = []\n",
    "\n",
    "for i in ipdata.index.values:\n",
    "    line = ipdata.loc[i,['HTTP']].to_dict()\n",
    "    proxieslist.append(line)\n",
    "    \n",
    "# randomproxy = random.choice(proxieslist)\n",
    "\n",
    "# 设置消息头\n",
    "headers_pc = {\n",
    "    'User-Agent': ua.random,\n",
    "    'Accept': 'text/html,application/xhtml+xml,application/xml;q=0.9,image/avif,image/webp,image/apng,*/*;q=0.8,application/signed-exchange;v=b3;q=0.7'\n",
    "}\n",
    "\n",
    "params = {\n",
    "    'ie': 'UTF-8',\n",
    "    'wd': 'Python'\n",
    "}\n"
   ]
  },
  {
   "cell_type": "code",
   "execution_count": 3,
   "id": "09b87a34",
   "metadata": {},
   "outputs": [],
   "source": [
    "def changeparams():\n",
    "    headers_pc = {\n",
    "    'User-Agent': ua.random,\n",
    "    'Accept': 'text/html,application/xhtml+xml,application/xml;q=0.9,image/avif,image/webp,image/apng,*/*;q=0.8,application/signed-exchange;v=b3;q=0.7'\n",
    "    }\n",
    "    randomproxy = random.choice(proxieslist)\n",
    "    #  访问百度服务器，获取cookie\n",
    "#     res = requests.get('https://www.med66.com/sitemap/yixuetiku/1.htm', headers=headers_pc, proxies= randomproxy,)\n",
    "#     # 将cookieJar数据转化为字典，s\n",
    "#     cookie_dict = requests.utils.dict_from_cookiejar(res.cookies)\n",
    "    return headers_pc, randomproxy"
   ]
  },
  {
   "cell_type": "code",
   "execution_count": 4,
   "id": "8491aef8",
   "metadata": {},
   "outputs": [],
   "source": [
    "def html_download(headers_pc, randomproxy, item, count):\n",
    "    # pbar.set_description(item['term'])\n",
    "    try:\n",
    "        url = item['url']\n",
    "        # title = item['term'].strip().replace('/', ' ')\n",
    "        if os.path.exists(f\"D:/Intern_Project/13_医学题库/详情页/{count}.html\"):\n",
    "# #         if os.path.exists(f\"D:/Intern_Project/5_everydayhealth/health_html/{newterm}.html\"):\n",
    "# #             pbar.update(1)    \n",
    "            return None \n",
    "#         time.sleep(random.randint(0, 5))\n",
    "        r = requests.get(url, headers=headers_pc, proxies=randomproxy, timeout=10)\n",
    "        encoding = r.apparent_encoding\n",
    "        html = r.content.decode(encoding, \"ignore\")\n",
    "        \n",
    "        with open(f\"D:/Intern_Project/13_医学题库/详情页/{count}.html\", 'w+', encoding=encoding) as f:\n",
    "            f.write(html)\n",
    "        \n",
    "        pbar.update(1)\n",
    "    except Exception as e:\n",
    "        print(e)\n",
    "        headers_pc, randomproxy = changeparams()\n",
    "        mislist.append(item)\n",
    "        pbar.update(1)\n",
    "    return None"
   ]
  },
  {
   "cell_type": "code",
   "execution_count": 5,
   "id": "d18625f8",
   "metadata": {},
   "outputs": [],
   "source": [
    "def task_monitor(task_list, mt_pool):\n",
    "    while len(task_list) > 0:\n",
    "        tmp_task_list = []\n",
    "        for future in task_list:\n",
    "            if future.done():\n",
    "                result = future.result()\n",
    "            else:\n",
    "                tmp_task_list.append(future)\n",
    "        \n",
    "        task_list = tmp_task_list"
   ]
  },
  {
   "cell_type": "code",
   "execution_count": 6,
   "id": "549b8e43",
   "metadata": {},
   "outputs": [
    {
     "name": "stdout",
     "output_type": "stream",
     "text": [
      "116322\n"
     ]
    }
   ],
   "source": [
    "with open('D:/Intern_Project/13_医学题库/qa链接列表.json', 'r', encoding='utf-8') as f:\n",
    "    url_list = json.load(f)\n",
    "\n",
    "print(len(url_list))\n"
   ]
  },
  {
   "cell_type": "code",
   "execution_count": 7,
   "id": "1ed1f0de",
   "metadata": {
    "scrolled": true
   },
   "outputs": [
    {
     "name": "stderr",
     "output_type": "stream",
     "text": [
      "  4%|███                                                                        | 4753/116322 [54:44<24:47:23,  1.25it/s]"
     ]
    },
    {
     "name": "stdout",
     "output_type": "stream",
     "text": [
      "('Connection aborted.', ConnectionResetError(10054, '远程主机强迫关闭了一个现有的连接。', None, 10054, None))\n"
     ]
    },
    {
     "name": "stderr",
     "output_type": "stream",
     "text": [
      "  9%|██████▌                                                                 | 10567/116322 [1:18:34<13:38:25,  2.15it/s]"
     ]
    }
   ],
   "source": [
    "\n",
    "pbar = tqdm(total=len(url_list))\n",
    "\n",
    "# results = []\n",
    "mislist = []\n",
    "all_craw_tasks = []\n",
    "headers_pc, randomproxy = changeparams()\n",
    "count = 0\n",
    "\n",
    "with ThreadPoolExecutor(max_workers=10) as mt_pool:\n",
    "    for item in url_list:\n",
    "        count += 1\n",
    "        tmp_task = mt_pool.submit(html_download, headers_pc, randomproxy, item, count)\n",
    "        all_craw_tasks.append(tmp_task)\n",
    "        if count % 100 == 0:\n",
    "            time.sleep(2)\n",
    "            headers_pc, randomproxy = changeparams()\n",
    "\n",
    "    task_monitor(all_craw_tasks, mt_pool)"
   ]
  },
  {
   "cell_type": "code",
   "execution_count": 11,
   "id": "41507957",
   "metadata": {},
   "outputs": [
    {
     "name": "stdout",
     "output_type": "stream",
     "text": [
      "[]\n"
     ]
    }
   ],
   "source": [
    "print(mislist)"
   ]
  }
 ],
 "metadata": {
  "kernelspec": {
   "display_name": "Python 3 (ipykernel)",
   "language": "python",
   "name": "python3"
  },
  "language_info": {
   "codemirror_mode": {
    "name": "ipython",
    "version": 3
   },
   "file_extension": ".py",
   "mimetype": "text/x-python",
   "name": "python",
   "nbconvert_exporter": "python",
   "pygments_lexer": "ipython3",
   "version": "3.9.12"
  }
 },
 "nbformat": 4,
 "nbformat_minor": 5
}
