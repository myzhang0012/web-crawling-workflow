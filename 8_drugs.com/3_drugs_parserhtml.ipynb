{
 "cells": [
  {
   "cell_type": "code",
   "execution_count": 1,
   "id": "bafb3218",
   "metadata": {},
   "outputs": [],
   "source": [
    "import re\n",
    "import os\n",
    "import json\n",
    "import pandas as pd\n",
    "from tqdm import tqdm\n",
    "from glob import glob\n",
    "from bs4 import BeautifulSoup\n",
    "from scrapy.selector import Selector\n",
    "import urllib "
   ]
  },
  {
   "cell_type": "markdown",
   "id": "df7547da",
   "metadata": {},
   "source": [
    "# 解析"
   ]
  },
  {
   "cell_type": "code",
   "execution_count": 25,
   "id": "77ea338e",
   "metadata": {},
   "outputs": [],
   "source": [
    "def recursive_parser(item, texts, pre_class):\n",
    "    for child in item:\n",
    "        try:\n",
    "#             if isinstance(child, str):\n",
    "#                 content = child.strip()\n",
    "#                 if len(content) > 0:\n",
    "#                     texts.append(content)\n",
    "#                 continue\n",
    "\n",
    "            tag = child.name\n",
    "            \n",
    "            content = child.text.strip()\n",
    "            if len(content) == 0:\n",
    "                continue\n",
    "                \n",
    "            if content.startswith(\"Medically\"):\n",
    "                continue\n",
    "            \n",
    "            if tag == 'ul' and 'class' in child.attrs:\n",
    "                class_ = child.attrs['class'][0]\n",
    "                if class_ in ['vitTOC']:\n",
    "                    continue\n",
    "            if tag == 'a' and 'class' in child.attrs:\n",
    "                class_ = child.attrs['class'][0]\n",
    "                if class_ in ['ddc-link-forward']:\n",
    "                    continue\n",
    "                    \n",
    "                    \n",
    "            if tag == 'h2' and 'id' in child.attrs:\n",
    "                id_ = child.attrs['id']\n",
    "                if id_ in ['faq']:\n",
    "                    continue\n",
    "                    \n",
    "            if tag == 'p' and 'class' in child.attrs:\n",
    "                class_ = child.attrs['class'][0]\n",
    "                if class_ in ['drug-subtitle', 'ddc-reviewed-by ddc-author-image', 'ddc-reviewed-by ddc-author-image-cerner']:\n",
    "                    continue\n",
    "            \n",
    "            \n",
    "            if tag in ['script', 'link', 'table', 'tbody', 'img', 'iframe', 'video', 'nav','%%fileorm']: # 加视频\n",
    "                continue\n",
    "\n",
    "            if tag == 'center':\n",
    "                texts.append(content)\n",
    "                continue\n",
    "\n",
    "            if tag == 'div' and 'id' in child.attrs and len(child.attrs['id']) > 0:\n",
    "                id_ = child.attrs['id']\n",
    "                if id_ in ['printpreview_header', 'fdaWrapper', 'adCont', 'article-feedback_1-0', 'sources-and-citation_1-0', 'more-resources']:\n",
    "                    continue\n",
    "            \n",
    "            if tag == 'section' and 'id' in child.attrs and len(child.attrs['id']) > 0:\n",
    "                id_ = child.attrs['id']\n",
    "                if id_ in ['sponsors']:\n",
    "                    continue\n",
    "            \n",
    "            if tag == 'div' and 'class' in child.attrs and len(child.attrs['class']) > 0:\n",
    "                # 对div标签的class进行判别，不同情况分别处理\n",
    "                class_ = child.attrs['class'][0]\n",
    "                if class_ in ['SECONDARY', 'AUTHORS', 'HNUM', 'BY', 'SG', 'PN', 'pagenum', 'TB', 'SIDEBAR', \n",
    "                              'drug-subtitle', 'ddc-reviewed-by ddc-author-image', 'ddc-accordion ddc-mgb-2', 'more-resources', \n",
    "                              'ddc-reviewed-by ddc-author-image-cerner']:\n",
    "                    continue\n",
    "\n",
    "                if class_ in ['h1', 'h2', 'h3', 'h4', 'h5']:\n",
    "                    texts.append(content)\n",
    "\n",
    "                elif class_ in ['HD', 'FRTITLE']:\n",
    "                    texts.append(content)\n",
    "\n",
    "                elif class_ == 'P':\n",
    "                    texts.append(content)\n",
    "\n",
    "                else:\n",
    "                    recursive_parser(child, texts, class_)\n",
    "                    \n",
    "            elif tag in ['section', 'div', 'ul', 'ol', 'article']:\n",
    "                # 这几类标签 直接递归处理子标签\n",
    "                recursive_parser(child, texts, '')\n",
    "                \n",
    "            else:\n",
    "                # 剩余情况直接获取标签内容\n",
    "                texts.append(content)\n",
    "\n",
    "        except Exception as e:\n",
    "            print(e)"
   ]
  },
  {
   "cell_type": "code",
   "execution_count": 29,
   "id": "b12475c5",
   "metadata": {},
   "outputs": [],
   "source": [
    "def parser(input_path, output_path, results):\n",
    "    for root, dirs, file_names in os.walk(input_path):\n",
    "        \"\"\"\n",
    "        os.walk()\n",
    "        root 所指的是当前正在遍历的这个文件夹的本身的地址\n",
    "        files_names同样是 list , 内容是该文件夹中所有的文件(不包括子目录)\n",
    "        函数会自动改变root的值使得遍历所有的子文件夹。\n",
    "        所以返回的三元元组的个数为所有子文件夹（包括子子文件夹，子子子文件夹等等）加上1（根文件夹）\n",
    "        \"\"\"\n",
    "        \n",
    "        for file_name in file_names:\n",
    "            html_file = os.path.join(root, file_name)\n",
    "            html_content = open(html_file, 'r', encoding='utf-8').read()\n",
    "            selector = Selector(text=html_content)\n",
    "            try:\n",
    "                title = selector.xpath(\"//h1//text()\").extract()[0].strip()\n",
    "            except Exception as e:\n",
    "                print(e)\n",
    "                print(html_file)\n",
    "                continue\n",
    "\n",
    "            texts = []\n",
    "            \n",
    "            soup = BeautifulSoup(html_content, 'html.parser') \n",
    "            \n",
    "            item = soup.find('div',{'class':'contentBox'})\n",
    "\n",
    "            if item is None:\n",
    "                print(html_file)\n",
    "                continue\n",
    "            else:\n",
    "                recursive_parser(item, texts, \"\")\n",
    "                content = '\\n'.join(texts)\n",
    "                if content == \"\":\n",
    "                    continue\n",
    "                tmp = {\n",
    "                    \"title\": title,\n",
    "                    \"content\": content\n",
    "                }\n",
    "#                 print(tmp)\n",
    "                results.append(tmp)"
   ]
  },
  {
   "cell_type": "code",
   "execution_count": 30,
   "id": "62ddffdc",
   "metadata": {
    "scrolled": true
   },
   "outputs": [],
   "source": [
    "output_path = 'D:/Intern_Project/9_drugs/'\n",
    "source_path = f'D:/Intern_Project/9_drugs/article_htmls'\n",
    "\n",
    "results = []\n",
    "parser(source_path, output_path, results)\n"
   ]
  },
  {
   "cell_type": "code",
   "execution_count": 31,
   "id": "26add919",
   "metadata": {},
   "outputs": [
    {
     "name": "stdout",
     "output_type": "stream",
     "text": [
      "719\n"
     ]
    }
   ],
   "source": [
    "print(len(results))"
   ]
  },
  {
   "cell_type": "code",
   "execution_count": 32,
   "id": "3da1735c",
   "metadata": {},
   "outputs": [
    {
     "name": "stdout",
     "output_type": "stream",
     "text": [
      "{'title': 'A-200 Lice Treatment', 'content': 'A-200 Lice Treatment\\nWhat is  A-200 Lice Treatment?\\nPiperonyl butoxide is a chemical that stops the breakdown of pyrethrins, an insecticide chemical.\\nA-200 Lice Treatment (for the skin) is a combination medicine used to treat lice.\\nA-200 Lice Treatment may also be used for purposes not listed in this medication guide.\\nWarnings\\nFollow all directions on your medicine label and package. Tell each of your healthcare providers about all your medical conditions, allergies, and all medicines you use.\\nBefore taking this medicine\\nYou should not use A-200 Lice Treatment if you are allergic to it, or if you have an allergy to chrysanthemums or ragweed.\\nFDA pregnancy category C. It is not known whether  A-200 Lice Treatment will harm an unborn baby. Tell your doctor if you are pregnant or plan to become pregnant while using this medication.\\nIt is not known whether this medicine passes into breast milk or if it could harm a nursing baby. Tell your doctor if you are breast-feeding a baby.\\nHow should I use  A-200 Lice Treatment?\\nFollow all directions on your prescription label. Do not use this medicine in larger or smaller amounts or for longer than recommended.\\nLice infestations are highly contagious. All household members may need to be treated for lice. Lice can be spread from person to person by sharing a hairbrush, a comb, hats, or headbands. It can also be spread through head-to-head contact.\\nApply the shampoo to dry hair. Shake well before use. Apply to all areas of the scalp, including behind the ears and neck. Treat hair from the roots to the ends and leave the shampoo in the hair for no longer than 10 minutes, then rinse thoroughly with warm water. The shampoo should be used again in 7 to 10 days to kill any newly hatched lice.\\nKeep your eyes tightly closed while using this medicine in your hair. You may use a washcloth or towel to protect your eyes while applying the medication to your head. Do not apply to your eyebrows or eyelashes. Call your doctor if these areas become infected with lice.\\nYou will need to remove any eggs (nits) from the hair shafts with a special comb. Some lice products come provided with a nit comb. If you do not have such a comb, ask your pharmacist where you can get one. Nits may not be removed effectively with a regular fine-tooth comb.\\nUse this medication for the full prescribed length of time. Your symptoms may improve before the lice infestation is completely cleared. Call your doctor if your condition does not improve, or if your symptoms get worse while using this medication.\\nTo prevent reinfection with lice, wash all clothing, hats, bed linens, stuffed toys, hair brushes, and combs in hot water with a strong cleanser to remove any mites or eggs. You may need to use a special lice control spray to treat furniture, mattresses, sports helmets, headphones, and other non-washable items. Ask your doctor or pharmacist about disinfecting your home.\\nStore the medicine at room temperature away from moisture and heat.\\nDetailed A-200 Lice Treatment dosage information\\nWhat happens if I miss a dose?\\nUse the missed dose as soon as you remember. Skip the missed dose if it is almost time for your next scheduled dose. Do not use extra medicine to make up the missed dose.\\nWhat happens if I overdose?\\nSeek emergency medical attention or call the Poison Help line at 1-800-222-1222.\\nWhat should I avoid while using  A-200 Lice Treatment?\\nAvoid using other medications or skin products on the areas you treat with A-200 Lice Treatment, unless your doctor tells you to.\\nAvoid getting this medication in your eyes, nose, mouth, or vagina. If this does happen, rinse with water. Do not use A-200 Lice Treatment on sunburned, windburned, dry, chapped, irritated, or broken skin.\\nAvoid close contact with others until the infection has been cured. Also avoid sharing hair combs, hair accessories, hats, clothing, bed linens, pillows, and other items of personal use.\\nA-200 Lice Treatment side effects\\nGet emergency medical help if you have any of these signs of an allergic reaction: hives; difficulty breathing; swelling of your face, lips, tongue, or throat.\\nStop using piperonyl butoxide and pyrethrins and call your doctor at once if you have severe stinging, burning, itching, swelling, or irritation where the medication is applied.\\nCommon side effects of A-200 Lice Treatment may include:\\nmild itching, burning, or stinging;\\nmild skin rash; or\\nnumbness or tingly feeling.\\nThis is not a complete list of side effects and others may occur. Call your doctor for medical advice about side effects. You may report side effects to FDA at 1-800-FDA-1088.\\nA-200 Lice Treatment side effects (more detail)\\nWhat other drugs will affect  A-200 Lice Treatment?\\nIt is not likely that other drugs you take orally or inject will have an effect on topically applied piperonyl butoxide and pyrethrins. But many drugs can interact with each other. Tell each of your health care providers about all medicines you use, including prescription and over-the-counter medicines, vitamins, and herbal products.\\nFurther information\\nRemember, keep this and all other medicines out of the reach of children, never share your medicines with others, and use this medication only for the indication prescribed.\\nAlways consult your healthcare provider to ensure the information displayed on this page applies to your personal circumstances.\\nMedical Disclaimer\\nCopyright 1996-2023 Cerner Multum, Inc. Version: 3.02.'}\n"
     ]
    }
   ],
   "source": [
    "print(results[0])"
   ]
  },
  {
   "cell_type": "code",
   "execution_count": 35,
   "id": "e7669387",
   "metadata": {},
   "outputs": [],
   "source": [
    "for item in results:\n",
    "    item['content'] = item['content'].split(\"Further information\")[0]"
   ]
  },
  {
   "cell_type": "code",
   "execution_count": 36,
   "id": "0358c3b3",
   "metadata": {},
   "outputs": [
    {
     "name": "stdout",
     "output_type": "stream",
     "text": [
      "{'title': 'A-200 Lice Treatment', 'content': 'A-200 Lice Treatment\\nWhat is  A-200 Lice Treatment?\\nPiperonyl butoxide is a chemical that stops the breakdown of pyrethrins, an insecticide chemical.\\nA-200 Lice Treatment (for the skin) is a combination medicine used to treat lice.\\nA-200 Lice Treatment may also be used for purposes not listed in this medication guide.\\nWarnings\\nFollow all directions on your medicine label and package. Tell each of your healthcare providers about all your medical conditions, allergies, and all medicines you use.\\nBefore taking this medicine\\nYou should not use A-200 Lice Treatment if you are allergic to it, or if you have an allergy to chrysanthemums or ragweed.\\nFDA pregnancy category C. It is not known whether  A-200 Lice Treatment will harm an unborn baby. Tell your doctor if you are pregnant or plan to become pregnant while using this medication.\\nIt is not known whether this medicine passes into breast milk or if it could harm a nursing baby. Tell your doctor if you are breast-feeding a baby.\\nHow should I use  A-200 Lice Treatment?\\nFollow all directions on your prescription label. Do not use this medicine in larger or smaller amounts or for longer than recommended.\\nLice infestations are highly contagious. All household members may need to be treated for lice. Lice can be spread from person to person by sharing a hairbrush, a comb, hats, or headbands. It can also be spread through head-to-head contact.\\nApply the shampoo to dry hair. Shake well before use. Apply to all areas of the scalp, including behind the ears and neck. Treat hair from the roots to the ends and leave the shampoo in the hair for no longer than 10 minutes, then rinse thoroughly with warm water. The shampoo should be used again in 7 to 10 days to kill any newly hatched lice.\\nKeep your eyes tightly closed while using this medicine in your hair. You may use a washcloth or towel to protect your eyes while applying the medication to your head. Do not apply to your eyebrows or eyelashes. Call your doctor if these areas become infected with lice.\\nYou will need to remove any eggs (nits) from the hair shafts with a special comb. Some lice products come provided with a nit comb. If you do not have such a comb, ask your pharmacist where you can get one. Nits may not be removed effectively with a regular fine-tooth comb.\\nUse this medication for the full prescribed length of time. Your symptoms may improve before the lice infestation is completely cleared. Call your doctor if your condition does not improve, or if your symptoms get worse while using this medication.\\nTo prevent reinfection with lice, wash all clothing, hats, bed linens, stuffed toys, hair brushes, and combs in hot water with a strong cleanser to remove any mites or eggs. You may need to use a special lice control spray to treat furniture, mattresses, sports helmets, headphones, and other non-washable items. Ask your doctor or pharmacist about disinfecting your home.\\nStore the medicine at room temperature away from moisture and heat.\\nDetailed A-200 Lice Treatment dosage information\\nWhat happens if I miss a dose?\\nUse the missed dose as soon as you remember. Skip the missed dose if it is almost time for your next scheduled dose. Do not use extra medicine to make up the missed dose.\\nWhat happens if I overdose?\\nSeek emergency medical attention or call the Poison Help line at 1-800-222-1222.\\nWhat should I avoid while using  A-200 Lice Treatment?\\nAvoid using other medications or skin products on the areas you treat with A-200 Lice Treatment, unless your doctor tells you to.\\nAvoid getting this medication in your eyes, nose, mouth, or vagina. If this does happen, rinse with water. Do not use A-200 Lice Treatment on sunburned, windburned, dry, chapped, irritated, or broken skin.\\nAvoid close contact with others until the infection has been cured. Also avoid sharing hair combs, hair accessories, hats, clothing, bed linens, pillows, and other items of personal use.\\nA-200 Lice Treatment side effects\\nGet emergency medical help if you have any of these signs of an allergic reaction: hives; difficulty breathing; swelling of your face, lips, tongue, or throat.\\nStop using piperonyl butoxide and pyrethrins and call your doctor at once if you have severe stinging, burning, itching, swelling, or irritation where the medication is applied.\\nCommon side effects of A-200 Lice Treatment may include:\\nmild itching, burning, or stinging;\\nmild skin rash; or\\nnumbness or tingly feeling.\\nThis is not a complete list of side effects and others may occur. Call your doctor for medical advice about side effects. You may report side effects to FDA at 1-800-FDA-1088.\\nA-200 Lice Treatment side effects (more detail)\\nWhat other drugs will affect  A-200 Lice Treatment?\\nIt is not likely that other drugs you take orally or inject will have an effect on topically applied piperonyl butoxide and pyrethrins. But many drugs can interact with each other. Tell each of your health care providers about all medicines you use, including prescription and over-the-counter medicines, vitamins, and herbal products.\\n'}\n"
     ]
    }
   ],
   "source": [
    "print(results[0])"
   ]
  },
  {
   "cell_type": "code",
   "execution_count": 37,
   "id": "e7eb97a2",
   "metadata": {},
   "outputs": [],
   "source": [
    "with open('D:/Intern_Project/9_drugs/parser_results.json', 'w', encoding=\"utf-8\") as f:\n",
    "    f.write(json.dumps(results, indent=1, ensure_ascii=False))"
   ]
  },
  {
   "cell_type": "code",
   "execution_count": null,
   "id": "22c704b0",
   "metadata": {},
   "outputs": [],
   "source": []
  }
 ],
 "metadata": {
  "kernelspec": {
   "display_name": "Python 3 (ipykernel)",
   "language": "python",
   "name": "python3"
  },
  "language_info": {
   "codemirror_mode": {
    "name": "ipython",
    "version": 3
   },
   "file_extension": ".py",
   "mimetype": "text/x-python",
   "name": "python",
   "nbconvert_exporter": "python",
   "pygments_lexer": "ipython3",
   "version": "3.9.12"
  }
 },
 "nbformat": 4,
 "nbformat_minor": 5
}
