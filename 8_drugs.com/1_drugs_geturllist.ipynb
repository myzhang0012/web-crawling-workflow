{
 "cells": [
  {
   "cell_type": "markdown",
   "id": "50ee8c04",
   "metadata": {},
   "source": [
    "https://www.drugs.com/alpha/a.html"
   ]
  },
  {
   "cell_type": "code",
   "execution_count": 1,
   "id": "bafb3218",
   "metadata": {},
   "outputs": [],
   "source": [
    "import re\n",
    "import os\n",
    "import requests\n",
    "import hashlib\n",
    "import json\n",
    "import time\n",
    "import random\n",
    "import string\n",
    "import pandas as pd\n",
    "from tqdm import tqdm\n",
    "import codecs\n",
    "from glob import glob\n",
    "from bs4 import BeautifulSoup\n",
    "from scrapy.selector import Selector\n",
    "from urllib.parse import unquote\n",
    "from concurrent.futures import ThreadPoolExecutor, as_completed"
   ]
  },
  {
   "cell_type": "code",
   "execution_count": 2,
   "id": "7db41641",
   "metadata": {},
   "outputs": [],
   "source": [
    "# 定义随机的useragent\n",
    "from fake_useragent import UserAgent\n",
    "ua = UserAgent()\n",
    "\n",
    "# 设置代理ip\n",
    "ipdata = pd.read_excel('D:/Intern_Project/代理ip的地址2000.xlsx')\n",
    "ipdata.fillna(\"\",inplace = True)\n",
    "\n",
    "proxieslist = []\n",
    "\n",
    "for i in ipdata.index.values:\n",
    "    line = ipdata.loc[i,['HTTP']].to_dict()\n",
    "    proxieslist.append(line)\n",
    "    \n",
    "# randomproxy = random.choice(proxieslist)\n",
    "\n",
    "# 设置消息头\n",
    "headers_pc = {\n",
    "    'User-Agent': ua.random,\n",
    "    'Accept': 'text/html,application/xhtml+xml,application/xml;q=0.9,image/avif,image/webp,image/apng,*/*;q=0.8,application/signed-exchange;v=b3;q=0.7'\n",
    "}\n",
    "\n",
    "# params = {\n",
    "#     'ie': 'UTF-8',\n",
    "#     'wd': 'Python'\n",
    "# }\n"
   ]
  },
  {
   "cell_type": "code",
   "execution_count": 3,
   "id": "09b87a34",
   "metadata": {},
   "outputs": [],
   "source": [
    "def changeparams():\n",
    "    headers_pc = {\n",
    "    'User-Agent': ua.random,\n",
    "    'Accept': 'text/html,application/xhtml+xml,application/xml;q=0.9,image/avif,image/webp,image/apng,*/*;q=0.8,application/signed-exchange;v=b3;q=0.7'\n",
    "    }\n",
    "    randomproxy = random.choice(proxieslist)\n",
    "    #  访问服务器，获取cookie\n",
    "    res = requests.get('https://www.drugs.com/alpha/a.html', headers=headers_pc, proxies= randomproxy,)\n",
    "    # 将cookieJar数据转化为字典，s\n",
    "    cookie_dict = requests.utils.dict_from_cookiejar(res.cookies)\n",
    "    return headers_pc, randomproxy, cookie_dict"
   ]
  },
  {
   "cell_type": "markdown",
   "id": "b92b5ff2",
   "metadata": {},
   "source": [
    "# 1、先获取文章链接列表"
   ]
  },
  {
   "cell_type": "code",
   "execution_count": 19,
   "id": "1d67e503",
   "metadata": {},
   "outputs": [],
   "source": [
    "# 不应该把mislist作为参数传进去\n",
    "def get_term_url(url, tag, letter, subletter, headers_pc, randomproxy, cookie_dict, mislist):\n",
    "    term_results = []\n",
    "    # pbar.set_description(letter)\n",
    "    try:\n",
    "        requests.adapters.DEFAULT_RETRIES = 20 # 增加重连次数\n",
    "        s = requests.session()\n",
    "        s.keep_alive = False # 关闭多余连接\n",
    "\n",
    "        r = requests.get(url, headers=headers_pc, proxies=randomproxy, cookies=cookie_dict, timeout=10)\n",
    "#             encoding = cchardet.detect(r.content)['encoding']\n",
    "#             html = r.content.decode(encoding)\n",
    "        r.encoding = 'utf-8'\n",
    "        html = r.text\n",
    "#         if os.path.exists(f\"D:/Intern_Project/9_drugs/{tag}_{letter}{subletter}列表页.html\"):   \n",
    "#             return None # 这里return None会导致task_monitor那里接收空值而报错\n",
    "        with open(f'D:/Intern_Project/9_drugs/{tag}_{letter}{subletter}列表页.html', 'w+', encoding='utf-8') as f:\n",
    "             f.write(html)\n",
    "        size = round(os.path.getsize(f'D:/Intern_Project/9_drugs/{tag}_{letter}{subletter}列表页.html') / float(1024),2)\n",
    "        if  size<2.0:\n",
    "            time.sleep(5)\n",
    "            headers_pc, randomproxy, cookie_dict = changeparams()\n",
    "            \n",
    "            r = requests.get(url, headers=headers_pc, proxies=randomproxy, cookies=cookie_dict, timeout=10)\n",
    "            r.encoding = 'utf-8'\n",
    "            html = r.text\n",
    "            with open(f'D:/Intern_Project/9_drugs/{tag}_{letter}{subletter}列表页.html', 'w+', encoding='utf-8') as f:\n",
    "                f.write(html)\n",
    "            size2 = round(os.path.getsize(f'D:/Intern_Project/9_drugs/{tag}_{letter}{subletter}列表页.html') / float(1024),2)\n",
    "            if  size2<2.0:\n",
    "                # 将失败的单独记录下来，之后再调用一次获取\n",
    "                mis = f'{tag}_{letter}{subletter}'\n",
    "                mislist.append(mis)\n",
    "                print(\"重定向\")\n",
    "\n",
    "        selector = Selector(text=html)\n",
    "        termUrl_list = selector.xpath(\n",
    "            \"//ul[@class='ddc-list-unstyled']/li/a\")\n",
    "        #print(len(termUrl_list))\n",
    "        for termUrl in termUrl_list:\n",
    "            url = \"https://www.drugs.com\" + termUrl.xpath('./@href').extract()[0]\n",
    "            term = termUrl.xpath('./text()').extract()[0]\n",
    "            # print(term)\n",
    "            tmp = {\n",
    "                'term': term,\n",
    "                'url': url\n",
    "            }\n",
    "            term_results.append(tmp)\n",
    "            # time.sleep()\n",
    "        # pbar.update(1)\n",
    "    except Exception as e:\n",
    "        print(e)\n",
    "        time.sleep(5)\n",
    "        headers_pc, randomproxy, cookie_dict = changeparams()\n",
    "        \n",
    "        mis = f'{tag}_{letter}{subletter}'\n",
    "        mislist.append(mis)\n",
    "        \n",
    "    return term_results, mislist"
   ]
  },
  {
   "cell_type": "code",
   "execution_count": 20,
   "id": "b632ba48",
   "metadata": {},
   "outputs": [],
   "source": [
    "def task_monitor(task_list, mt_pool, well_results, mis_results):\n",
    "    while len(task_list) > 0:\n",
    "        tmp_task_list = []\n",
    "        for future in task_list:\n",
    "            if future.done():\n",
    "                well_result, mis_result = future.result()\n",
    "                well_results.extend(well_result)\n",
    "                mis_results.extend(mis_result)\n",
    "            else:\n",
    "                tmp_task_list.append(future)\n",
    "        \n",
    "        task_list = tmp_task_list"
   ]
  },
  {
   "cell_type": "code",
   "execution_count": 21,
   "id": "051449b2",
   "metadata": {
    "scrolled": true
   },
   "outputs": [
    {
     "name": "stdout",
     "output_type": "stream",
     "text": [
      "patient\n",
      "重定向\n",
      "重定向\n",
      "重定向\n",
      "重定向\n",
      "重定向\n",
      "重定向\n",
      "重定向\n",
      "重定向\n",
      "重定向\n",
      "重定向\n",
      "重定向\n",
      "重定向重定向\n",
      "\n",
      "重定向\n",
      "重定向\n",
      "重定向\n",
      "重定向\n",
      "重定向\n",
      "重定向\n",
      "重定向\n",
      "professional\n",
      "重定向\n",
      "重定向\n",
      "重定向\n",
      "重定向\n",
      "重定向\n",
      "重定向\n",
      "重定向\n",
      "重定向\n",
      "重定向\n",
      "重定向\n",
      "重定向\n",
      "重定向\n",
      "重定向\n",
      "重定向\n",
      "重定向\n",
      "重定向\n",
      "重定向\n",
      "重定向\n",
      "重定向\n",
      "重定向\n"
     ]
    }
   ],
   "source": [
    "letters = [chr(i) for i in range(97, 123)] # 生成26个英文字母的列表\n",
    "subletters = [chr(i) for i in range(97, 123)] # 生成26个英文字母的列表\n",
    "\n",
    "letters.append(\"0-9\")\n",
    "subletters.append(\"0-9\")\n",
    "# pbar = tqdm(total=len(letters))\n",
    "tags = ['patient', 'professional']\n",
    "\n",
    "all_wellresults = []\n",
    "mislist = []\n",
    "\n",
    "for tag in tags:\n",
    "    all_craw_tasks = []\n",
    "    task_wellresults = []\n",
    "    task_mislist = []\n",
    "    print(tag)\n",
    "    with ThreadPoolExecutor(max_workers=10) as mt_pool:\n",
    "        for letter in letters:\n",
    "            headers_pc, randomproxy, cookie_dict = changeparams()\n",
    "            for subletter in subletters:\n",
    "                if tag == 'patient':\n",
    "                    tag_url = f'https://www.drugs.com/alpha/{letter}{subletter}.html'\n",
    "                if tag == 'professional':\n",
    "                    tag_url = f'https://www.drugs.com/alpha/{letter}{subletter}.html?pro=1'\n",
    "                tmp_task = mt_pool.submit(get_term_url, tag_url, tag, letter, subletter, headers_pc, randomproxy, cookie_dict, mislist)\n",
    "                all_craw_tasks.append(tmp_task)\n",
    "            time.sleep(2)\n",
    "            \n",
    "        task_monitor(all_craw_tasks, mt_pool, task_wellresults, task_mislist)\n",
    "    \n",
    "    all_wellresults.extend(task_wellresults)\n",
    "    mislist.extend(task_mislist)\n",
    "    with open(f'D:/Intern_Project/9_drugs/术语链接列表.json', 'w', encoding='utf-8') as f:\n",
    "        f.write(json.dumps(all_wellresults, indent=2, ensure_ascii=False))"
   ]
  },
  {
   "cell_type": "code",
   "execution_count": 31,
   "id": "91426e1c",
   "metadata": {},
   "outputs": [
    {
     "name": "stdout",
     "output_type": "stream",
     "text": [
      "10672600\n",
      "['patient_nq', 'patient_nn', 'patient_nt', 'patient_nu', 'patient_nv', 'patient_ns', 'patient_nx', 'patient_np', 'patient_nr', 'patient_nw', 'patient_ny', 'patient_n0-9', 'patient_nz', 'patient_oa', 'patient_oc', 'patient_ob', 'patient_od', 'patient_oe', 'patient_of', 'patient_og', 'patient_nq', 'patient_nn', 'patient_nt', 'patient_nu', 'patient_nv', 'patient_ns', 'patient_nx', 'patient_np', 'patient_nr', 'patient_nw', 'patient_ny', 'patient_n0-9', 'patient_nz', 'patient_oa', 'patient_oc', 'patient_ob', 'patient_od', 'patient_oe', 'patient_of', 'patient_og', 'patient_nq']\n"
     ]
    }
   ],
   "source": [
    "print(len(mislist))\n",
    "print(mislist[:20])"
   ]
  },
  {
   "cell_type": "code",
   "execution_count": 37,
   "id": "9d7d6ac8",
   "metadata": {},
   "outputs": [],
   "source": [
    "mislist = ['patient_nq', 'patient_nn', 'patient_nt', 'patient_nu', 'patient_nv', 'patient_ns', 'patient_nx', 'patient_np', 'patient_nr', 'patient_nw', 'patient_ny', 'patient_n0-9', 'patient_nz', \n",
    "           'patient_oa', 'patient_oc', 'patient_ob', 'patient_od', 'patient_oe', 'patient_of', 'patient_og', \n",
    "           'professional_ix', 'professional_iy', 'professional_iz', 'professional_i0-9', \n",
    "           'professional_ja', 'professional_jb', 'professional_jc', 'professional_jd', 'professional_je', 'professional_jf', 'professional_jg', 'professional_jh', 'professional_ji', 'professional_jj',\n",
    "           'professional_jk', 'professional_jl', 'professional_jm', 'professional_jn', 'professional_jo', 'professional_jp', 'professional_jq'] "
   ]
  },
  {
   "cell_type": "code",
   "execution_count": 38,
   "id": "e4183911",
   "metadata": {},
   "outputs": [
    {
     "name": "stdout",
     "output_type": "stream",
     "text": [
      "977\n"
     ]
    }
   ],
   "source": [
    "print(len(all_wellresults))"
   ]
  },
  {
   "cell_type": "code",
   "execution_count": 40,
   "id": "a2a07133",
   "metadata": {},
   "outputs": [],
   "source": [
    "# 补充一些mislist\n",
    "for mis in mislist:\n",
    "    temp_results = []\n",
    "    tag = mis.split(\"_\")[0]\n",
    "    misletter = mis.split(\"_\")[1]\n",
    "    if tag == 'patient':\n",
    "        url = f'https://www.drugs.com/alpha/{misletter}.html'\n",
    "    if tag == 'professional':\n",
    "        url = f'https://www.drugs.com/alpha/{misletter}.html?pro=1'\n",
    "    r = requests.get(url, headers=headers_pc, proxies=randomproxy, cookies=cookie_dict, timeout=10)\n",
    "    r.encoding = 'utf-8'\n",
    "    html = r.text\n",
    "    with open(f'D:/Intern_Project/9_drugs/{tag}_{misletter}列表页.html', 'w+', encoding='utf-8') as f:\n",
    "         f.write(html)\n",
    "    size = round(os.path.getsize(f'D:/Intern_Project/9_drugs/{tag}_{misletter}列表页.html') / float(1024),2)\n",
    "    if  size<2.0:\n",
    "        time.sleep(10)\n",
    "        headers_pc, randomproxy, cookie_dict = changeparams()\n",
    "        r = requests.get(url, headers=headers_pc, proxies=randomproxy, cookies=cookie_dict, timeout=10)\n",
    "        r.encoding = 'utf-8'\n",
    "        html = r.text\n",
    "        with open(f'D:/Intern_Project/9_drugs/{tag}_{misletter}列表页.html', 'w+', encoding='utf-8') as f:\n",
    "             f.write(html)\n",
    "                \n",
    "    selector = Selector(text=html)\n",
    "    termUrl_list = selector.xpath(\n",
    "        \"//ul[@class='ddc-list-unstyled']/li/a\")\n",
    "    #print(len(termUrl_list))\n",
    "    for termUrl in termUrl_list:\n",
    "        temp_url = \"https://www.drugs.com\" + termUrl.xpath('./@href').extract()[0]\n",
    "        temp_term = termUrl.xpath('./text()').extract()[0]\n",
    "        # print(term)\n",
    "        temp = {\n",
    "            'term': temp_term,\n",
    "            'url': temp_url\n",
    "        }\n",
    "        temp_results.append(temp)\n",
    "    all_wellresults.extend(temp_results)\n",
    "\n",
    "with open(f'D:/Intern_Project/9_drugs/术语链接列表.json', 'w', encoding='utf-8') as f:\n",
    "    f.write(json.dumps(all_wellresults, indent=2, ensure_ascii=False))"
   ]
  },
  {
   "cell_type": "code",
   "execution_count": 41,
   "id": "3b72e098",
   "metadata": {},
   "outputs": [
    {
     "name": "stdout",
     "output_type": "stream",
     "text": [
      "1020\n"
     ]
    }
   ],
   "source": [
    "print(len(all_wellresults))"
   ]
  },
  {
   "cell_type": "code",
   "execution_count": 13,
   "id": "a9ca385f",
   "metadata": {},
   "outputs": [
    {
     "name": "stdout",
     "output_type": "stream",
     "text": [
      "{'term': 'Avocado Sugar Extract', 'url': 'https://www.rxlist.com/avocado_sugar_extract/supplements.htm'}\n"
     ]
    }
   ],
   "source": [
    "# 用来测试哪些页面能简单获取到\n",
    "headers_pc, randomproxy, cookie_dict = changeparams()\n",
    "            \n",
    "requests.adapters.DEFAULT_RETRIES = 12 # 增加重连次数\n",
    "s = requests.session()\n",
    "s.keep_alive = False # 关闭多余连接\n",
    "\n",
    "# url = f'https://www.medicinenet.com/diseases_and_conditions/alpha_u.htm'\n",
    "url = f'https://www.rxlist.com/supplements/alpha_a.htm'\n",
    "# r = requests.get(url, headers=headers_pc, params=params, proxies=randomproxy, cookies=cookie_dict, timeout=10)\n",
    "try:  \n",
    "    # 外网不能加params？？？\n",
    "    r = requests.get(url, headers=headers_pc, proxies=randomproxy, cookies=cookie_dict, timeout=10)\n",
    "    \n",
    "    \n",
    "    #             encoding = cchardet.detect(r.content)['encoding']\n",
    "    #             html = r.content.decode(encoding)\n",
    "    r.encoding = 'utf-8'\n",
    "    html = r.text\n",
    "    with open('D:/Intern_Project/8_RxList/test列表页2.html', 'w+', encoding='utf-8') as f:\n",
    "        f.write(html)\n",
    "except Exception as e:\n",
    "    print(e)\n",
    "\n",
    "selector = Selector(text=html)\n",
    "termUrl_list = selector.xpath(\n",
    "    \"//div[@id='AZ_container']/div[@class='AZ_results']/ul/li/a\")\n",
    "    \n",
    "for termUrl in termUrl_list:\n",
    "    url = termUrl.xpath('./@href').extract()[0]\n",
    "    term = termUrl.xpath('./text()').extract()[0]\n",
    "    # print(term)\n",
    "    tmp = {\n",
    "        'term': term,\n",
    "        'url': url\n",
    "    }\n",
    "\n",
    "print(tmp)"
   ]
  }
 ],
 "metadata": {
  "kernelspec": {
   "display_name": "Python 3 (ipykernel)",
   "language": "python",
   "name": "python3"
  },
  "language_info": {
   "codemirror_mode": {
    "name": "ipython",
    "version": 3
   },
   "file_extension": ".py",
   "mimetype": "text/x-python",
   "name": "python",
   "nbconvert_exporter": "python",
   "pygments_lexer": "ipython3",
   "version": "3.9.12"
  }
 },
 "nbformat": 4,
 "nbformat_minor": 5
}
