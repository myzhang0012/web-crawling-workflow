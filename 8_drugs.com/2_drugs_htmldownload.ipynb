{
 "cells": [
  {
   "cell_type": "markdown",
   "id": "50ee8c04",
   "metadata": {},
   "source": [
    "https://www.drugs.com/alpha/a.html"
   ]
  },
  {
   "cell_type": "code",
   "execution_count": 1,
   "id": "bafb3218",
   "metadata": {},
   "outputs": [],
   "source": [
    "import re\n",
    "import os\n",
    "import requests\n",
    "import hashlib\n",
    "import json\n",
    "import time\n",
    "import random\n",
    "import string\n",
    "import pandas as pd\n",
    "from tqdm import tqdm\n",
    "import codecs\n",
    "from glob import glob\n",
    "from bs4 import BeautifulSoup\n",
    "from scrapy.selector import Selector\n",
    "from urllib.parse import unquote\n",
    "from concurrent.futures import ThreadPoolExecutor, as_completed"
   ]
  },
  {
   "cell_type": "code",
   "execution_count": 2,
   "id": "7db41641",
   "metadata": {},
   "outputs": [],
   "source": [
    "# 定义随机的useragent\n",
    "from fake_useragent import UserAgent\n",
    "ua = UserAgent()\n",
    "\n",
    "# 设置代理ip\n",
    "ipdata = pd.read_excel('D:/Intern_Project/代理ip的地址2000.xlsx')\n",
    "ipdata.fillna(\"\",inplace = True)\n",
    "\n",
    "proxieslist = []\n",
    "\n",
    "for i in ipdata.index.values:\n",
    "    line = ipdata.loc[i,['HTTP']].to_dict()\n",
    "    proxieslist.append(line)\n",
    "    \n",
    "# randomproxy = random.choice(proxieslist)\n",
    "\n",
    "# 设置消息头\n",
    "headers_pc = {\n",
    "    'User-Agent': ua.random,\n",
    "    'Accept': 'text/html,application/xhtml+xml,application/xml;q=0.9,image/avif,image/webp,image/apng,*/*;q=0.8,application/signed-exchange;v=b3;q=0.7'\n",
    "}\n",
    "\n",
    "# params = {\n",
    "#     'ie': 'UTF-8',\n",
    "#     'wd': 'Python'\n",
    "# }\n"
   ]
  },
  {
   "cell_type": "code",
   "execution_count": 3,
   "id": "09b87a34",
   "metadata": {},
   "outputs": [],
   "source": [
    "def changeparams():\n",
    "    headers_pc = {\n",
    "    'User-Agent': ua.random,\n",
    "    'Accept': 'text/html,application/xhtml+xml,application/xml;q=0.9,image/avif,image/webp,image/apng,*/*;q=0.8,application/signed-exchange;v=b3;q=0.7'\n",
    "    }\n",
    "    randomproxy = random.choice(proxieslist)\n",
    "    #  访问百度服务器，获取cookie\n",
    "    res = requests.get('https://www.rxlist.com/supplements/alpha_a.htm', headers=headers_pc, proxies= randomproxy,)\n",
    "    # 将cookieJar数据转化为字典，s\n",
    "    cookie_dict = requests.utils.dict_from_cookiejar(res.cookies)\n",
    "    return headers_pc, randomproxy, cookie_dict"
   ]
  },
  {
   "cell_type": "code",
   "execution_count": 9,
   "id": "8491aef8",
   "metadata": {},
   "outputs": [],
   "source": [
    "def articlehtml_download(headers_pc, randomproxy, cookie_dict, item, mislist):\n",
    "    # pbar.set_description(item['term'])\n",
    "    try:\n",
    "        url = item['url']\n",
    "        term = item['term'].strip().replace('/', ' ')\n",
    "        if os.path.exists(f\"D:/Intern_Project/9_drugs/article_htmls/{term}.html\"):\n",
    "#         if os.path.exists(f\"D:/Intern_Project/5_everydayhealth/health_html/{newterm}.html\"):\n",
    "#             pbar.update(1)    \n",
    "            return None \n",
    "#         time.sleep(random.randint(0, 5))\n",
    "        r = requests.get(url, headers=headers_pc, proxies=randomproxy, cookies=cookie_dict, timeout=10)\n",
    "        r.encoding = 'utf-8'\n",
    "        html = r.text\n",
    "        \n",
    "        with open(f\"D:/Intern_Project/9_drugs/article_htmls/{term}.html\", 'w+', encoding='utf-8') as f:\n",
    "#         with open(f\"D:/Intern_Project/5_everydayhealth/health_html/{newterm}.html\", 'w+', encoding='utf-8') as f:\n",
    "            f.write(html)\n",
    "    \n",
    "#         pbar.update(1)\n",
    "    except Exception as e:\n",
    "        print(e)\n",
    "        headers_pc, randomproxy, cookie_dict = changeparams()\n",
    "        mislist.append(item)\n",
    "    return None"
   ]
  },
  {
   "cell_type": "code",
   "execution_count": 7,
   "id": "549b8e43",
   "metadata": {},
   "outputs": [
    {
     "name": "stdout",
     "output_type": "stream",
     "text": [
      "1020\n"
     ]
    }
   ],
   "source": [
    "with open('D:/Intern_Project/9_drugs/术语链接列表.json', 'r', encoding='utf-8') as f:\n",
    "    url_list = json.load(f)\n",
    "\n",
    "print(len(url_list))\n"
   ]
  },
  {
   "cell_type": "code",
   "execution_count": 10,
   "id": "1ed1f0de",
   "metadata": {},
   "outputs": [
    {
     "name": "stdout",
     "output_type": "stream",
     "text": [
      "100\n",
      "200\n",
      "300\n",
      "400\n",
      "500\n",
      "600\n",
      "700\n",
      "800\n",
      "900\n",
      "1000\n"
     ]
    }
   ],
   "source": [
    "mislist = []\n",
    "    \n",
    "count = 0\n",
    "headers_pc, randomproxy, cookie_dict = changeparams()\n",
    "\n",
    "for item in url_list:\n",
    "    articlehtml_download(headers_pc, randomproxy, cookie_dict, item, mislist)\n",
    "    count += 1\n",
    "    if count % 100 == 0:\n",
    "        # time.sleep(2)\n",
    "        headers_pc, randomproxy, cookie_dict = changeparams()\n",
    "        print(count)\n",
    "        \n"
   ]
  },
  {
   "cell_type": "code",
   "execution_count": 11,
   "id": "41507957",
   "metadata": {},
   "outputs": [
    {
     "name": "stdout",
     "output_type": "stream",
     "text": [
      "[]\n"
     ]
    }
   ],
   "source": [
    "print(mislist)"
   ]
  }
 ],
 "metadata": {
  "kernelspec": {
   "display_name": "Python 3 (ipykernel)",
   "language": "python",
   "name": "python3"
  },
  "language_info": {
   "codemirror_mode": {
    "name": "ipython",
    "version": 3
   },
   "file_extension": ".py",
   "mimetype": "text/x-python",
   "name": "python",
   "nbconvert_exporter": "python",
   "pygments_lexer": "ipython3",
   "version": "3.9.12"
  }
 },
 "nbformat": 4,
 "nbformat_minor": 5
}
