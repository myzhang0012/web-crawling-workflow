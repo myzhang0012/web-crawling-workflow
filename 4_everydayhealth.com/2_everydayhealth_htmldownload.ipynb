{
 "cells": [
  {
   "cell_type": "markdown",
   "id": "50ee8c04",
   "metadata": {},
   "source": [
    "https://www.everydayhealth.com/conditions/"
   ]
  },
  {
   "cell_type": "code",
   "execution_count": 1,
   "id": "bafb3218",
   "metadata": {},
   "outputs": [],
   "source": [
    "import re\n",
    "import os\n",
    "import requests\n",
    "import hashlib\n",
    "import json\n",
    "import time\n",
    "import random\n",
    "import string\n",
    "import pandas as pd\n",
    "from tqdm import tqdm\n",
    "import codecs\n",
    "from glob import glob\n",
    "from bs4 import BeautifulSoup\n",
    "from scrapy.selector import Selector\n",
    "from urllib.parse import unquote\n",
    "from concurrent.futures import ThreadPoolExecutor, as_completed"
   ]
  },
  {
   "cell_type": "code",
   "execution_count": 2,
   "id": "7db41641",
   "metadata": {},
   "outputs": [],
   "source": [
    "# 定义随机的useragent\n",
    "from fake_useragent import UserAgent\n",
    "ua = UserAgent()\n",
    "\n",
    "# 设置代理ip\n",
    "ipdata = pd.read_excel('D:/Intern_Project/代理ip的地址2000.xlsx')\n",
    "ipdata.fillna(\"\",inplace = True)\n",
    "\n",
    "proxieslist = []\n",
    "\n",
    "for i in ipdata.index.values:\n",
    "    line = ipdata.loc[i,['HTTP']].to_dict()\n",
    "    proxieslist.append(line)\n",
    "    \n",
    "# randomproxy = random.choice(proxieslist)\n",
    "\n",
    "# 设置消息头\n",
    "headers_pc = {\n",
    "    'User-Agent': ua.random,\n",
    "    'Accept': 'text/html,application/xhtml+xml,application/xml;q=0.9,image/avif,image/webp,image/apng,*/*;q=0.8,application/signed-exchange;v=b3;q=0.7'\n",
    "}\n",
    "\n",
    "params = {\n",
    "    'ie': 'UTF-8',\n",
    "    'wd': 'Python'\n",
    "}\n"
   ]
  },
  {
   "cell_type": "code",
   "execution_count": 3,
   "id": "09b87a34",
   "metadata": {},
   "outputs": [],
   "source": [
    "def changeparams():\n",
    "    headers_pc = {\n",
    "    'User-Agent': ua.random,\n",
    "    'Accept': 'text/html,application/xhtml+xml,application/xml;q=0.9,image/avif,image/webp,image/apng,*/*;q=0.8,application/signed-exchange;v=b3;q=0.7'\n",
    "    }\n",
    "    randomproxy = random.choice(proxieslist)\n",
    "    \n",
    "    return headers_pc, randomproxy\n"
   ]
  },
  {
   "cell_type": "code",
   "execution_count": 4,
   "id": "22a03e1c",
   "metadata": {},
   "outputs": [],
   "source": [
    "headers_pc, randomproxy = changeparams()\n",
    "res = requests.get('https://www.everydayhealth.com', headers=headers_pc, proxies= randomproxy)\n",
    "# 将cookieJar数据转化为字典\n",
    "cookie_dict = requests.utils.dict_from_cookiejar(res.cookies)"
   ]
  },
  {
   "cell_type": "code",
   "execution_count": 8,
   "id": "8491aef8",
   "metadata": {},
   "outputs": [],
   "source": [
    "def html_download(headers_pc, randomproxy, item):\n",
    "    # pbar.set_description(item['term'])\n",
    "    try:\n",
    "        url = item['url']\n",
    "        newterm = item['term'].strip().replace('/', ' ')\n",
    "        if os.path.exists(f\"D:/Intern_Project/5_everydayhealth/drugs_html/{newterm}.html\"):\n",
    "#         if os.path.exists(f\"D:/Intern_Project/5_everydayhealth/health_html/{newterm}.html\"):\n",
    "#             pbar.update(1)    \n",
    "            return None\n",
    "#         time.sleep(random.randint(0, 5))\n",
    "        r = requests.get(url, headers=headers_pc, proxies=randomproxy, cookies=cookie_dict, timeout=10)\n",
    "        r.encoding = 'utf-8'\n",
    "        html = r.text   \n",
    "        \n",
    "        with open(f\"D:/Intern_Project/5_everydayhealth/drugs_html/{newterm}.html\", 'w+', encoding='utf-8') as f:\n",
    "            f.write(html)\n",
    "            \n",
    "#         pbar.update(1)\n",
    "    \n",
    "    except Exception as e:\n",
    "        print(e)\n",
    "        headers_pc, randomproxy = changeparams()\n",
    "        time.sleep(random.randint(5,10))\n",
    "        html_download(headers_pc, randomproxy, item)\n",
    "    return None"
   ]
  },
  {
   "cell_type": "code",
   "execution_count": 13,
   "id": "b632ba48",
   "metadata": {},
   "outputs": [],
   "source": [
    "def task_monitor(task_list, mt_pool):\n",
    "    while len(task_list) > 0:\n",
    "        tmp_task_list = []\n",
    "        for future in task_list:\n",
    "            if future.done():\n",
    "                result = future.result()\n",
    "#                 results.extend(result)\n",
    "            else:\n",
    "                tmp_task_list.append(future)\n",
    "        \n",
    "        task_list = tmp_task_list"
   ]
  },
  {
   "cell_type": "code",
   "execution_count": null,
   "id": "1757ea42",
   "metadata": {
    "collapsed": true
   },
   "outputs": [
    {
     "name": "stderr",
     "output_type": "stream",
     "text": [
      "  8%|██████▌                                                                          | 1129/13815 [00:10<3:08:30,  1.12it/s]"
     ]
    },
    {
     "name": "stdout",
     "output_type": "stream",
     "text": [
      "HTTPSConnectionPool(host='www.everydayhealth.com', port=443): Read timed out. (read timeout=10)\n"
     ]
    },
    {
     "name": "stderr",
     "output_type": "stream",
     "text": [
      " 30%|████████████████████████▉                                                          | 4141/13815 [07:52<33:20,  4.84it/s]"
     ]
    },
    {
     "name": "stdout",
     "output_type": "stream",
     "text": [
      "HTTPSConnectionPool(host='www.everydayhealth.com', port=443): Read timed out. (read timeout=10)\n"
     ]
    },
    {
     "name": "stderr",
     "output_type": "stream",
     "text": [
      " 30%|████████████████████████▉                                                          | 4148/13815 [07:54<28:16,  5.70it/s]"
     ]
    },
    {
     "name": "stdout",
     "output_type": "stream",
     "text": [
      "HTTPSConnectionPool(host='www.everydayhealth.com', port=443): Read timed out. (read timeout=10)\n"
     ]
    },
    {
     "name": "stderr",
     "output_type": "stream",
     "text": [
      " 33%|███████████████████████████▌                                                       | 4596/13815 [08:58<28:58,  5.30it/s]"
     ]
    },
    {
     "name": "stdout",
     "output_type": "stream",
     "text": [
      "HTTPSConnectionPool(host='www.everydayhealth.com', port=443): Read timed out. (read timeout=10)\n"
     ]
    },
    {
     "name": "stderr",
     "output_type": "stream",
     "text": [
      " 33%|███████████████████████████▋                                                       | 4602/13815 [08:59<22:33,  6.81it/s]"
     ]
    },
    {
     "name": "stdout",
     "output_type": "stream",
     "text": [
      "HTTPSConnectionPool(host='www.everydayhealth.com', port=443): Read timed out. (read timeout=10)\n"
     ]
    },
    {
     "name": "stderr",
     "output_type": "stream",
     "text": [
      " 34%|███████████████████████████▊                                                       | 4631/13815 [09:02<40:31,  3.78it/s]"
     ]
    },
    {
     "name": "stdout",
     "output_type": "stream",
     "text": [
      "HTTPSConnectionPool(host='www.everydayhealth.com', port=443): Read timed out. (read timeout=10)\n"
     ]
    },
    {
     "name": "stderr",
     "output_type": "stream",
     "text": [
      " 44%|████████████████████████████████████▎                                              | 6054/13815 [12:25<28:11,  4.59it/s]"
     ]
    },
    {
     "name": "stdout",
     "output_type": "stream",
     "text": [
      "HTTPSConnectionPool(host='www.everydayhealth.com', port=443): Read timed out. (read timeout=10)\n"
     ]
    },
    {
     "name": "stderr",
     "output_type": "stream",
     "text": [
      " 44%|████████████████████████████████████▍                                              | 6072/13815 [12:27<32:02,  4.03it/s]"
     ]
    },
    {
     "name": "stdout",
     "output_type": "stream",
     "text": [
      "HTTPSConnectionPool(host='www.everydayhealth.com', port=443): Read timed out. (read timeout=10)\n"
     ]
    },
    {
     "name": "stderr",
     "output_type": "stream",
     "text": [
      " 44%|████████████████████████████████████▌                                              | 6080/13815 [12:29<29:17,  4.40it/s]"
     ]
    },
    {
     "name": "stdout",
     "output_type": "stream",
     "text": [
      "HTTPSConnectionPool(host='www.everydayhealth.com', port=443): Read timed out.\n"
     ]
    },
    {
     "name": "stderr",
     "output_type": "stream",
     "text": [
      " 65%|█████████████████████████████████████████████████████▌                             | 8913/13815 [18:27<36:21,  2.25it/s]"
     ]
    }
   ],
   "source": [
    "# 下载drugs_html\n",
    "with open('D:/Intern_Project/5_everydayhealth/drugs术语链接列表.json', 'r', encoding='utf-8') as f:\n",
    "    url_list = json.load(f)\n",
    "\n",
    "pbar = tqdm(total=len(url_list))\n",
    "all_craw_tasks = []\n",
    "headers_pc, randomproxy = changeparams()\n",
    "with ThreadPoolExecutor(max_workers=10) as mt_pool:\n",
    "    for item in url_list:\n",
    "        headers_pc, randomproxy = changeparams()\n",
    "        tmp_task = mt_pool.submit(html_download, headers_pc, randomproxy, item)\n",
    "        all_craw_tasks.append(tmp_task)\n",
    "\n",
    "    # 监测下载任务进展\n",
    "    task_monitor(all_craw_tasks, mt_pool)"
   ]
  },
  {
   "cell_type": "code",
   "execution_count": 9,
   "id": "7cb9d3fd",
   "metadata": {
    "scrolled": true
   },
   "outputs": [
    {
     "name": "stdout",
     "output_type": "stream",
     "text": [
      "100\n",
      "200\n",
      "300\n",
      "400\n",
      "500\n",
      "600\n",
      "700\n",
      "800\n",
      "900\n",
      "1000\n",
      "1100\n",
      "1200\n",
      "1300\n",
      "1400\n",
      "1500\n",
      "1600\n",
      "1700\n",
      "1800\n",
      "1900\n",
      "2000\n",
      "2100\n",
      "2200\n",
      "2300\n",
      "2400\n",
      "2500\n",
      "2600\n",
      "2700\n",
      "2800\n",
      "2900\n",
      "3000\n",
      "3100\n",
      "3200\n",
      "3300\n",
      "3400\n",
      "3500\n",
      "3600\n",
      "3700\n",
      "3800\n",
      "3900\n",
      "4000\n",
      "4100\n",
      "4200\n",
      "4300\n",
      "4400\n",
      "4500\n",
      "4600\n",
      "4700\n",
      "4800\n",
      "4900\n",
      "5000\n",
      "5100\n",
      "5200\n",
      "5300\n",
      "5400\n",
      "5500\n",
      "5600\n",
      "5700\n",
      "5800\n",
      "5900\n",
      "6000\n",
      "6100\n",
      "6200\n",
      "6300\n",
      "6400\n",
      "6500\n",
      "6600\n",
      "6700\n",
      "6800\n",
      "6900\n",
      "7000\n",
      "7100\n",
      "7200\n",
      "HTTPSConnectionPool(host='www.everydayhealth.com', port=443): Read timed out. (read timeout=10)\n",
      "HTTPSConnectionPool(host='www.everydayhealth.com', port=443): Read timed out. (read timeout=10)\n",
      "HTTPSConnectionPool(host='www.everydayhealth.com', port=443): Read timed out. (read timeout=10)\n",
      "HTTPSConnectionPool(host='www.everydayhealth.com', port=443): Read timed out. (read timeout=10)\n",
      "7300\n",
      "7400\n",
      "7500\n",
      "7600\n",
      "7700\n",
      "7800\n",
      "7900\n",
      "8000\n",
      "8100\n",
      "8200\n",
      "8300\n",
      "8400\n",
      "8500\n",
      "8600\n",
      "8700\n",
      "8800\n",
      "8900\n",
      "9000\n",
      "9100\n",
      "9200\n",
      "9300\n",
      "9400\n",
      "9500\n",
      "9600\n",
      "9700\n",
      "9800\n",
      "9900\n",
      "10000\n",
      "10100\n",
      "10200\n",
      "10300\n",
      "10400\n",
      "10500\n",
      "10600\n",
      "10700\n",
      "10800\n",
      "10900\n",
      "11000\n",
      "11100\n",
      "11200\n",
      "11300\n",
      "11400\n",
      "11500\n",
      "11600\n",
      "11700\n",
      "11800\n",
      "11900\n",
      "12000\n",
      "12100\n",
      "12200\n",
      "12300\n",
      "12400\n",
      "12500\n",
      "12600\n",
      "12700\n",
      "12800\n",
      "12900\n",
      "13000\n",
      "13100\n",
      "13200\n",
      "HTTPSConnectionPool(host='www.everydayhealth.com', port=443): Max retries exceeded with url: /drugs/trianex (Caused by ProxyError('Cannot connect to proxy.', RemoteDisconnected('Remote end closed connection without response')))\n",
      "HTTPSConnectionPool(host='www.everydayhealth.com', port=443): Max retries exceeded with url: /drugs/trianex (Caused by SSLError(SSLEOFError(8, 'EOF occurred in violation of protocol (_ssl.c:1129)')))\n",
      "HTTPSConnectionPool(host='www.everydayhealth.com', port=443): Max retries exceeded with url: /drugs/trianex (Caused by SSLError(SSLEOFError(8, 'EOF occurred in violation of protocol (_ssl.c:1129)')))\n",
      "HTTPSConnectionPool(host='www.everydayhealth.com', port=443): Max retries exceeded with url: /drugs/triaz-foaming-cloths (Caused by SSLError(SSLEOFError(8, 'EOF occurred in violation of protocol (_ssl.c:1129)')))\n",
      "13300\n",
      "13400\n",
      "HTTPSConnectionPool(host='www.everydayhealth.com', port=443): Max retries exceeded with url: /drugs/tuxarin-er (Caused by ProxyError('Cannot connect to proxy.', ConnectionResetError(10054, '远程主机强迫关闭了一个现有的连接。', None, 10054, None)))\n",
      "13500\n",
      "HTTPSConnectionPool(host='www.everydayhealth.com', port=443): Max retries exceeded with url: /drugs/tylenol-simply-stuffy (Caused by ProxyError('Cannot connect to proxy.', ConnectionResetError(10054, '远程主机强迫关闭了一个现有的连接。', None, 10054, None)))\n",
      "13600\n",
      "13700\n",
      "13800\n"
     ]
    }
   ],
   "source": [
    "with open('D:/Intern_Project/5_everydayhealth/drugs术语链接列表.json', 'r', encoding='utf-8') as f:\n",
    "    url_list = json.load(f)\n",
    "headers_pc, randomproxy = changeparams()\n",
    "count = 0\n",
    "for item in url_list:  \n",
    "    headers_pc, randomproxy = changeparams()\n",
    "    html_download(headers_pc, randomproxy, item)\n",
    "    count += 1\n",
    "    if count % 100 == 0:\n",
    "        print(count)\n",
    "        time.sleep(random.randint(5,10))\n",
    "        headers_pc, randomproxy = changeparams()\n",
    "        res = requests.get('https://www.everydayhealth.com', headers=headers_pc, proxies= randomproxy)\n",
    "        # 将cookieJar数据转化为字典\n",
    "        cookie_dict = requests.utils.dict_from_cookiejar(res.cookies)"
   ]
  },
  {
   "cell_type": "code",
   "execution_count": 19,
   "id": "ab7f3c79",
   "metadata": {},
   "outputs": [],
   "source": [
    "def html_download_append(headers_pc, randomproxy, url):\n",
    "   # pbar.set_description(item['term'])\n",
    "    try:\n",
    "#         if os.path.exists(f\"D:/Intern_Project/5_everydayhealth/drugs_html/{newterm}.html\"):\n",
    "# #         if os.path.exists(f\"D:/Intern_Project/5_everydayhealth/health_html/{newterm}.html\"):\n",
    "#             pbar.update(1)    \n",
    "#             return None\n",
    "#         time.sleep(random.randint(0, 5))\n",
    "        item = url[31:].strip('/').replace('/', '--')\n",
    "        r = requests.get(url, headers=headers_pc, proxies=randomproxy, cookies=cookie_dict, timeout=10)\n",
    "        r.encoding = 'utf-8'\n",
    "        html = r.text   \n",
    "        \n",
    "        with open(f\"D:/Intern_Project/5_everydayhealth/health_html/{item}.html\", 'w+', encoding='utf-8') as f:\n",
    "            f.write(html)\n",
    "            \n",
    "        pbar.update(1)\n",
    "    \n",
    "    except Exception as e:\n",
    "        print(e)\n",
    "        headers_pc, randomproxy = changeparams()\n",
    "        time.sleep(random.randint(5,10))\n",
    "        html_download(headers_pc, randomproxy, url)\n",
    "    return None"
   ]
  },
  {
   "cell_type": "code",
   "execution_count": null,
   "id": "9aea6894",
   "metadata": {
    "scrolled": true
   },
   "outputs": [
    {
     "name": "stderr",
     "output_type": "stream",
     "text": [
      "  1%|▋                                                                                     | 14/1870 [01:52<15:14,  2.03it/s]"
     ]
    },
    {
     "name": "stdout",
     "output_type": "stream",
     "text": [
      "HTTPSConnectionPool(host='www.everydayhealth.com', port=443): Max retries exceeded with url: /crohns-disease/self-injections-crohns/ (Caused by ProxyError('Cannot connect to proxy.', ConnectionResetError(10054, '远程主机强迫关闭了一个现有的连接。', None, 10054, None)))\n"
     ]
    },
    {
     "name": "stderr",
     "output_type": "stream",
     "text": [
      "  2%|█▌                                                                                    | 35/1870 [01:58<08:05,  3.78it/s]"
     ]
    },
    {
     "name": "stdout",
     "output_type": "stream",
     "text": [
      "string indices must be integers\n"
     ]
    },
    {
     "name": "stderr",
     "output_type": "stream",
     "text": [
      "  3%|██▍                                                                                   | 53/1870 [02:03<05:23,  5.62it/s]"
     ]
    },
    {
     "name": "stdout",
     "output_type": "stream",
     "text": [
      "string indices must be integers\n"
     ]
    },
    {
     "name": "stderr",
     "output_type": "stream",
     "text": [
      "  4%|███▊                                                                                  | 83/1870 [02:11<13:16,  2.24it/s]"
     ]
    },
    {
     "name": "stdout",
     "output_type": "stream",
     "text": [
      "string indices must be integers\n"
     ]
    },
    {
     "name": "stderr",
     "output_type": "stream",
     "text": [
      "  7%|█████▌                                                                               | 122/1870 [02:21<10:50,  2.69it/s]"
     ]
    },
    {
     "name": "stdout",
     "output_type": "stream",
     "text": [
      "string indices must be integers\n"
     ]
    },
    {
     "name": "stderr",
     "output_type": "stream",
     "text": [
      "  8%|██████▊                                                                              | 150/1870 [02:28<07:11,  3.98it/s]"
     ]
    },
    {
     "name": "stdout",
     "output_type": "stream",
     "text": [
      "string indices must be integers\n"
     ]
    },
    {
     "name": "stderr",
     "output_type": "stream",
     "text": [
      " 10%|████████▌                                                                            | 188/1870 [02:38<11:22,  2.46it/s]"
     ]
    },
    {
     "name": "stdout",
     "output_type": "stream",
     "text": [
      "string indices must be integers\n"
     ]
    },
    {
     "name": "stderr",
     "output_type": "stream",
     "text": [
      " 11%|█████████▎                                                                           | 206/1870 [02:43<06:39,  4.16it/s]"
     ]
    },
    {
     "name": "stdout",
     "output_type": "stream",
     "text": [
      "string indices must be integers\n"
     ]
    },
    {
     "name": "stderr",
     "output_type": "stream",
     "text": [
      " 12%|██████████▎                                                                          | 227/1870 [02:49<06:19,  4.32it/s]"
     ]
    },
    {
     "name": "stdout",
     "output_type": "stream",
     "text": [
      "string indices must be integers\n"
     ]
    },
    {
     "name": "stderr",
     "output_type": "stream",
     "text": [
      " 14%|████████████▏                                                                        | 267/1870 [02:59<08:42,  3.07it/s]"
     ]
    },
    {
     "name": "stdout",
     "output_type": "stream",
     "text": [
      "string indices must be integers\n"
     ]
    },
    {
     "name": "stderr",
     "output_type": "stream",
     "text": [
      " 15%|█████████████                                                                        | 287/1870 [03:04<08:25,  3.13it/s]"
     ]
    },
    {
     "name": "stdout",
     "output_type": "stream",
     "text": [
      "string indices must be integers\n"
     ]
    },
    {
     "name": "stderr",
     "output_type": "stream",
     "text": [
      " 17%|██████████████▎                                                                      | 315/1870 [03:11<04:04,  6.36it/s]"
     ]
    },
    {
     "name": "stdout",
     "output_type": "stream",
     "text": [
      "string indices must be integers\n"
     ]
    },
    {
     "name": "stderr",
     "output_type": "stream",
     "text": [
      " 18%|███████████████▎                                                                     | 338/1870 [03:17<09:24,  2.71it/s]"
     ]
    },
    {
     "name": "stdout",
     "output_type": "stream",
     "text": [
      "string indices must be integers\n",
      "HTTPSConnectionPool(host='www.everydayhealth.com', port=443): Max retries exceeded with url: /multiple-sclerosis/symptoms/eye-complications-ms/ (Caused by SSLError(SSLEOFError(8, 'EOF occurred in violation of protocol (_ssl.c:1129)')))\n"
     ]
    },
    {
     "name": "stderr",
     "output_type": "stream",
     "text": [
      " 19%|████████████████▎                                                                    | 359/1870 [03:22<05:13,  4.82it/s]"
     ]
    },
    {
     "name": "stdout",
     "output_type": "stream",
     "text": [
      "string indices must be integers\n",
      "string indices must be integers\n"
     ]
    },
    {
     "name": "stderr",
     "output_type": "stream",
     "text": [
      " 20%|█████████████████                                                                    | 376/1870 [03:27<09:42,  2.56it/s]"
     ]
    },
    {
     "name": "stdout",
     "output_type": "stream",
     "text": [
      "string indices must be integers\n"
     ]
    },
    {
     "name": "stderr",
     "output_type": "stream",
     "text": [
      " 21%|█████████████████▍                                                                   | 384/1870 [03:29<07:54,  3.13it/s]"
     ]
    },
    {
     "name": "stdout",
     "output_type": "stream",
     "text": [
      "string indices must be integers\n"
     ]
    },
    {
     "name": "stderr",
     "output_type": "stream",
     "text": [
      " 22%|██████████████████▊                                                                  | 414/1870 [03:37<11:25,  2.12it/s]"
     ]
    },
    {
     "name": "stdout",
     "output_type": "stream",
     "text": [
      "string indices must be integers\n"
     ]
    },
    {
     "name": "stderr",
     "output_type": "stream",
     "text": [
      " 22%|███████████████████                                                                  | 420/1870 [03:39<07:16,  3.32it/s]"
     ]
    },
    {
     "name": "stdout",
     "output_type": "stream",
     "text": [
      "string indices must be integers\n"
     ]
    },
    {
     "name": "stderr",
     "output_type": "stream",
     "text": [
      " 23%|███████████████████▉                                                                 | 438/1870 [03:44<10:16,  2.32it/s]"
     ]
    },
    {
     "name": "stdout",
     "output_type": "stream",
     "text": [
      "string indices must be integers\n"
     ]
    },
    {
     "name": "stderr",
     "output_type": "stream",
     "text": [
      " 24%|████████████████████▍                                                                | 449/1870 [03:47<06:23,  3.70it/s]"
     ]
    },
    {
     "name": "stdout",
     "output_type": "stream",
     "text": [
      "string indices must be integers\n"
     ]
    },
    {
     "name": "stderr",
     "output_type": "stream",
     "text": [
      " 25%|█████████████████████▌                                                               | 474/1870 [03:54<07:09,  3.25it/s]"
     ]
    },
    {
     "name": "stdout",
     "output_type": "stream",
     "text": [
      "string indices must be integers\n"
     ]
    },
    {
     "name": "stderr",
     "output_type": "stream",
     "text": [
      " 26%|█████████████████████▊                                                               | 479/1870 [03:56<07:14,  3.20it/s]"
     ]
    },
    {
     "name": "stdout",
     "output_type": "stream",
     "text": [
      "string indices must be integers\n"
     ]
    },
    {
     "name": "stderr",
     "output_type": "stream",
     "text": [
      " 27%|██████████████████████▉                                                              | 505/1870 [04:03<08:29,  2.68it/s]"
     ]
    },
    {
     "name": "stdout",
     "output_type": "stream",
     "text": [
      "string indices must be integers\n"
     ]
    },
    {
     "name": "stderr",
     "output_type": "stream",
     "text": [
      " 28%|███████████████████████▍                                                             | 516/1870 [04:06<06:37,  3.41it/s]"
     ]
    },
    {
     "name": "stdout",
     "output_type": "stream",
     "text": [
      "string indices must be integers\n"
     ]
    },
    {
     "name": "stderr",
     "output_type": "stream",
     "text": [
      " 29%|████████████████████████▍                                                            | 537/1870 [04:12<06:26,  3.45it/s]"
     ]
    },
    {
     "name": "stdout",
     "output_type": "stream",
     "text": [
      "string indices must be integers\n"
     ]
    },
    {
     "name": "stderr",
     "output_type": "stream",
     "text": [
      " 29%|████████████████████████▋                                                            | 544/1870 [04:14<05:47,  3.82it/s]"
     ]
    },
    {
     "name": "stdout",
     "output_type": "stream",
     "text": [
      "HTTPSConnectionPool(host='www.everydayhealth.com', port=443): Max retries exceeded with url: /asthma/what-a-severe-asthma-attack-looks-like/ (Caused by SSLError(SSLEOFError(8, 'EOF occurred in violation of protocol (_ssl.c:1129)')))\n"
     ]
    },
    {
     "name": "stderr",
     "output_type": "stream",
     "text": [
      " 29%|████████████████████████▊                                                            | 547/1870 [04:15<06:23,  3.45it/s]"
     ]
    },
    {
     "name": "stdout",
     "output_type": "stream",
     "text": [
      "string indices must be integers\n"
     ]
    },
    {
     "name": "stderr",
     "output_type": "stream",
     "text": [
      " 30%|█████████████████████████▋                                                           | 565/1870 [04:20<04:34,  4.76it/s]"
     ]
    },
    {
     "name": "stdout",
     "output_type": "stream",
     "text": [
      "string indices must be integers\n",
      "string indices must be integers\n"
     ]
    },
    {
     "name": "stderr",
     "output_type": "stream",
     "text": [
      " 30%|█████████████████████████▉                                                           | 570/1870 [04:23<08:57,  2.42it/s]"
     ]
    },
    {
     "name": "stdout",
     "output_type": "stream",
     "text": [
      "string indices must be integers\n"
     ]
    },
    {
     "name": "stderr",
     "output_type": "stream",
     "text": [
      " 31%|██████████████████████████▌                                                          | 583/1870 [04:27<05:00,  4.29it/s]"
     ]
    },
    {
     "name": "stdout",
     "output_type": "stream",
     "text": [
      "string indices must be integers\n"
     ]
    },
    {
     "name": "stderr",
     "output_type": "stream",
     "text": [
      " 32%|███████████████████████████                                                          | 595/1870 [04:31<06:39,  3.19it/s]"
     ]
    },
    {
     "name": "stdout",
     "output_type": "stream",
     "text": [
      "string indices must be integers\n"
     ]
    },
    {
     "name": "stderr",
     "output_type": "stream",
     "text": [
      "\r",
      " 32%|███████████████████████████▏                                                         | 597/1870 [04:31<04:07,  5.14it/s]"
     ]
    },
    {
     "name": "stdout",
     "output_type": "stream",
     "text": [
      "string indices must be integers\n"
     ]
    },
    {
     "name": "stderr",
     "output_type": "stream",
     "text": [
      " 33%|███████████████████████████▉                                                         | 614/1870 [04:36<07:09,  2.92it/s]"
     ]
    },
    {
     "name": "stdout",
     "output_type": "stream",
     "text": [
      "string indices must be integers\n"
     ]
    },
    {
     "name": "stderr",
     "output_type": "stream",
     "text": [
      " 33%|████████████████████████████▏                                                        | 621/1870 [04:38<08:02,  2.59it/s]"
     ]
    },
    {
     "name": "stdout",
     "output_type": "stream",
     "text": [
      "string indices must be integers\n",
      "string indices must be integers\n"
     ]
    },
    {
     "name": "stderr",
     "output_type": "stream",
     "text": [
      " 34%|████████████████████████████▉                                                        | 637/1870 [04:44<05:09,  3.99it/s]"
     ]
    },
    {
     "name": "stdout",
     "output_type": "stream",
     "text": [
      "string indices must be integers\n"
     ]
    },
    {
     "name": "stderr",
     "output_type": "stream",
     "text": [
      " 35%|█████████████████████████████▌                                                       | 651/1870 [04:49<08:24,  2.42it/s]"
     ]
    },
    {
     "name": "stdout",
     "output_type": "stream",
     "text": [
      "string indices must be integers\n",
      "string indices must be integers\n",
      "string indices must be integers\n"
     ]
    },
    {
     "name": "stderr",
     "output_type": "stream",
     "text": [
      " 35%|█████████████████████████████▊                                                       | 656/1870 [04:50<05:18,  3.81it/s]"
     ]
    },
    {
     "name": "stdout",
     "output_type": "stream",
     "text": [
      "HTTPSConnectionPool(host='www.everydayhealth.com', port=443): Max retries exceeded with url: /healthy-recipes/healthy-portable-picnic-foods-to-pack-for-your-next-outing/ (Caused by SSLError(SSLEOFError(8, 'EOF occurred in violation of protocol (_ssl.c:1129)')))\n"
     ]
    },
    {
     "name": "stderr",
     "output_type": "stream",
     "text": [
      " 36%|██████████████████████████████▌                                                      | 673/1870 [04:56<05:33,  3.59it/s]"
     ]
    },
    {
     "name": "stdout",
     "output_type": "stream",
     "text": [
      "string indices must be integers\n"
     ]
    },
    {
     "name": "stderr",
     "output_type": "stream",
     "text": [
      " 36%|██████████████████████████████▊                                                      | 678/1870 [04:58<08:18,  2.39it/s]"
     ]
    },
    {
     "name": "stdout",
     "output_type": "stream",
     "text": [
      "string indices must be integers\n"
     ]
    },
    {
     "name": "stderr",
     "output_type": "stream",
     "text": [
      "\r",
      " 36%|██████████████████████████████▊                                                      | 679/1870 [04:58<10:35,  1.87it/s]"
     ]
    },
    {
     "name": "stdout",
     "output_type": "stream",
     "text": [
      "string indices must be integers\n",
      "string indices must be integers\n"
     ]
    },
    {
     "name": "stderr",
     "output_type": "stream",
     "text": [
      " 37%|███████████████████████████████▍                                                     | 691/1870 [05:03<05:58,  3.29it/s]"
     ]
    },
    {
     "name": "stdout",
     "output_type": "stream",
     "text": [
      "string indices must be integers\n",
      "string indices must be integers\n"
     ]
    },
    {
     "name": "stderr",
     "output_type": "stream",
     "text": [
      " 37%|███████████████████████████████▋                                                     | 696/1870 [05:05<10:32,  1.85it/s]"
     ]
    },
    {
     "name": "stdout",
     "output_type": "stream",
     "text": [
      "string indices must be integers\n"
     ]
    },
    {
     "name": "stderr",
     "output_type": "stream",
     "text": [
      " 37%|███████████████████████████████▋                                                     | 698/1870 [05:07<14:55,  1.31it/s]"
     ]
    },
    {
     "name": "stdout",
     "output_type": "stream",
     "text": [
      "string indices must be integers\n"
     ]
    },
    {
     "name": "stderr",
     "output_type": "stream",
     "text": [
      " 38%|████████████████████████████████▏                                                    | 708/1870 [05:10<07:53,  2.46it/s]"
     ]
    },
    {
     "name": "stdout",
     "output_type": "stream",
     "text": [
      "string indices must be integers\n",
      "string indices must be integers\n"
     ]
    },
    {
     "name": "stderr",
     "output_type": "stream",
     "text": [
      " 38%|████████████████████████████████▍                                                    | 713/1870 [05:11<06:21,  3.03it/s]"
     ]
    },
    {
     "name": "stdout",
     "output_type": "stream",
     "text": [
      "string indices must be integers\n"
     ]
    },
    {
     "name": "stderr",
     "output_type": "stream",
     "text": [
      " 39%|████████████████████████████████▊                                                    | 723/1870 [05:16<06:59,  2.74it/s]"
     ]
    },
    {
     "name": "stdout",
     "output_type": "stream",
     "text": [
      "string indices must be integers\n",
      "HTTPSConnectionPool(host='www.everydayhealth.com', port=443): Max retries exceeded with url: /pancreatic-cancer/ways-to-prep-for-pancreatic-neuroendocrine-cancer-treatment/ (Caused by SSLError(SSLEOFError(8, 'EOF occurred in violation of protocol (_ssl.c:1129)')))\n"
     ]
    },
    {
     "name": "stderr",
     "output_type": "stream",
     "text": [
      " 39%|████████████████████████████████▉                                                    | 725/1870 [05:17<08:26,  2.26it/s]"
     ]
    },
    {
     "name": "stdout",
     "output_type": "stream",
     "text": [
      "string indices must be integers\n",
      "string indices must be integers\n"
     ]
    },
    {
     "name": "stderr",
     "output_type": "stream",
     "text": [
      " 39%|█████████████████████████████████▎                                                   | 732/1870 [05:20<07:23,  2.57it/s]"
     ]
    },
    {
     "name": "stdout",
     "output_type": "stream",
     "text": [
      "string indices must be integers\n"
     ]
    },
    {
     "name": "stderr",
     "output_type": "stream",
     "text": [
      " 39%|█████████████████████████████████▌                                                   | 737/1870 [05:22<08:18,  2.27it/s]"
     ]
    },
    {
     "name": "stdout",
     "output_type": "stream",
     "text": [
      "string indices must be integers\n"
     ]
    },
    {
     "name": "stderr",
     "output_type": "stream",
     "text": [
      "\r",
      " 39%|█████████████████████████████████▌                                                   | 738/1870 [05:23<09:22,  2.01it/s]"
     ]
    },
    {
     "name": "stdout",
     "output_type": "stream",
     "text": [
      "string indices must be integers\n"
     ]
    },
    {
     "name": "stderr",
     "output_type": "stream",
     "text": [
      " 40%|█████████████████████████████████▊                                                   | 744/1870 [05:25<12:05,  1.55it/s]"
     ]
    },
    {
     "name": "stdout",
     "output_type": "stream",
     "text": [
      "string indices must be integers\n"
     ]
    },
    {
     "name": "stderr",
     "output_type": "stream",
     "text": [
      " 40%|█████████████████████████████████▉                                                   | 746/1870 [05:26<08:00,  2.34it/s]"
     ]
    },
    {
     "name": "stdout",
     "output_type": "stream",
     "text": [
      "string indices must be integers\n"
     ]
    },
    {
     "name": "stderr",
     "output_type": "stream",
     "text": [
      " 40%|██████████████████████████████████▎                                                  | 754/1870 [05:30<08:31,  2.18it/s]"
     ]
    },
    {
     "name": "stdout",
     "output_type": "stream",
     "text": [
      "string indices must be integers\n"
     ]
    },
    {
     "name": "stderr",
     "output_type": "stream",
     "text": [
      " 41%|██████████████████████████████████▍                                                  | 758/1870 [05:32<08:15,  2.24it/s]"
     ]
    },
    {
     "name": "stdout",
     "output_type": "stream",
     "text": [
      "string indices must be integersstring indices must be integers\n",
      "\n"
     ]
    },
    {
     "name": "stderr",
     "output_type": "stream",
     "text": [
      "\r",
      " 41%|██████████████████████████████████▌                                                  | 759/1870 [05:33<08:57,  2.07it/s]"
     ]
    },
    {
     "name": "stdout",
     "output_type": "stream",
     "text": [
      "string indices must be integers\n"
     ]
    },
    {
     "name": "stderr",
     "output_type": "stream",
     "text": [
      " 41%|██████████████████████████████████▋                                                  | 763/1870 [05:34<06:21,  2.90it/s]"
     ]
    },
    {
     "name": "stdout",
     "output_type": "stream",
     "text": [
      "string indices must be integers\n"
     ]
    },
    {
     "name": "stderr",
     "output_type": "stream",
     "text": [
      " 41%|██████████████████████████████████▊                                                  | 767/1870 [05:36<09:54,  1.86it/s]"
     ]
    },
    {
     "name": "stdout",
     "output_type": "stream",
     "text": [
      "string indices must be integers\n"
     ]
    },
    {
     "name": "stderr",
     "output_type": "stream",
     "text": [
      " 41%|███████████████████████████████████▏                                                 | 773/1870 [05:39<08:19,  2.20it/s]"
     ]
    },
    {
     "name": "stdout",
     "output_type": "stream",
     "text": [
      "string indices must be integers\n"
     ]
    },
    {
     "name": "stderr",
     "output_type": "stream",
     "text": [
      " 42%|███████████████████████████████████▌                                                 | 781/1870 [05:42<07:03,  2.57it/s]"
     ]
    },
    {
     "name": "stdout",
     "output_type": "stream",
     "text": [
      "string indices must be integers\n",
      "string indices must be integers\n",
      "string indices must be integers\n",
      "string indices must be integers\n"
     ]
    },
    {
     "name": "stderr",
     "output_type": "stream",
     "text": [
      " 42%|███████████████████████████████████▉                                                 | 790/1870 [05:46<07:15,  2.48it/s]"
     ]
    },
    {
     "name": "stdout",
     "output_type": "stream",
     "text": [
      "string indices must be integers\n",
      "string indices must be integers\n"
     ]
    },
    {
     "name": "stderr",
     "output_type": "stream",
     "text": [
      " 42%|████████████████████████████████████                                                 | 792/1870 [05:48<10:23,  1.73it/s]"
     ]
    },
    {
     "name": "stdout",
     "output_type": "stream",
     "text": [
      "string indices must be integers\n"
     ]
    },
    {
     "name": "stderr",
     "output_type": "stream",
     "text": [
      " 43%|████████████████████████████████████▍                                                | 802/1870 [05:52<12:29,  1.42it/s]"
     ]
    },
    {
     "name": "stdout",
     "output_type": "stream",
     "text": [
      "string indices must be integers\n"
     ]
    },
    {
     "name": "stderr",
     "output_type": "stream",
     "text": [
      " 43%|████████████████████████████████████▌                                                | 805/1870 [05:54<08:49,  2.01it/s]"
     ]
    },
    {
     "name": "stdout",
     "output_type": "stream",
     "text": [
      "string indices must be integers\n"
     ]
    },
    {
     "name": "stderr",
     "output_type": "stream",
     "text": [
      "\r",
      " 43%|████████████████████████████████████▋                                                | 806/1870 [05:54<09:41,  1.83it/s]"
     ]
    },
    {
     "name": "stdout",
     "output_type": "stream",
     "text": [
      "string indices must be integers\n"
     ]
    },
    {
     "name": "stderr",
     "output_type": "stream",
     "text": [
      " 43%|████████████████████████████████████▊                                                | 810/1870 [05:56<09:01,  1.96it/s]"
     ]
    },
    {
     "name": "stdout",
     "output_type": "stream",
     "text": [
      "string indices must be integers\n"
     ]
    },
    {
     "name": "stderr",
     "output_type": "stream",
     "text": [
      " 43%|████████████████████████████████████▉                                                | 812/1870 [05:57<08:41,  2.03it/s]"
     ]
    },
    {
     "name": "stdout",
     "output_type": "stream",
     "text": [
      "string indices must be integers\n"
     ]
    },
    {
     "name": "stderr",
     "output_type": "stream",
     "text": [
      " 44%|█████████████████████████████████████                                                | 814/1870 [05:58<06:46,  2.60it/s]"
     ]
    },
    {
     "name": "stdout",
     "output_type": "stream",
     "text": [
      "string indices must be integers\n"
     ]
    },
    {
     "name": "stderr",
     "output_type": "stream",
     "text": [
      " 44%|█████████████████████████████████████▎                                               | 821/1870 [06:01<09:30,  1.84it/s]"
     ]
    },
    {
     "name": "stdout",
     "output_type": "stream",
     "text": [
      "string indices must be integers\n"
     ]
    },
    {
     "name": "stderr",
     "output_type": "stream",
     "text": [
      " 44%|█████████████████████████████████████▌                                               | 825/1870 [06:03<07:06,  2.45it/s]"
     ]
    },
    {
     "name": "stdout",
     "output_type": "stream",
     "text": [
      "string indices must be integers\n"
     ]
    },
    {
     "name": "stderr",
     "output_type": "stream",
     "text": [
      "\r",
      " 44%|█████████████████████████████████████▌                                               | 826/1870 [06:04<09:38,  1.80it/s]"
     ]
    },
    {
     "name": "stdout",
     "output_type": "stream",
     "text": [
      "string indices must be integers\n"
     ]
    },
    {
     "name": "stderr",
     "output_type": "stream",
     "text": [
      " 44%|█████████████████████████████████████▋                                               | 829/1870 [06:05<08:57,  1.94it/s]"
     ]
    },
    {
     "name": "stdout",
     "output_type": "stream",
     "text": [
      "string indices must be integers\n"
     ]
    },
    {
     "name": "stderr",
     "output_type": "stream",
     "text": [
      " 44%|█████████████████████████████████████▊                                               | 831/1870 [06:06<09:17,  1.86it/s]"
     ]
    },
    {
     "name": "stdout",
     "output_type": "stream",
     "text": [
      "string indices must be integers\n"
     ]
    },
    {
     "name": "stderr",
     "output_type": "stream",
     "text": [
      " 45%|██████████████████████████████████████▏                                              | 840/1870 [06:11<09:19,  1.84it/s]"
     ]
    },
    {
     "name": "stdout",
     "output_type": "stream",
     "text": [
      "string indices must be integers\n",
      "string indices must be integers\n"
     ]
    },
    {
     "name": "stderr",
     "output_type": "stream",
     "text": [
      "\r",
      " 45%|██████████████████████████████████████▏                                              | 841/1870 [06:11<07:30,  2.28it/s]"
     ]
    },
    {
     "name": "stdout",
     "output_type": "stream",
     "text": [
      "HTTPSConnectionPool(host='www.everydayhealth.com', port=443): Max retries exceeded with url: /columns/doing-my-breast/after-a-fashion-getting-dressed-after-breast-cancer/ (Caused by SSLError(SSLEOFError(8, 'EOF occurred in violation of protocol (_ssl.c:1129)')))\n",
      "string indices must be integers\n"
     ]
    },
    {
     "name": "stderr",
     "output_type": "stream",
     "text": [
      " 45%|██████████████████████████████████████▍                                              | 845/1870 [06:13<09:49,  1.74it/s]"
     ]
    },
    {
     "name": "stdout",
     "output_type": "stream",
     "text": [
      "string indices must be integers\n"
     ]
    },
    {
     "name": "stderr",
     "output_type": "stream",
     "text": [
      " 45%|██████████████████████████████████████▌                                              | 847/1870 [06:14<08:38,  1.97it/s]"
     ]
    },
    {
     "name": "stdout",
     "output_type": "stream",
     "text": [
      "string indices must be integers\n"
     ]
    },
    {
     "name": "stderr",
     "output_type": "stream",
     "text": [
      " 46%|██████████████████████████████████████▋                                              | 851/1870 [06:16<07:39,  2.22it/s]"
     ]
    },
    {
     "name": "stdout",
     "output_type": "stream",
     "text": [
      "string indices must be integers\n"
     ]
    },
    {
     "name": "stderr",
     "output_type": "stream",
     "text": [
      " 46%|██████████████████████████████████████▊                                              | 853/1870 [06:18<11:41,  1.45it/s]"
     ]
    },
    {
     "name": "stdout",
     "output_type": "stream",
     "text": [
      "string indices must be integers\n"
     ]
    },
    {
     "name": "stderr",
     "output_type": "stream",
     "text": [
      "\r",
      " 46%|██████████████████████████████████████▊                                              | 854/1870 [06:19<09:16,  1.82it/s]"
     ]
    },
    {
     "name": "stdout",
     "output_type": "stream",
     "text": [
      "string indices must be integers\n",
      "string indices must be integers\n"
     ]
    },
    {
     "name": "stderr",
     "output_type": "stream",
     "text": [
      "\r",
      " 46%|██████████████████████████████████████▊                                              | 855/1870 [06:20<11:59,  1.41it/s]"
     ]
    },
    {
     "name": "stdout",
     "output_type": "stream",
     "text": [
      "string indices must be integers\n"
     ]
    },
    {
     "name": "stderr",
     "output_type": "stream",
     "text": [
      " 46%|███████████████████████████████████████                                              | 859/1870 [06:22<10:37,  1.59it/s]"
     ]
    },
    {
     "name": "stdout",
     "output_type": "stream",
     "text": [
      "string indices must be integers\n"
     ]
    },
    {
     "name": "stderr",
     "output_type": "stream",
     "text": [
      " 46%|███████████████████████████████████████▏                                             | 863/1870 [06:24<09:15,  1.81it/s]"
     ]
    },
    {
     "name": "stdout",
     "output_type": "stream",
     "text": [
      "string indices must be integers\n",
      "string indices must be integers\n"
     ]
    },
    {
     "name": "stderr",
     "output_type": "stream",
     "text": [
      " 46%|███████████████████████████████████████▎                                             | 865/1870 [06:25<08:21,  2.00it/s]"
     ]
    },
    {
     "name": "stdout",
     "output_type": "stream",
     "text": [
      "string indices must be integers\n"
     ]
    },
    {
     "name": "stderr",
     "output_type": "stream",
     "text": [
      " 46%|███████████████████████████████████████▍                                             | 868/1870 [06:27<09:24,  1.77it/s]"
     ]
    },
    {
     "name": "stdout",
     "output_type": "stream",
     "text": [
      "string indices must be integers\n"
     ]
    },
    {
     "name": "stderr",
     "output_type": "stream",
     "text": [
      " 47%|███████████████████████████████████████▌                                             | 870/1870 [06:28<11:38,  1.43it/s]"
     ]
    },
    {
     "name": "stdout",
     "output_type": "stream",
     "text": [
      "string indices must be integers\n"
     ]
    },
    {
     "name": "stderr",
     "output_type": "stream",
     "text": [
      " 47%|███████████████████████████████████████▋                                             | 872/1870 [06:30<10:55,  1.52it/s]"
     ]
    },
    {
     "name": "stdout",
     "output_type": "stream",
     "text": [
      "string indices must be integers\n"
     ]
    },
    {
     "name": "stderr",
     "output_type": "stream",
     "text": [
      " 47%|███████████████████████████████████████▊                                             | 876/1870 [06:32<10:26,  1.59it/s]"
     ]
    },
    {
     "name": "stdout",
     "output_type": "stream",
     "text": [
      "string indices must be integers\n"
     ]
    },
    {
     "name": "stderr",
     "output_type": "stream",
     "text": [
      " 47%|███████████████████████████████████████▉                                             | 878/1870 [06:33<11:34,  1.43it/s]"
     ]
    },
    {
     "name": "stdout",
     "output_type": "stream",
     "text": [
      "string indices must be integers\n"
     ]
    },
    {
     "name": "stderr",
     "output_type": "stream",
     "text": [
      " 47%|████████████████████████████████████████                                             | 880/1870 [06:34<07:10,  2.30it/s]"
     ]
    },
    {
     "name": "stdout",
     "output_type": "stream",
     "text": [
      "string indices must be integers\n",
      "string indices must be integers\n"
     ]
    },
    {
     "name": "stderr",
     "output_type": "stream",
     "text": [
      " 47%|████████████████████████████████████████▏                                            | 884/1870 [06:36<06:55,  2.37it/s]"
     ]
    },
    {
     "name": "stdout",
     "output_type": "stream",
     "text": [
      "string indices must be integers\n"
     ]
    },
    {
     "name": "stderr",
     "output_type": "stream",
     "text": [
      " 47%|████████████████████████████████████████▎                                            | 886/1870 [06:38<09:53,  1.66it/s]"
     ]
    },
    {
     "name": "stdout",
     "output_type": "stream",
     "text": [
      "string indices must be integers\n"
     ]
    },
    {
     "name": "stderr",
     "output_type": "stream",
     "text": [
      " 48%|████████████████████████████████████████▍                                            | 890/1870 [06:40<07:18,  2.24it/s]"
     ]
    },
    {
     "name": "stdout",
     "output_type": "stream",
     "text": [
      "string indices must be integers\n"
     ]
    },
    {
     "name": "stderr",
     "output_type": "stream",
     "text": [
      " 48%|████████████████████████████████████████▌                                            | 892/1870 [06:41<08:02,  2.03it/s]"
     ]
    },
    {
     "name": "stdout",
     "output_type": "stream",
     "text": [
      "string indices must be integers\n"
     ]
    },
    {
     "name": "stderr",
     "output_type": "stream",
     "text": [
      " 48%|████████████████████████████████████████▋                                            | 894/1870 [06:42<08:21,  1.94it/s]"
     ]
    },
    {
     "name": "stdout",
     "output_type": "stream",
     "text": [
      "string indices must be integers\n",
      "string indices must be integers\n"
     ]
    },
    {
     "name": "stderr",
     "output_type": "stream",
     "text": [
      " 48%|████████████████████████████████████████▊                                            | 897/1870 [06:44<10:45,  1.51it/s]"
     ]
    },
    {
     "name": "stdout",
     "output_type": "stream",
     "text": [
      "string indices must be integers\n"
     ]
    },
    {
     "name": "stderr",
     "output_type": "stream",
     "text": [
      " 48%|████████████████████████████████████████▉                                            | 900/1870 [06:45<07:00,  2.31it/s]"
     ]
    },
    {
     "name": "stdout",
     "output_type": "stream",
     "text": [
      "string indices must be integers\n"
     ]
    },
    {
     "name": "stderr",
     "output_type": "stream",
     "text": [
      "\r",
      " 48%|████████████████████████████████████████▉                                            | 901/1870 [06:46<10:44,  1.50it/s]"
     ]
    },
    {
     "name": "stdout",
     "output_type": "stream",
     "text": [
      "string indices must be integers\n"
     ]
    },
    {
     "name": "stderr",
     "output_type": "stream",
     "text": [
      " 49%|█████████████████████████████████████████▎                                           | 908/1870 [06:49<08:56,  1.79it/s]"
     ]
    },
    {
     "name": "stdout",
     "output_type": "stream",
     "text": [
      "string indices must be integers\n"
     ]
    },
    {
     "name": "stderr",
     "output_type": "stream",
     "text": [
      "\r",
      " 49%|█████████████████████████████████████████▎                                           | 908/1870 [06:50<08:56,  1.79it/s]"
     ]
    },
    {
     "name": "stdout",
     "output_type": "stream",
     "text": [
      "string indices must be integers\n"
     ]
    },
    {
     "name": "stderr",
     "output_type": "stream",
     "text": [
      "\r",
      " 49%|█████████████████████████████████████████▎                                           | 909/1870 [06:50<10:48,  1.48it/s]"
     ]
    },
    {
     "name": "stdout",
     "output_type": "stream",
     "text": [
      "string indices must be integers\n",
      "string indices must be integers\n"
     ]
    },
    {
     "name": "stderr",
     "output_type": "stream",
     "text": [
      " 49%|█████████████████████████████████████████▍                                           | 912/1870 [06:52<07:34,  2.11it/s]"
     ]
    },
    {
     "name": "stdout",
     "output_type": "stream",
     "text": [
      "string indices must be integers\n"
     ]
    },
    {
     "name": "stderr",
     "output_type": "stream",
     "text": [
      " 49%|█████████████████████████████████████████▋                                           | 916/1870 [06:54<05:55,  2.69it/s]"
     ]
    },
    {
     "name": "stdout",
     "output_type": "stream",
     "text": [
      "string indices must be integers\n",
      "string indices must be integers\n"
     ]
    },
    {
     "name": "stderr",
     "output_type": "stream",
     "text": [
      " 49%|█████████████████████████████████████████▊                                           | 920/1870 [06:56<06:29,  2.44it/s]"
     ]
    },
    {
     "name": "stdout",
     "output_type": "stream",
     "text": [
      "string indices must be integers\n",
      "string indices must be integers\n"
     ]
    },
    {
     "name": "stderr",
     "output_type": "stream",
     "text": [
      " 49%|██████████████████████████████████████████                                           | 924/1870 [07:00<13:21,  1.18it/s]"
     ]
    },
    {
     "name": "stdout",
     "output_type": "stream",
     "text": [
      "string indices must be integers\n"
     ]
    },
    {
     "name": "stderr",
     "output_type": "stream",
     "text": [
      "\r",
      " 49%|██████████████████████████████████████████                                           | 925/1870 [07:01<12:33,  1.25it/s]"
     ]
    },
    {
     "name": "stdout",
     "output_type": "stream",
     "text": [
      "HTTPSConnectionPool(host='www.everydayhealth.com', port=443): Max retries exceeded with url: /alzheimers-disease/three-daughters-honor-their-mothers-with-alzheimers-disease/ (Caused by ProxyError('Cannot connect to proxy.', ConnectionResetError(10054, '远程主机强迫关闭了一个现有的连接。', None, 10054, None)))string indices must be integers\n",
      "\n",
      "string indices must be integers\n"
     ]
    },
    {
     "name": "stderr",
     "output_type": "stream",
     "text": [
      "\r",
      " 50%|██████████████████████████████████████████                                           | 926/1870 [07:01<11:15,  1.40it/s]"
     ]
    },
    {
     "name": "stdout",
     "output_type": "stream",
     "text": [
      "string indices must be integers\n"
     ]
    },
    {
     "name": "stderr",
     "output_type": "stream",
     "text": [
      "\r",
      " 50%|██████████████████████████████████████████▏                                          | 927/1870 [07:03<13:27,  1.17it/s]"
     ]
    },
    {
     "name": "stdout",
     "output_type": "stream",
     "text": [
      "string indices must be integers\n"
     ]
    },
    {
     "name": "stderr",
     "output_type": "stream",
     "text": [
      " 50%|██████████████████████████████████████████▏                                          | 929/1870 [07:04<13:35,  1.15it/s]"
     ]
    },
    {
     "name": "stdout",
     "output_type": "stream",
     "text": [
      "string indices must be integers\n"
     ]
    },
    {
     "name": "stderr",
     "output_type": "stream",
     "text": [
      "\r",
      " 50%|██████████████████████████████████████████▎                                          | 930/1870 [07:05<11:33,  1.35it/s]"
     ]
    },
    {
     "name": "stdout",
     "output_type": "stream",
     "text": [
      "string indices must be integers\n"
     ]
    },
    {
     "name": "stderr",
     "output_type": "stream",
     "text": [
      " 50%|██████████████████████████████████████████▍                                          | 933/1870 [07:07<10:46,  1.45it/s]"
     ]
    },
    {
     "name": "stdout",
     "output_type": "stream",
     "text": [
      "string indices must be integers\n"
     ]
    },
    {
     "name": "stderr",
     "output_type": "stream",
     "text": [
      " 50%|██████████████████████████████████████████▌                                          | 936/1870 [07:10<10:33,  1.47it/s]"
     ]
    },
    {
     "name": "stdout",
     "output_type": "stream",
     "text": [
      "string indices must be integers\n"
     ]
    },
    {
     "name": "stderr",
     "output_type": "stream",
     "text": [
      "\r",
      " 50%|██████████████████████████████████████████▌                                          | 937/1870 [07:11<13:03,  1.19it/s]"
     ]
    },
    {
     "name": "stdout",
     "output_type": "stream",
     "text": [
      "string indices must be integers\n",
      "string indices must be integers\n",
      "string indices must be integers\n"
     ]
    },
    {
     "name": "stderr",
     "output_type": "stream",
     "text": [
      "\r",
      " 50%|██████████████████████████████████████████▋                                          | 938/1870 [07:12<13:22,  1.16it/s]"
     ]
    },
    {
     "name": "stdout",
     "output_type": "stream",
     "text": [
      "string indices must be integers\n"
     ]
    },
    {
     "name": "stderr",
     "output_type": "stream",
     "text": [
      "\r",
      " 50%|██████████████████████████████████████████▋                                          | 939/1870 [07:13<12:48,  1.21it/s]"
     ]
    },
    {
     "name": "stdout",
     "output_type": "stream",
     "text": [
      "string indices must be integers\n"
     ]
    },
    {
     "name": "stderr",
     "output_type": "stream",
     "text": [
      " 50%|██████████████████████████████████████████▊                                          | 941/1870 [07:14<14:13,  1.09it/s]"
     ]
    },
    {
     "name": "stdout",
     "output_type": "stream",
     "text": [
      "string indices must be integers\n"
     ]
    },
    {
     "name": "stderr",
     "output_type": "stream",
     "text": [
      " 50%|██████████████████████████████████████████▉                                          | 944/1870 [07:17<13:45,  1.12it/s]"
     ]
    },
    {
     "name": "stdout",
     "output_type": "stream",
     "text": [
      "string indices must be integers\n"
     ]
    },
    {
     "name": "stderr",
     "output_type": "stream",
     "text": [
      "\r",
      " 51%|██████████████████████████████████████████▉                                          | 945/1870 [07:18<14:11,  1.09it/s]"
     ]
    },
    {
     "name": "stdout",
     "output_type": "stream",
     "text": [
      "string indices must be integers\n"
     ]
    },
    {
     "name": "stderr",
     "output_type": "stream",
     "text": [
      " 51%|███████████████████████████████████████████                                          | 948/1870 [07:20<11:57,  1.29it/s]"
     ]
    },
    {
     "name": "stdout",
     "output_type": "stream",
     "text": [
      "string indices must be integers\n",
      "string indices must be integers\n",
      "string indices must be integers\n",
      "string indices must be integers\n"
     ]
    },
    {
     "name": "stderr",
     "output_type": "stream",
     "text": [
      "\r",
      " 51%|███████████████████████████████████████████▏                                         | 949/1870 [07:21<12:43,  1.21it/s]"
     ]
    },
    {
     "name": "stdout",
     "output_type": "stream",
     "text": [
      "string indices must be integers\n"
     ]
    },
    {
     "name": "stderr",
     "output_type": "stream",
     "text": [
      " 51%|███████████████████████████████████████████▍                                         | 955/1870 [07:25<11:51,  1.29it/s]"
     ]
    },
    {
     "name": "stdout",
     "output_type": "stream",
     "text": [
      "string indices must be integers\n",
      "string indices must be integers\n"
     ]
    },
    {
     "name": "stderr",
     "output_type": "stream",
     "text": [
      "\r",
      " 51%|███████████████████████████████████████████▍                                         | 956/1870 [07:27<16:13,  1.07s/it]"
     ]
    },
    {
     "name": "stdout",
     "output_type": "stream",
     "text": [
      "string indices must be integersstring indices must be integers\n",
      "\n",
      "string indices must be integers\n"
     ]
    },
    {
     "name": "stderr",
     "output_type": "stream",
     "text": [
      " 51%|███████████████████████████████████████████▌                                         | 958/1870 [07:28<07:58,  1.91it/s]"
     ]
    },
    {
     "name": "stdout",
     "output_type": "stream",
     "text": [
      "string indices must be integers\n"
     ]
    },
    {
     "name": "stderr",
     "output_type": "stream",
     "text": [
      " 51%|███████████████████████████████████████████▋                                         | 961/1870 [07:30<08:56,  1.70it/s]"
     ]
    },
    {
     "name": "stdout",
     "output_type": "stream",
     "text": [
      "string indices must be integers\n"
     ]
    },
    {
     "name": "stderr",
     "output_type": "stream",
     "text": [
      " 52%|███████████████████████████████████████████▉                                         | 966/1870 [07:34<10:26,  1.44it/s]"
     ]
    },
    {
     "name": "stdout",
     "output_type": "stream",
     "text": [
      "string indices must be integers\n"
     ]
    },
    {
     "name": "stderr",
     "output_type": "stream",
     "text": [
      " 52%|████████████████████████████████████████████                                         | 968/1870 [07:36<15:44,  1.05s/it]"
     ]
    },
    {
     "name": "stdout",
     "output_type": "stream",
     "text": [
      "string indices must be integers\n",
      "string indices must be integers\n",
      "string indices must be integers"
     ]
    },
    {
     "name": "stderr",
     "output_type": "stream",
     "text": [
      "\r",
      " 52%|████████████████████████████████████████████                                         | 969/1870 [07:37<13:51,  1.08it/s]"
     ]
    },
    {
     "name": "stdout",
     "output_type": "stream",
     "text": [
      "\n",
      "string indices must be integers\n",
      "string indices must be integers\n"
     ]
    },
    {
     "name": "stderr",
     "output_type": "stream",
     "text": [
      " 52%|████████████████████████████████████████████▏                                        | 972/1870 [07:39<10:29,  1.43it/s]"
     ]
    },
    {
     "name": "stdout",
     "output_type": "stream",
     "text": [
      "string indices must be integers\n"
     ]
    },
    {
     "name": "stderr",
     "output_type": "stream",
     "text": [
      "\r",
      " 52%|████████████████████████████████████████████▏                                        | 973/1870 [07:41<15:49,  1.06s/it]"
     ]
    },
    {
     "name": "stdout",
     "output_type": "stream",
     "text": [
      "string indices must be integers\n"
     ]
    },
    {
     "name": "stderr",
     "output_type": "stream",
     "text": [
      " 52%|████████████████████████████████████████████▎                                        | 975/1870 [07:41<08:05,  1.84it/s]"
     ]
    },
    {
     "name": "stdout",
     "output_type": "stream",
     "text": [
      "string indices must be integers\n",
      "string indices must be integers\n"
     ]
    },
    {
     "name": "stderr",
     "output_type": "stream",
     "text": [
      " 52%|████████████████████████████████████████████▍                                        | 977/1870 [07:43<10:34,  1.41it/s]"
     ]
    },
    {
     "name": "stdout",
     "output_type": "stream",
     "text": [
      "string indices must be integers\n"
     ]
    },
    {
     "name": "stderr",
     "output_type": "stream",
     "text": [
      " 52%|████████████████████████████████████████████▌                                        | 979/1870 [07:45<11:27,  1.30it/s]"
     ]
    },
    {
     "name": "stdout",
     "output_type": "stream",
     "text": [
      "string indices must be integers\n",
      "string indices must be integers\n"
     ]
    },
    {
     "name": "stderr",
     "output_type": "stream",
     "text": [
      "\r",
      " 52%|████████████████████████████████████████████▌                                        | 980/1870 [07:46<13:45,  1.08it/s]"
     ]
    },
    {
     "name": "stdout",
     "output_type": "stream",
     "text": [
      "string indices must be integers\n",
      "string indices must be integers\n"
     ]
    },
    {
     "name": "stderr",
     "output_type": "stream",
     "text": [
      " 53%|████████████████████████████████████████████▋                                        | 982/1870 [07:48<14:49,  1.00s/it]"
     ]
    },
    {
     "name": "stdout",
     "output_type": "stream",
     "text": [
      "HTTPSConnectionPool(host='www.everydayhealth.com', port=443): Max retries exceeded with url: /skin-cancer/glossary-of-terms-used-to-describe-symptoms-tests-treatments-and-more/ (Caused by ProxyError('Cannot connect to proxy.', ConnectionResetError(10054, '远程主机强迫关闭了一个现有的连接。', None, 10054, None)))\n"
     ]
    },
    {
     "name": "stderr",
     "output_type": "stream",
     "text": [
      "\r",
      " 53%|████████████████████████████████████████████▋                                        | 983/1870 [07:50<16:17,  1.10s/it]"
     ]
    },
    {
     "name": "stdout",
     "output_type": "stream",
     "text": [
      "string indices must be integers\n"
     ]
    },
    {
     "name": "stderr",
     "output_type": "stream",
     "text": [
      "\r",
      " 53%|████████████████████████████████████████████▋                                        | 984/1870 [07:51<16:48,  1.14s/it]"
     ]
    },
    {
     "name": "stdout",
     "output_type": "stream",
     "text": [
      "string indices must be integers\n",
      "string indices must be integers\n",
      "string indices must be integers\n",
      "string indices must be integers"
     ]
    },
    {
     "name": "stderr",
     "output_type": "stream",
     "text": [
      "\r",
      " 53%|████████████████████████████████████████████▊                                        | 985/1870 [07:52<14:44,  1.00it/s]"
     ]
    },
    {
     "name": "stdout",
     "output_type": "stream",
     "text": [
      "\n",
      "string indices must be integers\n"
     ]
    },
    {
     "name": "stderr",
     "output_type": "stream",
     "text": [
      " 53%|████████████████████████████████████████████▊                                        | 987/1870 [07:54<14:58,  1.02s/it]"
     ]
    },
    {
     "name": "stdout",
     "output_type": "stream",
     "text": [
      "string indices must be integers\n"
     ]
    },
    {
     "name": "stderr",
     "output_type": "stream",
     "text": [
      "\r",
      " 53%|████████████████████████████████████████████▉                                        | 988/1870 [07:55<17:02,  1.16s/it]"
     ]
    },
    {
     "name": "stdout",
     "output_type": "stream",
     "text": [
      "string indices must be integers\n",
      "string indices must be integers\n",
      "string indices must be integers\n"
     ]
    },
    {
     "name": "stderr",
     "output_type": "stream",
     "text": [
      "\r",
      " 53%|████████████████████████████████████████████▉                                        | 989/1870 [07:57<21:33,  1.47s/it]"
     ]
    },
    {
     "name": "stdout",
     "output_type": "stream",
     "text": [
      "string indices must be integers\n",
      "string indices must be integers\n",
      "string indices must be integers\n"
     ]
    },
    {
     "name": "stderr",
     "output_type": "stream",
     "text": [
      "\r",
      " 53%|█████████████████████████████████████████████                                        | 990/1870 [07:59<21:35,  1.47s/it]"
     ]
    },
    {
     "name": "stdout",
     "output_type": "stream",
     "text": [
      "string indices must be integers\n"
     ]
    },
    {
     "name": "stderr",
     "output_type": "stream",
     "text": [
      " 53%|█████████████████████████████████████████████▏                                       | 993/1870 [08:02<16:14,  1.11s/it]"
     ]
    },
    {
     "name": "stdout",
     "output_type": "stream",
     "text": [
      "string indices must be integers\n",
      "string indices must be integers\n",
      "string indices must be integers\n",
      "string indices must be integers\n",
      "string indices must be integers\n"
     ]
    },
    {
     "name": "stderr",
     "output_type": "stream",
     "text": [
      "\r",
      " 53%|█████████████████████████████████████████████▏                                       | 994/1870 [08:04<19:13,  1.32s/it]"
     ]
    },
    {
     "name": "stdout",
     "output_type": "stream",
     "text": [
      "string indices must be integers\n"
     ]
    },
    {
     "name": "stderr",
     "output_type": "stream",
     "text": [
      "\r",
      " 53%|█████████████████████████████████████████████▏                                       | 995/1870 [08:04<16:13,  1.11s/it]"
     ]
    },
    {
     "name": "stdout",
     "output_type": "stream",
     "text": [
      "string indices must be integers\n"
     ]
    },
    {
     "name": "stderr",
     "output_type": "stream",
     "text": [
      " 53%|█████████████████████████████████████████████▎                                       | 997/1870 [08:06<15:38,  1.08s/it]"
     ]
    },
    {
     "name": "stdout",
     "output_type": "stream",
     "text": [
      "string indices must be integers\n"
     ]
    },
    {
     "name": "stderr",
     "output_type": "stream",
     "text": [
      " 53%|█████████████████████████████████████████████▍                                       | 999/1870 [08:09<15:02,  1.04s/it]"
     ]
    },
    {
     "name": "stdout",
     "output_type": "stream",
     "text": [
      "string indices must be integers\n",
      "string indices must be integers\n",
      "string indices must be integers\n",
      "string indices must be integersstring indices must be integers\n",
      "\n"
     ]
    },
    {
     "name": "stderr",
     "output_type": "stream",
     "text": [
      " 54%|████████████████████████████████████████████▉                                       | 1001/1870 [08:12<17:54,  1.24s/it]"
     ]
    },
    {
     "name": "stdout",
     "output_type": "stream",
     "text": [
      "string indices must be integers\n",
      "string indices must be integers\n"
     ]
    },
    {
     "name": "stderr",
     "output_type": "stream",
     "text": [
      " 54%|█████████████████████████████████████████████                                       | 1003/1870 [08:14<15:26,  1.07s/it]"
     ]
    },
    {
     "name": "stdout",
     "output_type": "stream",
     "text": [
      "string indices must be integers\n",
      "string indices must be integers\n",
      "string indices must be integers\n",
      "string indices must be integers\n"
     ]
    },
    {
     "name": "stderr",
     "output_type": "stream",
     "text": [
      " 54%|█████████████████████████████████████████████▏                                      | 1005/1870 [08:16<17:37,  1.22s/it]"
     ]
    },
    {
     "name": "stdout",
     "output_type": "stream",
     "text": [
      "string indices must be integers\n",
      "string indices must be integers\n"
     ]
    },
    {
     "name": "stderr",
     "output_type": "stream",
     "text": [
      " 54%|█████████████████████████████████████████████▏                                      | 1007/1870 [08:19<16:38,  1.16s/it]"
     ]
    },
    {
     "name": "stdout",
     "output_type": "stream",
     "text": [
      "string indices must be integers\n",
      "string indices must be integers\n"
     ]
    },
    {
     "name": "stderr",
     "output_type": "stream",
     "text": [
      "\r",
      " 54%|█████████████████████████████████████████████▎                                      | 1008/1870 [08:20<19:25,  1.35s/it]"
     ]
    },
    {
     "name": "stdout",
     "output_type": "stream",
     "text": [
      "string indices must be integers\n"
     ]
    },
    {
     "name": "stderr",
     "output_type": "stream",
     "text": [
      "\r",
      " 54%|█████████████████████████████████████████████▎                                      | 1009/1870 [08:22<20:49,  1.45s/it]"
     ]
    },
    {
     "name": "stdout",
     "output_type": "stream",
     "text": [
      "string indices must be integers\n",
      "string indices must be integers\n"
     ]
    },
    {
     "name": "stderr",
     "output_type": "stream",
     "text": [
      "\r",
      " 54%|█████████████████████████████████████████████▎                                      | 1010/1870 [08:24<22:28,  1.57s/it]"
     ]
    },
    {
     "name": "stdout",
     "output_type": "stream",
     "text": [
      "string indices must be integers\n",
      "string indices must be integers\n"
     ]
    },
    {
     "name": "stderr",
     "output_type": "stream",
     "text": [
      " 54%|█████████████████████████████████████████████▍                                      | 1012/1870 [08:26<17:59,  1.26s/it]"
     ]
    },
    {
     "name": "stdout",
     "output_type": "stream",
     "text": [
      "string indices must be integers\n"
     ]
    },
    {
     "name": "stderr",
     "output_type": "stream",
     "text": [
      " 54%|█████████████████████████████████████████████▌                                      | 1014/1870 [08:28<15:01,  1.05s/it]"
     ]
    },
    {
     "name": "stdout",
     "output_type": "stream",
     "text": [
      "string indices must be integers\n",
      "string indices must be integers\n",
      "string indices must be integers\n",
      "string indices must be integers\n",
      "string indices must be integers\n"
     ]
    },
    {
     "name": "stderr",
     "output_type": "stream",
     "text": [
      "\r",
      " 54%|█████████████████████████████████████████████▌                                      | 1015/1870 [08:30<20:16,  1.42s/it]"
     ]
    },
    {
     "name": "stdout",
     "output_type": "stream",
     "text": [
      "string indices must be integers\n"
     ]
    },
    {
     "name": "stderr",
     "output_type": "stream",
     "text": [
      "\r",
      " 54%|█████████████████████████████████████████████▋                                      | 1016/1870 [08:32<19:49,  1.39s/it]"
     ]
    },
    {
     "name": "stdout",
     "output_type": "stream",
     "text": [
      "string indices must be integers\n"
     ]
    },
    {
     "name": "stderr",
     "output_type": "stream",
     "text": [
      "\r",
      " 54%|█████████████████████████████████████████████▋                                      | 1017/1870 [08:33<18:33,  1.30s/it]"
     ]
    },
    {
     "name": "stdout",
     "output_type": "stream",
     "text": [
      "string indices must be integers\n"
     ]
    },
    {
     "name": "stderr",
     "output_type": "stream",
     "text": [
      " 54%|█████████████████████████████████████████████▊                                      | 1019/1870 [08:36<17:46,  1.25s/it]"
     ]
    },
    {
     "name": "stdout",
     "output_type": "stream",
     "text": [
      "string indices must be integers\n",
      "string indices must be integers\n",
      "string indices must be integers\n"
     ]
    },
    {
     "name": "stderr",
     "output_type": "stream",
     "text": [
      "\r",
      " 55%|█████████████████████████████████████████████▊                                      | 1020/1870 [08:37<19:19,  1.36s/it]"
     ]
    },
    {
     "name": "stdout",
     "output_type": "stream",
     "text": [
      "string indices must be integers\n"
     ]
    },
    {
     "name": "stderr",
     "output_type": "stream",
     "text": [
      "\r",
      " 55%|█████████████████████████████████████████████▊                                      | 1021/1870 [08:38<16:17,  1.15s/it]"
     ]
    },
    {
     "name": "stdout",
     "output_type": "stream",
     "text": [
      "string indices must be integers\n"
     ]
    },
    {
     "name": "stderr",
     "output_type": "stream",
     "text": [
      "\r",
      " 55%|█████████████████████████████████████████████▉                                      | 1022/1870 [08:39<16:59,  1.20s/it]"
     ]
    },
    {
     "name": "stdout",
     "output_type": "stream",
     "text": [
      "string indices must be integers\n",
      "string indices must be integers\n"
     ]
    },
    {
     "name": "stderr",
     "output_type": "stream",
     "text": [
      " 55%|█████████████████████████████████████████████▉                                      | 1024/1870 [08:41<15:15,  1.08s/it]"
     ]
    },
    {
     "name": "stdout",
     "output_type": "stream",
     "text": [
      "string indices must be integers\n"
     ]
    },
    {
     "name": "stderr",
     "output_type": "stream",
     "text": [
      "\r",
      " 55%|██████████████████████████████████████████████                                      | 1025/1870 [08:44<20:21,  1.45s/it]"
     ]
    },
    {
     "name": "stdout",
     "output_type": "stream",
     "text": [
      "string indices must be integers\n"
     ]
    },
    {
     "name": "stderr",
     "output_type": "stream",
     "text": [
      "\r",
      " 55%|██████████████████████████████████████████████                                      | 1026/1870 [08:44<15:32,  1.10s/it]"
     ]
    },
    {
     "name": "stdout",
     "output_type": "stream",
     "text": [
      "string indices must be integers\n",
      "string indices must be integers\n",
      "string indices must be integers\n",
      "string indices must be integers\n",
      "string indices must be integers"
     ]
    },
    {
     "name": "stderr",
     "output_type": "stream",
     "text": [
      "\r",
      " 55%|██████████████████████████████████████████████▏                                     | 1027/1870 [08:46<21:37,  1.54s/it]"
     ]
    },
    {
     "name": "stdout",
     "output_type": "stream",
     "text": [
      "\n",
      "string indices must be integers\n"
     ]
    },
    {
     "name": "stderr",
     "output_type": "stream",
     "text": [
      " 55%|██████████████████████████████████████████████▎                                     | 1030/1870 [08:50<17:41,  1.26s/it]"
     ]
    },
    {
     "name": "stdout",
     "output_type": "stream",
     "text": [
      "string indices must be integers\n",
      "string indices must be integers\n"
     ]
    },
    {
     "name": "stderr",
     "output_type": "stream",
     "text": [
      " 55%|██████████████████████████████████████████████▎                                     | 1032/1870 [08:52<16:10,  1.16s/it]"
     ]
    },
    {
     "name": "stdout",
     "output_type": "stream",
     "text": [
      "string indices must be integers\n",
      "string indices must be integers\n",
      "string indices must be integers\n"
     ]
    },
    {
     "name": "stderr",
     "output_type": "stream",
     "text": [
      " 55%|██████████████████████████████████████████████▍                                     | 1034/1870 [08:54<13:45,  1.01it/s]"
     ]
    },
    {
     "name": "stdout",
     "output_type": "stream",
     "text": [
      "string indices must be integers\n",
      "string indices must be integersstring indices must be integers\n",
      "\n",
      "string indices must be integers\n"
     ]
    },
    {
     "name": "stderr",
     "output_type": "stream",
     "text": [
      " 56%|██████████████████████████████████████████████▋                                     | 1038/1870 [08:58<17:01,  1.23s/it]"
     ]
    },
    {
     "name": "stdout",
     "output_type": "stream",
     "text": [
      "string indices must be integers\n"
     ]
    },
    {
     "name": "stderr",
     "output_type": "stream",
     "text": [
      "\r",
      " 56%|██████████████████████████████████████████████▋                                     | 1039/1870 [09:00<19:19,  1.40s/it]"
     ]
    },
    {
     "name": "stdout",
     "output_type": "stream",
     "text": [
      "string indices must be integers\n",
      "string indices must be integers\n"
     ]
    },
    {
     "name": "stderr",
     "output_type": "stream",
     "text": [
      " 56%|██████████████████████████████████████████████▊                                     | 1041/1870 [09:02<18:02,  1.31s/it]"
     ]
    },
    {
     "name": "stdout",
     "output_type": "stream",
     "text": [
      "string indices must be integers\n",
      "string indices must be integers\n"
     ]
    },
    {
     "name": "stderr",
     "output_type": "stream",
     "text": [
      " 56%|██████████████████████████████████████████████▊                                     | 1043/1870 [09:04<15:55,  1.16s/it]"
     ]
    },
    {
     "name": "stdout",
     "output_type": "stream",
     "text": [
      "string indices must be integers\n",
      "string indices must be integers\n",
      "string indices must be integers\n"
     ]
    },
    {
     "name": "stderr",
     "output_type": "stream",
     "text": [
      "\r",
      " 56%|██████████████████████████████████████████████▉                                     | 1044/1870 [09:05<15:36,  1.13s/it]"
     ]
    },
    {
     "name": "stdout",
     "output_type": "stream",
     "text": [
      "string indices must be integers\n"
     ]
    },
    {
     "name": "stderr",
     "output_type": "stream",
     "text": [
      "\r",
      " 56%|██████████████████████████████████████████████▉                                     | 1045/1870 [09:06<14:49,  1.08s/it]"
     ]
    },
    {
     "name": "stdout",
     "output_type": "stream",
     "text": [
      "string indices must be integers\n"
     ]
    },
    {
     "name": "stderr",
     "output_type": "stream",
     "text": [
      " 56%|███████████████████████████████████████████████                                     | 1047/1870 [09:08<13:25,  1.02it/s]"
     ]
    },
    {
     "name": "stdout",
     "output_type": "stream",
     "text": [
      "string indices must be integers\n",
      "string indices must be integers\n"
     ]
    },
    {
     "name": "stderr",
     "output_type": "stream",
     "text": [
      "\r",
      " 56%|███████████████████████████████████████████████                                     | 1048/1870 [09:10<17:15,  1.26s/it]"
     ]
    },
    {
     "name": "stdout",
     "output_type": "stream",
     "text": [
      "string indices must be integers\n"
     ]
    },
    {
     "name": "stderr",
     "output_type": "stream",
     "text": [
      "\r",
      " 56%|███████████████████████████████████████████████                                     | 1049/1870 [09:10<12:45,  1.07it/s]"
     ]
    },
    {
     "name": "stdout",
     "output_type": "stream",
     "text": [
      "string indices must be integers\n",
      "string indices must be integers\n",
      "string indices must be integers\n",
      "string indices must be integers\n"
     ]
    },
    {
     "name": "stderr",
     "output_type": "stream",
     "text": [
      " 56%|███████████████████████████████████████████████▏                                    | 1051/1870 [09:13<15:09,  1.11s/it]"
     ]
    },
    {
     "name": "stdout",
     "output_type": "stream",
     "text": [
      "string indices must be integers\n",
      "string indices must be integers\n",
      "string indices must be integers\n"
     ]
    },
    {
     "name": "stderr",
     "output_type": "stream",
     "text": [
      "\r",
      " 56%|███████████████████████████████████████████████▎                                    | 1052/1870 [09:15<18:03,  1.32s/it]"
     ]
    },
    {
     "name": "stdout",
     "output_type": "stream",
     "text": [
      "string indices must be integers\n"
     ]
    },
    {
     "name": "stderr",
     "output_type": "stream",
     "text": [
      "\r",
      " 56%|███████████████████████████████████████████████▎                                    | 1053/1870 [09:16<16:13,  1.19s/it]"
     ]
    },
    {
     "name": "stdout",
     "output_type": "stream",
     "text": [
      "string indices must be integers\n"
     ]
    },
    {
     "name": "stderr",
     "output_type": "stream",
     "text": [
      " 56%|███████████████████████████████████████████████▍                                    | 1055/1870 [09:18<15:09,  1.12s/it]"
     ]
    },
    {
     "name": "stdout",
     "output_type": "stream",
     "text": [
      "string indices must be integersstring indices must be integers\n",
      "\n"
     ]
    },
    {
     "name": "stderr",
     "output_type": "stream",
     "text": [
      "\r",
      " 56%|███████████████████████████████████████████████▍                                    | 1056/1870 [09:20<16:37,  1.22s/it]"
     ]
    },
    {
     "name": "stdout",
     "output_type": "stream",
     "text": [
      "string indices must be integers\n"
     ]
    },
    {
     "name": "stderr",
     "output_type": "stream",
     "text": [
      "\r",
      " 57%|███████████████████████████████████████████████▍                                    | 1057/1870 [09:21<17:47,  1.31s/it]"
     ]
    },
    {
     "name": "stdout",
     "output_type": "stream",
     "text": [
      "string indices must be integers\n",
      "string indices must be integers\n",
      "string indices must be integers\n"
     ]
    },
    {
     "name": "stderr",
     "output_type": "stream",
     "text": [
      "\r",
      " 57%|███████████████████████████████████████████████▌                                    | 1058/1870 [09:23<17:59,  1.33s/it]"
     ]
    },
    {
     "name": "stdout",
     "output_type": "stream",
     "text": [
      "string indices must be integers\n"
     ]
    },
    {
     "name": "stderr",
     "output_type": "stream",
     "text": [
      "\r",
      " 57%|███████████████████████████████████████████████▌                                    | 1059/1870 [09:24<17:41,  1.31s/it]"
     ]
    },
    {
     "name": "stdout",
     "output_type": "stream",
     "text": [
      "string indices must be integers\n"
     ]
    },
    {
     "name": "stderr",
     "output_type": "stream",
     "text": [
      " 57%|███████████████████████████████████████████████▋                                    | 1061/1870 [09:26<15:34,  1.16s/it]"
     ]
    },
    {
     "name": "stdout",
     "output_type": "stream",
     "text": [
      "string indices must be integers\n",
      "string indices must be integers\n"
     ]
    },
    {
     "name": "stderr",
     "output_type": "stream",
     "text": [
      "\r",
      " 57%|███████████████████████████████████████████████▋                                    | 1062/1870 [09:27<15:03,  1.12s/it]"
     ]
    },
    {
     "name": "stdout",
     "output_type": "stream",
     "text": [
      "string indices must be integers\n",
      "string indices must be integers\n"
     ]
    },
    {
     "name": "stderr",
     "output_type": "stream",
     "text": [
      " 57%|███████████████████████████████████████████████▊                                    | 1064/1870 [09:29<13:21,  1.01it/s]"
     ]
    },
    {
     "name": "stdout",
     "output_type": "stream",
     "text": [
      "string indices must be integers\n"
     ]
    },
    {
     "name": "stderr",
     "output_type": "stream",
     "text": [
      "\r",
      " 57%|███████████████████████████████████████████████▊                                    | 1065/1870 [09:31<18:41,  1.39s/it]"
     ]
    },
    {
     "name": "stdout",
     "output_type": "stream",
     "text": [
      "string indices must be integers\n",
      "string indices must be integers\n"
     ]
    },
    {
     "name": "stderr",
     "output_type": "stream",
     "text": [
      "\r",
      " 57%|███████████████████████████████████████████████▉                                    | 1066/1870 [09:32<14:41,  1.10s/it]"
     ]
    },
    {
     "name": "stdout",
     "output_type": "stream",
     "text": [
      "string indices must be integers\n"
     ]
    },
    {
     "name": "stderr",
     "output_type": "stream",
     "text": [
      "\r",
      " 57%|███████████████████████████████████████████████▉                                    | 1067/1870 [09:33<16:50,  1.26s/it]"
     ]
    },
    {
     "name": "stdout",
     "output_type": "stream",
     "text": [
      "string indices must be integersstring indices must be integers\n",
      "\n"
     ]
    },
    {
     "name": "stderr",
     "output_type": "stream",
     "text": [
      "\r",
      " 57%|███████████████████████████████████████████████▉                                    | 1068/1870 [09:34<14:49,  1.11s/it]"
     ]
    },
    {
     "name": "stdout",
     "output_type": "stream",
     "text": [
      "string indices must be integers\n",
      "string indices must be integers\n"
     ]
    },
    {
     "name": "stderr",
     "output_type": "stream",
     "text": [
      " 57%|████████████████████████████████████████████████                                    | 1070/1870 [09:37<15:49,  1.19s/it]"
     ]
    },
    {
     "name": "stdout",
     "output_type": "stream",
     "text": [
      "string indices must be integers\n",
      "string indices must be integersstring indices must be integers\n",
      "\n",
      "string indices must be integers\n",
      "string indices must be integers\n"
     ]
    },
    {
     "name": "stderr",
     "output_type": "stream",
     "text": [
      " 57%|████████████████████████████████████████████████▏                                   | 1072/1870 [09:41<21:51,  1.64s/it]"
     ]
    },
    {
     "name": "stdout",
     "output_type": "stream",
     "text": [
      "string indices must be integers\n"
     ]
    },
    {
     "name": "stderr",
     "output_type": "stream",
     "text": [
      "\r",
      " 57%|████████████████████████████████████████████████▏                                   | 1073/1870 [09:42<19:01,  1.43s/it]"
     ]
    },
    {
     "name": "stdout",
     "output_type": "stream",
     "text": [
      "string indices must be integers\n",
      "string indices must be integers\n"
     ]
    },
    {
     "name": "stderr",
     "output_type": "stream",
     "text": [
      "\r",
      " 57%|████████████████████████████████████████████████▏                                   | 1074/1870 [09:43<18:26,  1.39s/it]"
     ]
    },
    {
     "name": "stdout",
     "output_type": "stream",
     "text": [
      "string indices must be integers\n"
     ]
    },
    {
     "name": "stderr",
     "output_type": "stream",
     "text": [
      "\r",
      " 57%|████████████████████████████████████████████████▎                                   | 1075/1870 [09:44<15:36,  1.18s/it]"
     ]
    },
    {
     "name": "stdout",
     "output_type": "stream",
     "text": [
      "string indices must be integers\n"
     ]
    },
    {
     "name": "stderr",
     "output_type": "stream",
     "text": [
      " 58%|████████████████████████████████████████████████▍                                   | 1077/1870 [09:47<15:24,  1.17s/it]"
     ]
    },
    {
     "name": "stdout",
     "output_type": "stream",
     "text": [
      "string indices must be integers\n"
     ]
    },
    {
     "name": "stderr",
     "output_type": "stream",
     "text": [
      "\r",
      " 58%|████████████████████████████████████████████████▍                                   | 1078/1870 [09:48<17:00,  1.29s/it]"
     ]
    },
    {
     "name": "stdout",
     "output_type": "stream",
     "text": [
      "string indices must be integers\n",
      "string indices must be integers\n",
      "string indices must be integers\n"
     ]
    },
    {
     "name": "stderr",
     "output_type": "stream",
     "text": [
      "\r",
      " 58%|████████████████████████████████████████████████▍                                   | 1079/1870 [09:49<15:33,  1.18s/it]"
     ]
    },
    {
     "name": "stdout",
     "output_type": "stream",
     "text": [
      "string indices must be integers\n",
      "string indices must be integers\n"
     ]
    },
    {
     "name": "stderr",
     "output_type": "stream",
     "text": [
      "\r",
      " 58%|████████████████████████████████████████████████▌                                   | 1080/1870 [09:51<17:40,  1.34s/it]"
     ]
    },
    {
     "name": "stdout",
     "output_type": "stream",
     "text": [
      "string indices must be integers\n",
      "string indices must be integers\n"
     ]
    },
    {
     "name": "stderr",
     "output_type": "stream",
     "text": [
      "\r",
      " 58%|████████████████████████████████████████████████▌                                   | 1081/1870 [09:53<20:34,  1.57s/it]"
     ]
    },
    {
     "name": "stdout",
     "output_type": "stream",
     "text": [
      "string indices must be integers\n"
     ]
    },
    {
     "name": "stderr",
     "output_type": "stream",
     "text": [
      "\r",
      " 58%|████████████████████████████████████████████████▋                                   | 1083/1870 [09:55<17:14,  1.31s/it]"
     ]
    },
    {
     "name": "stdout",
     "output_type": "stream",
     "text": [
      "string indices must be integers\n"
     ]
    },
    {
     "name": "stderr",
     "output_type": "stream",
     "text": [
      "\r",
      " 58%|████████████████████████████████████████████████▋                                   | 1084/1870 [09:56<15:31,  1.19s/it]"
     ]
    },
    {
     "name": "stdout",
     "output_type": "stream",
     "text": [
      "string indices must be integers\n",
      "string indices must be integers\n"
     ]
    },
    {
     "name": "stderr",
     "output_type": "stream",
     "text": [
      " 58%|████████████████████████████████████████████████▊                                   | 1086/1870 [09:58<13:40,  1.05s/it]"
     ]
    },
    {
     "name": "stdout",
     "output_type": "stream",
     "text": [
      "string indices must be integers\n",
      "string indices must be integers\n",
      "string indices must be integersstring indices must be integers\n",
      "\n"
     ]
    },
    {
     "name": "stderr",
     "output_type": "stream",
     "text": [
      " 58%|████████████████████████████████████████████████▉                                   | 1089/1870 [10:02<19:09,  1.47s/it]"
     ]
    },
    {
     "name": "stdout",
     "output_type": "stream",
     "text": [
      "string indices must be integers\n",
      "string indices must be integers\n"
     ]
    },
    {
     "name": "stderr",
     "output_type": "stream",
     "text": [
      " 58%|█████████████████████████████████████████████████                                   | 1091/1870 [10:04<15:24,  1.19s/it]"
     ]
    },
    {
     "name": "stdout",
     "output_type": "stream",
     "text": [
      "string indices must be integersstring indices must be integers\n",
      "\n"
     ]
    },
    {
     "name": "stderr",
     "output_type": "stream",
     "text": [
      "\r",
      " 58%|█████████████████████████████████████████████████                                   | 1092/1870 [10:06<15:52,  1.22s/it]"
     ]
    },
    {
     "name": "stdout",
     "output_type": "stream",
     "text": [
      "string indices must be integers\n",
      "string indices must be integers\n"
     ]
    },
    {
     "name": "stderr",
     "output_type": "stream",
     "text": [
      " 59%|█████████████████████████████████████████████████▏                                  | 1094/1870 [10:08<13:54,  1.08s/it]"
     ]
    },
    {
     "name": "stdout",
     "output_type": "stream",
     "text": [
      "string indices must be integers\n"
     ]
    },
    {
     "name": "stderr",
     "output_type": "stream",
     "text": [
      "\r",
      " 59%|█████████████████████████████████████████████████▏                                  | 1095/1870 [10:09<14:46,  1.14s/it]"
     ]
    },
    {
     "name": "stdout",
     "output_type": "stream",
     "text": [
      "string indices must be integers\n"
     ]
    },
    {
     "name": "stderr",
     "output_type": "stream",
     "text": [
      "\r",
      " 59%|█████████████████████████████████████████████████▏                                  | 1096/1870 [10:10<13:08,  1.02s/it]"
     ]
    },
    {
     "name": "stdout",
     "output_type": "stream",
     "text": [
      "string indices must be integers\n",
      "string indices must be integers\n"
     ]
    },
    {
     "name": "stderr",
     "output_type": "stream",
     "text": [
      "\r",
      " 59%|█████████████████████████████████████████████████▎                                  | 1097/1870 [10:11<14:45,  1.15s/it]"
     ]
    },
    {
     "name": "stdout",
     "output_type": "stream",
     "text": [
      "string indices must be integers\n"
     ]
    },
    {
     "name": "stderr",
     "output_type": "stream",
     "text": [
      "\r",
      " 59%|█████████████████████████████████████████████████▎                                  | 1098/1870 [10:12<13:53,  1.08s/it]"
     ]
    },
    {
     "name": "stdout",
     "output_type": "stream",
     "text": [
      "string indices must be integers\n",
      "string indices must be integers\n"
     ]
    },
    {
     "name": "stderr",
     "output_type": "stream",
     "text": [
      " 59%|█████████████████████████████████████████████████▍                                  | 1100/1870 [10:14<12:58,  1.01s/it]"
     ]
    },
    {
     "name": "stdout",
     "output_type": "stream",
     "text": [
      "string indices must be integersstring indices must be integers\n",
      "\n",
      "string indices must be integers\n",
      "string indices must be integers\n"
     ]
    },
    {
     "name": "stderr",
     "output_type": "stream",
     "text": [
      "\r",
      " 59%|█████████████████████████████████████████████████▍                                  | 1101/1870 [10:16<16:36,  1.30s/it]"
     ]
    },
    {
     "name": "stdout",
     "output_type": "stream",
     "text": [
      "string indices must be integers\n"
     ]
    },
    {
     "name": "stderr",
     "output_type": "stream",
     "text": [
      "\r",
      " 59%|█████████████████████████████████████████████████▌                                  | 1102/1870 [10:17<15:04,  1.18s/it]"
     ]
    },
    {
     "name": "stdout",
     "output_type": "stream",
     "text": [
      "string indices must be integers\n"
     ]
    },
    {
     "name": "stderr",
     "output_type": "stream",
     "text": [
      " 59%|█████████████████████████████████████████████████▌                                  | 1104/1870 [10:20<15:14,  1.19s/it]"
     ]
    },
    {
     "name": "stdout",
     "output_type": "stream",
     "text": [
      "string indices must be integers\n",
      "string indices must be integers\n"
     ]
    },
    {
     "name": "stderr",
     "output_type": "stream",
     "text": [
      " 59%|█████████████████████████████████████████████████▋                                  | 1106/1870 [10:22<15:17,  1.20s/it]"
     ]
    },
    {
     "name": "stdout",
     "output_type": "stream",
     "text": [
      "string indices must be integers\n",
      "string indices must be integers\n",
      "string indices must be integers\n",
      "string indices must be integers\n"
     ]
    },
    {
     "name": "stderr",
     "output_type": "stream",
     "text": [
      " 59%|█████████████████████████████████████████████████▊                                  | 1108/1870 [10:24<13:12,  1.04s/it]"
     ]
    },
    {
     "name": "stdout",
     "output_type": "stream",
     "text": [
      "string indices must be integers\n",
      "string indices must be integers\n"
     ]
    },
    {
     "name": "stderr",
     "output_type": "stream",
     "text": [
      " 59%|█████████████████████████████████████████████████▊                                  | 1110/1870 [10:27<15:20,  1.21s/it]"
     ]
    },
    {
     "name": "stdout",
     "output_type": "stream",
     "text": [
      "string indices must be integers\n"
     ]
    },
    {
     "name": "stderr",
     "output_type": "stream",
     "text": [
      " 59%|█████████████████████████████████████████████████▉                                  | 1112/1870 [10:30<16:31,  1.31s/it]"
     ]
    },
    {
     "name": "stdout",
     "output_type": "stream",
     "text": [
      "string indices must be integers\n",
      "string indices must be integers\n",
      "string indices must be integers\n",
      "string indices must be integers\n",
      "string indices must be integers\n"
     ]
    },
    {
     "name": "stderr",
     "output_type": "stream",
     "text": [
      " 60%|██████████████████████████████████████████████████                                  | 1114/1870 [10:32<15:09,  1.20s/it]"
     ]
    },
    {
     "name": "stdout",
     "output_type": "stream",
     "text": [
      "string indices must be integers\n"
     ]
    },
    {
     "name": "stderr",
     "output_type": "stream",
     "text": [
      " 60%|██████████████████████████████████████████████████▏                                 | 1116/1870 [10:34<14:30,  1.15s/it]"
     ]
    },
    {
     "name": "stdout",
     "output_type": "stream",
     "text": [
      "string indices must be integers\n"
     ]
    },
    {
     "name": "stderr",
     "output_type": "stream",
     "text": [
      " 60%|██████████████████████████████████████████████████▏                                 | 1118/1870 [10:36<12:31,  1.00it/s]"
     ]
    },
    {
     "name": "stdout",
     "output_type": "stream",
     "text": [
      "string indices must be integers\n",
      "string indices must be integers\n",
      "string indices must be integers\n",
      "string indices must be integers\n"
     ]
    },
    {
     "name": "stderr",
     "output_type": "stream",
     "text": [
      " 60%|██████████████████████████████████████████████████▎                                 | 1120/1870 [10:39<12:36,  1.01s/it]"
     ]
    },
    {
     "name": "stdout",
     "output_type": "stream",
     "text": [
      "string indices must be integers\n",
      "string indices must be integers\n"
     ]
    },
    {
     "name": "stderr",
     "output_type": "stream",
     "text": [
      " 60%|██████████████████████████████████████████████████▍                                 | 1122/1870 [10:41<11:10,  1.12it/s]"
     ]
    },
    {
     "name": "stdout",
     "output_type": "stream",
     "text": [
      "string indices must be integers\n"
     ]
    },
    {
     "name": "stderr",
     "output_type": "stream",
     "text": [
      " 60%|██████████████████████████████████████████████████▍                                 | 1124/1870 [10:43<13:14,  1.07s/it]"
     ]
    },
    {
     "name": "stdout",
     "output_type": "stream",
     "text": [
      "string indices must be integers\n",
      "string indices must be integers\n"
     ]
    },
    {
     "name": "stderr",
     "output_type": "stream",
     "text": [
      "\r",
      " 60%|██████████████████████████████████████████████████▌                                 | 1125/1870 [10:44<12:31,  1.01s/it]"
     ]
    },
    {
     "name": "stdout",
     "output_type": "stream",
     "text": [
      "string indices must be integers\n",
      "string indices must be integers\n"
     ]
    },
    {
     "name": "stderr",
     "output_type": "stream",
     "text": [
      " 60%|██████████████████████████████████████████████████▌                                 | 1127/1870 [10:46<13:28,  1.09s/it]"
     ]
    },
    {
     "name": "stdout",
     "output_type": "stream",
     "text": [
      "string indices must be integers\n",
      "string indices must be integers\n",
      "string indices must be integers\n"
     ]
    },
    {
     "name": "stderr",
     "output_type": "stream",
     "text": [
      " 60%|██████████████████████████████████████████████████▋                                 | 1129/1870 [10:48<12:58,  1.05s/it]"
     ]
    },
    {
     "name": "stdout",
     "output_type": "stream",
     "text": [
      "string indices must be integers\n"
     ]
    },
    {
     "name": "stderr",
     "output_type": "stream",
     "text": [
      "\r",
      " 60%|██████████████████████████████████████████████████▊                                 | 1130/1870 [10:50<13:28,  1.09s/it]"
     ]
    },
    {
     "name": "stdout",
     "output_type": "stream",
     "text": [
      "string indices must be integers\n"
     ]
    },
    {
     "name": "stderr",
     "output_type": "stream",
     "text": [
      "\r",
      " 60%|██████████████████████████████████████████████████▊                                 | 1131/1870 [10:50<12:39,  1.03s/it]"
     ]
    },
    {
     "name": "stdout",
     "output_type": "stream",
     "text": [
      "string indices must be integers\n",
      "string indices must be integers\n"
     ]
    },
    {
     "name": "stderr",
     "output_type": "stream",
     "text": [
      " 61%|██████████████████████████████████████████████████▉                                 | 1133/1870 [10:53<14:00,  1.14s/it]"
     ]
    },
    {
     "name": "stdout",
     "output_type": "stream",
     "text": [
      "string indices must be integers\n",
      "string indices must be integers\n",
      "string indices must be integers\n"
     ]
    },
    {
     "name": "stderr",
     "output_type": "stream",
     "text": [
      "\r",
      " 61%|██████████████████████████████████████████████████▉                                 | 1134/1870 [10:54<12:34,  1.03s/it]"
     ]
    },
    {
     "name": "stdout",
     "output_type": "stream",
     "text": [
      "string indices must be integers\n"
     ]
    },
    {
     "name": "stderr",
     "output_type": "stream",
     "text": [
      " 61%|███████████████████████████████████████████████████                                 | 1136/1870 [10:56<13:25,  1.10s/it]"
     ]
    },
    {
     "name": "stdout",
     "output_type": "stream",
     "text": [
      "string indices must be integers\n"
     ]
    },
    {
     "name": "stderr",
     "output_type": "stream",
     "text": [
      "\r",
      " 61%|███████████████████████████████████████████████████                                 | 1137/1870 [10:57<14:30,  1.19s/it]"
     ]
    },
    {
     "name": "stdout",
     "output_type": "stream",
     "text": [
      "string indices must be integers\n"
     ]
    },
    {
     "name": "stderr",
     "output_type": "stream",
     "text": [
      " 61%|███████████████████████████████████████████████████▏                                | 1139/1870 [11:00<13:42,  1.12s/it]"
     ]
    },
    {
     "name": "stdout",
     "output_type": "stream",
     "text": [
      "string indices must be integers\n",
      "string indices must be integers\n",
      "string indices must be integers\n",
      "string indices must be integers\n",
      "string indices must be integers\n",
      "string indices must be integers\n"
     ]
    },
    {
     "name": "stderr",
     "output_type": "stream",
     "text": [
      " 61%|███████████████████████████████████████████████████▎                                | 1142/1870 [11:03<13:39,  1.13s/it]"
     ]
    },
    {
     "name": "stdout",
     "output_type": "stream",
     "text": [
      "string indices must be integers\n",
      "string indices must be integers\n",
      "string indices must be integers\n"
     ]
    },
    {
     "name": "stderr",
     "output_type": "stream",
     "text": [
      "\r",
      " 61%|███████████████████████████████████████████████████▎                                | 1143/1870 [11:06<17:47,  1.47s/it]"
     ]
    },
    {
     "name": "stdout",
     "output_type": "stream",
     "text": [
      "string indices must be integers\n"
     ]
    },
    {
     "name": "stderr",
     "output_type": "stream",
     "text": [
      "\r",
      " 61%|███████████████████████████████████████████████████▍                                | 1144/1870 [11:06<14:28,  1.20s/it]"
     ]
    },
    {
     "name": "stdout",
     "output_type": "stream",
     "text": [
      "string indices must be integers\n"
     ]
    },
    {
     "name": "stderr",
     "output_type": "stream",
     "text": [
      "\r",
      " 61%|███████████████████████████████████████████████████▍                                | 1145/1870 [11:08<18:15,  1.51s/it]"
     ]
    },
    {
     "name": "stdout",
     "output_type": "stream",
     "text": [
      "string indices must be integers\n"
     ]
    },
    {
     "name": "stderr",
     "output_type": "stream",
     "text": [
      "\r",
      " 61%|███████████████████████████████████████████████████▍                                | 1146/1870 [11:10<18:21,  1.52s/it]"
     ]
    },
    {
     "name": "stdout",
     "output_type": "stream",
     "text": [
      "string indices must be integers\n",
      "string indices must be integers\n"
     ]
    },
    {
     "name": "stderr",
     "output_type": "stream",
     "text": [
      "\r",
      " 61%|███████████████████████████████████████████████████▌                                | 1147/1870 [11:10<14:29,  1.20s/it]"
     ]
    },
    {
     "name": "stdout",
     "output_type": "stream",
     "text": [
      "string indices must be integers\n"
     ]
    },
    {
     "name": "stderr",
     "output_type": "stream",
     "text": [
      "\r",
      " 61%|███████████████████████████████████████████████████▌                                | 1148/1870 [11:12<14:38,  1.22s/it]"
     ]
    },
    {
     "name": "stdout",
     "output_type": "stream",
     "text": [
      "string indices must be integers\n",
      "string indices must be integers\n"
     ]
    },
    {
     "name": "stderr",
     "output_type": "stream",
     "text": [
      "\r",
      " 61%|███████████████████████████████████████████████████▌                                | 1149/1870 [11:13<15:52,  1.32s/it]"
     ]
    },
    {
     "name": "stdout",
     "output_type": "stream",
     "text": [
      "string indices must be integers\n"
     ]
    },
    {
     "name": "stderr",
     "output_type": "stream",
     "text": [
      "\r",
      " 61%|███████████████████████████████████████████████████▋                                | 1150/1870 [11:14<13:06,  1.09s/it]"
     ]
    },
    {
     "name": "stdout",
     "output_type": "stream",
     "text": [
      "string indices must be integers\n",
      "string indices must be integers\n"
     ]
    },
    {
     "name": "stderr",
     "output_type": "stream",
     "text": [
      " 62%|███████████████████████████████████████████████████▊                                | 1153/1870 [11:18<15:05,  1.26s/it]"
     ]
    },
    {
     "name": "stdout",
     "output_type": "stream",
     "text": [
      "string indices must be integers\n",
      "string indices must be integers\n",
      "string indices must be integers\n",
      "string indices must be integers\n"
     ]
    },
    {
     "name": "stderr",
     "output_type": "stream",
     "text": [
      " 62%|███████████████████████████████████████████████████▉                                | 1155/1870 [11:21<14:27,  1.21s/it]"
     ]
    },
    {
     "name": "stdout",
     "output_type": "stream",
     "text": [
      "string indices must be integers\n",
      "string indices must be integersstring indices must be integers\n",
      "\n"
     ]
    },
    {
     "name": "stderr",
     "output_type": "stream",
     "text": [
      " 62%|███████████████████████████████████████████████████▉                                | 1157/1870 [11:23<16:16,  1.37s/it]"
     ]
    },
    {
     "name": "stdout",
     "output_type": "stream",
     "text": [
      "string indices must be integers\n"
     ]
    },
    {
     "name": "stderr",
     "output_type": "stream",
     "text": [
      "\r",
      " 62%|████████████████████████████████████████████████████                                | 1158/1870 [11:25<17:19,  1.46s/it]"
     ]
    },
    {
     "name": "stdout",
     "output_type": "stream",
     "text": [
      "string indices must be integers\n",
      "string indices must be integers\n"
     ]
    },
    {
     "name": "stderr",
     "output_type": "stream",
     "text": [
      " 62%|████████████████████████████████████████████████████                                | 1160/1870 [11:26<13:54,  1.18s/it]"
     ]
    },
    {
     "name": "stdout",
     "output_type": "stream",
     "text": [
      "string indices must be integers\n"
     ]
    },
    {
     "name": "stderr",
     "output_type": "stream",
     "text": [
      "\r",
      " 62%|████████████████████████████████████████████████████▏                               | 1161/1870 [11:28<14:26,  1.22s/it]"
     ]
    },
    {
     "name": "stdout",
     "output_type": "stream",
     "text": [
      "string indices must be integers\n",
      "string indices must be integers\n"
     ]
    },
    {
     "name": "stderr",
     "output_type": "stream",
     "text": [
      "\r",
      " 62%|████████████████████████████████████████████████████▏                               | 1162/1870 [11:30<17:22,  1.47s/it]"
     ]
    },
    {
     "name": "stdout",
     "output_type": "stream",
     "text": [
      "string indices must be integers\n"
     ]
    },
    {
     "name": "stderr",
     "output_type": "stream",
     "text": [
      "\r",
      " 62%|████████████████████████████████████████████████████▏                               | 1163/1870 [11:31<16:15,  1.38s/it]"
     ]
    },
    {
     "name": "stdout",
     "output_type": "stream",
     "text": [
      "string indices must be integersstring indices must be integers\n",
      "\n",
      "string indices must be integers\n"
     ]
    },
    {
     "name": "stderr",
     "output_type": "stream",
     "text": [
      "\r",
      " 62%|████████████████████████████████████████████████████▎                               | 1164/1870 [11:32<16:15,  1.38s/it]"
     ]
    },
    {
     "name": "stdout",
     "output_type": "stream",
     "text": [
      "string indices must be integers\n"
     ]
    },
    {
     "name": "stderr",
     "output_type": "stream",
     "text": [
      "\r",
      " 62%|████████████████████████████████████████████████████▎                               | 1165/1870 [11:33<13:20,  1.14s/it]"
     ]
    },
    {
     "name": "stdout",
     "output_type": "stream",
     "text": [
      "string indices must be integers\n"
     ]
    },
    {
     "name": "stderr",
     "output_type": "stream",
     "text": [
      "\r",
      " 62%|████████████████████████████████████████████████████▍                               | 1166/1870 [11:34<14:03,  1.20s/it]"
     ]
    },
    {
     "name": "stdout",
     "output_type": "stream",
     "text": [
      "string indices must be integers\n"
     ]
    },
    {
     "name": "stderr",
     "output_type": "stream",
     "text": [
      " 63%|████████████████████████████████████████████████████▌                               | 1169/1870 [11:37<12:00,  1.03s/it]"
     ]
    },
    {
     "name": "stdout",
     "output_type": "stream",
     "text": [
      "string indices must be integersstring indices must be integers\n",
      "\n",
      "string indices must be integers\n"
     ]
    },
    {
     "name": "stderr",
     "output_type": "stream",
     "text": [
      " 63%|████████████████████████████████████████████████████▋                               | 1172/1870 [11:40<12:01,  1.03s/it]"
     ]
    },
    {
     "name": "stdout",
     "output_type": "stream",
     "text": [
      "string indices must be integers\n",
      "string indices must be integers\n",
      "string indices must be integersstring indices must be integers\n",
      "\n"
     ]
    },
    {
     "name": "stderr",
     "output_type": "stream",
     "text": [
      "\r",
      " 63%|████████████████████████████████████████████████████▋                               | 1173/1870 [11:42<13:05,  1.13s/it]"
     ]
    },
    {
     "name": "stdout",
     "output_type": "stream",
     "text": [
      "string indices must be integers\n",
      "string indices must be integers\n"
     ]
    },
    {
     "name": "stderr",
     "output_type": "stream",
     "text": [
      " 63%|████████████████████████████████████████████████████▊                               | 1176/1870 [11:46<14:08,  1.22s/it]"
     ]
    },
    {
     "name": "stdout",
     "output_type": "stream",
     "text": [
      "string indices must be integers\n",
      "string indices must be integers\n"
     ]
    },
    {
     "name": "stderr",
     "output_type": "stream",
     "text": [
      " 63%|████████████████████████████████████████████████████▉                               | 1178/1870 [11:48<13:29,  1.17s/it]"
     ]
    },
    {
     "name": "stdout",
     "output_type": "stream",
     "text": [
      "string indices must be integers\n",
      "string indices must be integers\n"
     ]
    },
    {
     "name": "stderr",
     "output_type": "stream",
     "text": [
      "\r",
      " 63%|████████████████████████████████████████████████████▉                               | 1179/1870 [11:49<13:59,  1.22s/it]"
     ]
    },
    {
     "name": "stdout",
     "output_type": "stream",
     "text": [
      "string indices must be integers\n"
     ]
    },
    {
     "name": "stderr",
     "output_type": "stream",
     "text": [
      "\r",
      " 63%|█████████████████████████████████████████████████████                               | 1180/1870 [11:50<12:18,  1.07s/it]"
     ]
    },
    {
     "name": "stdout",
     "output_type": "stream",
     "text": [
      "string indices must be integers\n",
      "string indices must be integers\n"
     ]
    },
    {
     "name": "stderr",
     "output_type": "stream",
     "text": [
      " 63%|█████████████████████████████████████████████████████                               | 1182/1870 [11:52<13:53,  1.21s/it]"
     ]
    },
    {
     "name": "stdout",
     "output_type": "stream",
     "text": [
      "string indices must be integers\n",
      "string indices must be integers\n"
     ]
    },
    {
     "name": "stderr",
     "output_type": "stream",
     "text": [
      " 63%|█████████████████████████████████████████████████████▏                              | 1185/1870 [11:56<13:39,  1.20s/it]"
     ]
    },
    {
     "name": "stdout",
     "output_type": "stream",
     "text": [
      "string indices must be integers\n",
      "string indices must be integers\n",
      "string indices must be integers\n",
      "HTTPSConnectionPool(host='www.everydayhealth.com', port=443): Max retries exceeded with url: /wellness/possible-health-benefits-of-deep-breathing/ (Caused by SSLError(SSLEOFError(8, 'EOF occurred in violation of protocol (_ssl.c:1129)')))\n"
     ]
    },
    {
     "name": "stderr",
     "output_type": "stream",
     "text": [
      "\r",
      " 63%|█████████████████████████████████████████████████████▎                              | 1186/1870 [11:59<18:49,  1.65s/it]"
     ]
    },
    {
     "name": "stdout",
     "output_type": "stream",
     "text": [
      "string indices must be integers\n",
      "string indices must be integers\n"
     ]
    },
    {
     "name": "stderr",
     "output_type": "stream",
     "text": [
      "\r",
      " 63%|█████████████████████████████████████████████████████▎                              | 1187/1870 [12:01<20:41,  1.82s/it]"
     ]
    },
    {
     "name": "stdout",
     "output_type": "stream",
     "text": [
      "string indices must be integers\n",
      "string indices must be integers\n",
      "string indices must be integersstring indices must be integers\n",
      "\n"
     ]
    },
    {
     "name": "stderr",
     "output_type": "stream",
     "text": [
      "\r",
      " 64%|█████████████████████████████████████████████████████▎                              | 1188/1870 [12:03<22:57,  2.02s/it]"
     ]
    },
    {
     "name": "stdout",
     "output_type": "stream",
     "text": [
      "string indices must be integers\n",
      "string indices must be integers\n",
      "string indices must be integers\n"
     ]
    },
    {
     "name": "stderr",
     "output_type": "stream",
     "text": [
      "\r",
      " 64%|█████████████████████████████████████████████████████▍                              | 1189/1870 [12:05<22:25,  1.98s/it]"
     ]
    },
    {
     "name": "stdout",
     "output_type": "stream",
     "text": [
      "string indices must be integers\n",
      "string indices must be integers\n",
      "string indices must be integers\n"
     ]
    },
    {
     "name": "stderr",
     "output_type": "stream",
     "text": [
      "\r",
      " 64%|█████████████████████████████████████████████████████▍                              | 1190/1870 [12:08<23:27,  2.07s/it]"
     ]
    },
    {
     "name": "stdout",
     "output_type": "stream",
     "text": [
      "string indices must be integers\n",
      "string indices must be integers\n",
      "string indices must be integers\n"
     ]
    },
    {
     "name": "stderr",
     "output_type": "stream",
     "text": [
      "\r",
      " 64%|█████████████████████████████████████████████████████▍                              | 1191/1870 [12:11<27:39,  2.44s/it]"
     ]
    },
    {
     "name": "stdout",
     "output_type": "stream",
     "text": [
      "string indices must be integers\n",
      "string indices must be integers\n"
     ]
    },
    {
     "name": "stderr",
     "output_type": "stream",
     "text": [
      "\r",
      " 64%|█████████████████████████████████████████████████████▌                              | 1192/1870 [12:13<26:35,  2.35s/it]"
     ]
    },
    {
     "name": "stdout",
     "output_type": "stream",
     "text": [
      "string indices must be integers\n",
      "string indices must be integers\n",
      "string indices must be integers\n"
     ]
    },
    {
     "name": "stderr",
     "output_type": "stream",
     "text": [
      "\r",
      " 64%|█████████████████████████████████████████████████████▌                              | 1193/1870 [12:15<26:33,  2.35s/it]"
     ]
    },
    {
     "name": "stdout",
     "output_type": "stream",
     "text": [
      "string indices must be integers\n",
      "string indices must be integers\n",
      "string indices must be integers\n",
      "string indices must be integers\n"
     ]
    },
    {
     "name": "stderr",
     "output_type": "stream",
     "text": [
      "\r",
      " 64%|█████████████████████████████████████████████████████▋                              | 1194/1870 [12:19<29:59,  2.66s/it]"
     ]
    },
    {
     "name": "stdout",
     "output_type": "stream",
     "text": [
      "string indices must be integers\n",
      "string indices must be integers\n"
     ]
    },
    {
     "name": "stderr",
     "output_type": "stream",
     "text": [
      "\r",
      " 64%|█████████████████████████████████████████████████████▋                              | 1195/1870 [12:22<29:57,  2.66s/it]"
     ]
    },
    {
     "name": "stdout",
     "output_type": "stream",
     "text": [
      "string indices must be integers\n",
      "string indices must be integers\n",
      "string indices must be integers\n",
      "string indices must be integers\n"
     ]
    },
    {
     "name": "stderr",
     "output_type": "stream",
     "text": [
      "\r",
      " 64%|█████████████████████████████████████████████████████▋                              | 1196/1870 [12:24<29:40,  2.64s/it]"
     ]
    },
    {
     "name": "stdout",
     "output_type": "stream",
     "text": [
      "string indices must be integers\n",
      "string indices must be integers\n"
     ]
    },
    {
     "name": "stderr",
     "output_type": "stream",
     "text": [
      "\r",
      " 64%|█████████████████████████████████████████████████████▊                              | 1197/1870 [12:26<27:55,  2.49s/it]"
     ]
    },
    {
     "name": "stdout",
     "output_type": "stream",
     "text": [
      "string indices must be integers\n",
      "string indices must be integers\n",
      "string indices must be integers\n"
     ]
    },
    {
     "name": "stderr",
     "output_type": "stream",
     "text": [
      "\r",
      " 64%|█████████████████████████████████████████████████████▊                              | 1198/1870 [12:28<26:36,  2.38s/it]"
     ]
    },
    {
     "name": "stdout",
     "output_type": "stream",
     "text": [
      "string indices must be integers\n",
      "string indices must be integers\n",
      "string indices must be integers\n"
     ]
    },
    {
     "name": "stderr",
     "output_type": "stream",
     "text": [
      "\r",
      " 64%|█████████████████████████████████████████████████████▊                              | 1199/1870 [12:31<27:01,  2.42s/it]"
     ]
    },
    {
     "name": "stdout",
     "output_type": "stream",
     "text": [
      "string indices must be integers\n",
      "string indices must be integers\n",
      "string indices must be integers\n",
      "string indices must be integers\n"
     ]
    },
    {
     "name": "stderr",
     "output_type": "stream",
     "text": [
      "\r",
      " 64%|█████████████████████████████████████████████████████▉                              | 1200/1870 [12:34<27:55,  2.50s/it]"
     ]
    },
    {
     "name": "stdout",
     "output_type": "stream",
     "text": [
      "string indices must be integers\n",
      "string indices must be integers\n",
      "string indices must be integers\n"
     ]
    },
    {
     "name": "stderr",
     "output_type": "stream",
     "text": [
      " 64%|█████████████████████████████████████████████████████▉                              | 1202/1870 [12:38<24:56,  2.24s/it]"
     ]
    },
    {
     "name": "stdout",
     "output_type": "stream",
     "text": [
      "string indices must be integers\n",
      "string indices must be integers\n",
      "string indices must be integers\n",
      "string indices must be integersstring indices must be integers\n",
      "\n"
     ]
    },
    {
     "name": "stderr",
     "output_type": "stream",
     "text": [
      "\r",
      " 64%|██████████████████████████████████████████████████████                              | 1203/1870 [12:40<24:38,  2.22s/it]"
     ]
    },
    {
     "name": "stdout",
     "output_type": "stream",
     "text": [
      "string indices must be integers\n",
      "string indices must be integers\n",
      "string indices must be integers\n",
      "string indices must be integers\n"
     ]
    },
    {
     "name": "stderr",
     "output_type": "stream",
     "text": [
      " 64%|██████████████████████████████████████████████████████▏                             | 1205/1870 [12:44<24:15,  2.19s/it]"
     ]
    },
    {
     "name": "stdout",
     "output_type": "stream",
     "text": [
      "string indices must be integers\n",
      "string indices must be integers\n"
     ]
    },
    {
     "name": "stderr",
     "output_type": "stream",
     "text": [
      "\r",
      " 64%|██████████████████████████████████████████████████████▏                             | 1206/1870 [12:47<27:04,  2.45s/it]"
     ]
    },
    {
     "name": "stdout",
     "output_type": "stream",
     "text": [
      "string indices must be integers\n",
      "string indices must be integers\n",
      "string indices must be integers\n",
      "string indices must be integers\n",
      "string indices must be integers\n",
      "string indices must be integers\n",
      "string indices must be integers\n"
     ]
    },
    {
     "name": "stderr",
     "output_type": "stream",
     "text": [
      " 65%|██████████████████████████████████████████████████████▎                             | 1208/1870 [12:53<29:00,  2.63s/it]"
     ]
    },
    {
     "name": "stdout",
     "output_type": "stream",
     "text": [
      "string indices must be integers\n",
      "string indices must be integers\n",
      "string indices must be integers\n",
      "string indices must be integers\n"
     ]
    },
    {
     "name": "stderr",
     "output_type": "stream",
     "text": [
      "\r",
      " 65%|██████████████████████████████████████████████████████▎                             | 1209/1870 [12:56<29:47,  2.70s/it]"
     ]
    },
    {
     "name": "stdout",
     "output_type": "stream",
     "text": [
      "string indices must be integers\n"
     ]
    },
    {
     "name": "stderr",
     "output_type": "stream",
     "text": [
      "\r",
      " 65%|██████████████████████████████████████████████████████▎                             | 1210/1870 [12:58<26:59,  2.45s/it]"
     ]
    },
    {
     "name": "stdout",
     "output_type": "stream",
     "text": [
      "string indices must be integers\n",
      "string indices must be integers\n",
      "string indices must be integers\n",
      "string indices must be integers\n",
      "string indices must be integersstring indices must be integers\n",
      "\n"
     ]
    },
    {
     "name": "stderr",
     "output_type": "stream",
     "text": [
      "\r",
      " 65%|██████████████████████████████████████████████████████▍                             | 1211/1870 [13:00<27:19,  2.49s/it]"
     ]
    },
    {
     "name": "stdout",
     "output_type": "stream",
     "text": [
      "string indices must be integers\n",
      "string indices must be integers\n"
     ]
    },
    {
     "name": "stderr",
     "output_type": "stream",
     "text": [
      "\r",
      " 65%|██████████████████████████████████████████████████████▍                             | 1212/1870 [13:04<29:49,  2.72s/it]"
     ]
    },
    {
     "name": "stdout",
     "output_type": "stream",
     "text": [
      "string indices must be integers\n",
      "string indices must be integers\n",
      "string indices must be integers\n"
     ]
    },
    {
     "name": "stderr",
     "output_type": "stream",
     "text": [
      "\r",
      " 65%|██████████████████████████████████████████████████████▍                             | 1213/1870 [13:06<27:38,  2.52s/it]"
     ]
    },
    {
     "name": "stdout",
     "output_type": "stream",
     "text": [
      "string indices must be integersstring indices must be integers\n",
      "\n",
      "string indices must be integers\n",
      "string indices must be integers\n",
      "string indices must be integers\n"
     ]
    },
    {
     "name": "stderr",
     "output_type": "stream",
     "text": [
      "\r",
      " 65%|██████████████████████████████████████████████████████▌                             | 1214/1870 [13:08<28:00,  2.56s/it]"
     ]
    },
    {
     "name": "stdout",
     "output_type": "stream",
     "text": [
      "string indices must be integersstring indices must be integers\n",
      "\n"
     ]
    },
    {
     "name": "stderr",
     "output_type": "stream",
     "text": [
      "\r",
      " 65%|██████████████████████████████████████████████████████▌                             | 1215/1870 [13:11<27:52,  2.55s/it]"
     ]
    },
    {
     "name": "stdout",
     "output_type": "stream",
     "text": [
      "string indices must be integers\n",
      "string indices must be integers\n",
      "string indices must be integers\n",
      "string indices must be integers\n"
     ]
    },
    {
     "name": "stderr",
     "output_type": "stream",
     "text": [
      "\r",
      " 65%|██████████████████████████████████████████████████████▌                             | 1216/1870 [13:14<30:59,  2.84s/it]"
     ]
    },
    {
     "name": "stdout",
     "output_type": "stream",
     "text": [
      "string indices must be integers\n",
      "string indices must be integers\n",
      "string indices must be integers\n"
     ]
    },
    {
     "name": "stderr",
     "output_type": "stream",
     "text": [
      "\r",
      " 65%|██████████████████████████████████████████████████████▋                             | 1217/1870 [13:17<29:51,  2.74s/it]"
     ]
    },
    {
     "name": "stdout",
     "output_type": "stream",
     "text": [
      "string indices must be integers\n",
      "string indices must be integers\n"
     ]
    },
    {
     "name": "stderr",
     "output_type": "stream",
     "text": [
      "\r",
      " 65%|██████████████████████████████████████████████████████▋                             | 1218/1870 [13:19<27:57,  2.57s/it]"
     ]
    },
    {
     "name": "stdout",
     "output_type": "stream",
     "text": [
      "string indices must be integers\n",
      "string indices must be integers\n"
     ]
    },
    {
     "name": "stderr",
     "output_type": "stream",
     "text": [
      "\r",
      " 65%|██████████████████████████████████████████████████████▊                             | 1219/1870 [13:21<26:03,  2.40s/it]"
     ]
    },
    {
     "name": "stdout",
     "output_type": "stream",
     "text": [
      "string indices must be integers\n",
      "string indices must be integers\n",
      "string indices must be integers\n",
      "string indices must be integers\n"
     ]
    },
    {
     "name": "stderr",
     "output_type": "stream",
     "text": [
      "\r",
      " 65%|██████████████████████████████████████████████████████▊                             | 1220/1870 [13:24<26:50,  2.48s/it]"
     ]
    },
    {
     "name": "stdout",
     "output_type": "stream",
     "text": [
      "string indices must be integers\n",
      "string indices must be integers\n"
     ]
    },
    {
     "name": "stderr",
     "output_type": "stream",
     "text": [
      "\r",
      " 65%|██████████████████████████████████████████████████████▊                             | 1221/1870 [13:26<25:13,  2.33s/it]"
     ]
    },
    {
     "name": "stdout",
     "output_type": "stream",
     "text": [
      "string indices must be integers\n",
      "string indices must be integers\n"
     ]
    },
    {
     "name": "stderr",
     "output_type": "stream",
     "text": [
      "\r",
      " 65%|██████████████████████████████████████████████████████▉                             | 1222/1870 [13:27<22:47,  2.11s/it]"
     ]
    },
    {
     "name": "stdout",
     "output_type": "stream",
     "text": [
      "string indices must be integers\n",
      "string indices must be integers\n",
      "string indices must be integers\n",
      "string indices must be integers\n"
     ]
    },
    {
     "name": "stderr",
     "output_type": "stream",
     "text": [
      "\r",
      " 65%|██████████████████████████████████████████████████████▉                             | 1223/1870 [13:29<23:15,  2.16s/it]"
     ]
    },
    {
     "name": "stdout",
     "output_type": "stream",
     "text": [
      "string indices must be integers\n"
     ]
    },
    {
     "name": "stderr",
     "output_type": "stream",
     "text": [
      "\r",
      " 65%|██████████████████████████████████████████████████████▉                             | 1224/1870 [13:31<22:09,  2.06s/it]"
     ]
    },
    {
     "name": "stdout",
     "output_type": "stream",
     "text": [
      "string indices must be integers\n",
      "string indices must be integersstring indices must be integers\n",
      "\n",
      "string indices must be integers\n"
     ]
    },
    {
     "name": "stderr",
     "output_type": "stream",
     "text": [
      " 66%|███████████████████████████████████████████████████████                             | 1226/1870 [13:35<21:08,  1.97s/it]"
     ]
    },
    {
     "name": "stdout",
     "output_type": "stream",
     "text": [
      "string indices must be integersstring indices must be integers\n",
      "\n",
      "string indices must be integers\n"
     ]
    },
    {
     "name": "stderr",
     "output_type": "stream",
     "text": [
      "\r",
      " 66%|███████████████████████████████████████████████████████                             | 1227/1870 [13:38<22:43,  2.12s/it]"
     ]
    },
    {
     "name": "stdout",
     "output_type": "stream",
     "text": [
      "string indices must be integers\n",
      "string indices must be integers\n",
      "string indices must be integers\n"
     ]
    },
    {
     "name": "stderr",
     "output_type": "stream",
     "text": [
      "\r",
      " 66%|███████████████████████████████████████████████████████▏                            | 1228/1870 [13:39<21:59,  2.05s/it]"
     ]
    },
    {
     "name": "stdout",
     "output_type": "stream",
     "text": [
      "string indices must be integers\n",
      "string indices must be integers\n",
      "string indices must be integers\n",
      "string indices must be integers\n",
      "string indices must be integers\n"
     ]
    },
    {
     "name": "stderr",
     "output_type": "stream",
     "text": [
      "\r",
      " 66%|███████████████████████████████████████████████████████▏                            | 1229/1870 [13:42<24:56,  2.33s/it]"
     ]
    },
    {
     "name": "stdout",
     "output_type": "stream",
     "text": [
      "string indices must be integers\n",
      "string indices must be integers\n",
      "string indices must be integers\n"
     ]
    },
    {
     "name": "stderr",
     "output_type": "stream",
     "text": [
      "\r",
      " 66%|███████████████████████████████████████████████████████▎                            | 1230/1870 [13:45<27:01,  2.53s/it]"
     ]
    },
    {
     "name": "stdout",
     "output_type": "stream",
     "text": [
      "string indices must be integersstring indices must be integers\n",
      "\n"
     ]
    },
    {
     "name": "stderr",
     "output_type": "stream",
     "text": [
      "\r",
      " 66%|███████████████████████████████████████████████████████▎                            | 1231/1870 [13:48<27:16,  2.56s/it]"
     ]
    },
    {
     "name": "stdout",
     "output_type": "stream",
     "text": [
      "string indices must be integers\n",
      "string indices must be integers\n",
      "string indices must be integers\n"
     ]
    },
    {
     "name": "stderr",
     "output_type": "stream",
     "text": [
      "\r",
      " 66%|███████████████████████████████████████████████████████▎                            | 1232/1870 [13:50<24:27,  2.30s/it]"
     ]
    },
    {
     "name": "stdout",
     "output_type": "stream",
     "text": [
      "string indices must be integers\n"
     ]
    },
    {
     "name": "stderr",
     "output_type": "stream",
     "text": [
      "\r",
      " 66%|███████████████████████████████████████████████████████▍                            | 1233/1870 [13:52<23:18,  2.20s/it]"
     ]
    },
    {
     "name": "stdout",
     "output_type": "stream",
     "text": [
      "string indices must be integersstring indices must be integers\n",
      "\n",
      "string indices must be integers\n",
      "string indices must be integers\n",
      "string indices must be integers\n",
      "string indices must be integers\n"
     ]
    },
    {
     "name": "stderr",
     "output_type": "stream",
     "text": [
      " 66%|███████████████████████████████████████████████████████▍                            | 1235/1870 [13:56<23:56,  2.26s/it]"
     ]
    },
    {
     "name": "stdout",
     "output_type": "stream",
     "text": [
      "string indices must be integers\n"
     ]
    },
    {
     "name": "stderr",
     "output_type": "stream",
     "text": [
      "\r",
      " 66%|███████████████████████████████████████████████████████▌                            | 1236/1870 [13:59<23:28,  2.22s/it]"
     ]
    },
    {
     "name": "stdout",
     "output_type": "stream",
     "text": [
      "string indices must be integers\n",
      "string indices must be integers\n",
      "string indices must be integers\n"
     ]
    },
    {
     "name": "stderr",
     "output_type": "stream",
     "text": [
      "\r",
      " 66%|███████████████████████████████████████████████████████▌                            | 1237/1870 [14:01<24:37,  2.33s/it]"
     ]
    },
    {
     "name": "stdout",
     "output_type": "stream",
     "text": [
      "string indices must be integers\n",
      "string indices must be integers\n",
      "string indices must be integers\n",
      "string indices must be integers\n",
      "string indices must be integers\n"
     ]
    },
    {
     "name": "stderr",
     "output_type": "stream",
     "text": [
      "\r",
      " 66%|███████████████████████████████████████████████████████▌                            | 1238/1870 [14:04<25:27,  2.42s/it]"
     ]
    },
    {
     "name": "stdout",
     "output_type": "stream",
     "text": [
      "string indices must be integers\n",
      "string indices must be integers\n"
     ]
    },
    {
     "name": "stderr",
     "output_type": "stream",
     "text": [
      "\r",
      " 66%|███████████████████████████████████████████████████████▋                            | 1239/1870 [14:06<24:09,  2.30s/it]"
     ]
    },
    {
     "name": "stdout",
     "output_type": "stream",
     "text": [
      "string indices must be integers\n"
     ]
    },
    {
     "name": "stderr",
     "output_type": "stream",
     "text": [
      "\r",
      " 66%|███████████████████████████████████████████████████████▋                            | 1240/1870 [14:08<22:46,  2.17s/it]"
     ]
    },
    {
     "name": "stdout",
     "output_type": "stream",
     "text": [
      "string indices must be integers\n",
      "string indices must be integersstring indices must be integers\n",
      "\n",
      "string indices must be integers\n",
      "string indices must be integers\n"
     ]
    },
    {
     "name": "stderr",
     "output_type": "stream",
     "text": [
      "\r",
      " 66%|███████████████████████████████████████████████████████▋                            | 1241/1870 [14:10<21:37,  2.06s/it]"
     ]
    },
    {
     "name": "stdout",
     "output_type": "stream",
     "text": [
      "string indices must be integers\n"
     ]
    },
    {
     "name": "stderr",
     "output_type": "stream",
     "text": [
      "\r",
      " 66%|███████████████████████████████████████████████████████▊                            | 1242/1870 [14:12<23:55,  2.29s/it]"
     ]
    },
    {
     "name": "stdout",
     "output_type": "stream",
     "text": [
      "string indices must be integers\n",
      "string indices must be integers\n"
     ]
    },
    {
     "name": "stderr",
     "output_type": "stream",
     "text": [
      "\r",
      " 66%|███████████████████████████████████████████████████████▊                            | 1243/1870 [14:15<23:54,  2.29s/it]"
     ]
    },
    {
     "name": "stdout",
     "output_type": "stream",
     "text": [
      "string indices must be integers\n",
      "string indices must be integers\n",
      "string indices must be integers\n"
     ]
    },
    {
     "name": "stderr",
     "output_type": "stream",
     "text": [
      "\r",
      " 67%|███████████████████████████████████████████████████████▉                            | 1244/1870 [14:17<24:02,  2.30s/it]"
     ]
    },
    {
     "name": "stdout",
     "output_type": "stream",
     "text": [
      "string indices must be integers\n",
      "string indices must be integers\n",
      "string indices must be integers\n",
      "string indices must be integers\n"
     ]
    },
    {
     "name": "stderr",
     "output_type": "stream",
     "text": [
      "\r",
      " 67%|███████████████████████████████████████████████████████▉                            | 1245/1870 [14:19<23:47,  2.28s/it]"
     ]
    },
    {
     "name": "stdout",
     "output_type": "stream",
     "text": [
      "string indices must be integers\n"
     ]
    },
    {
     "name": "stderr",
     "output_type": "stream",
     "text": [
      "\r",
      " 67%|███████████████████████████████████████████████████████▉                            | 1246/1870 [14:22<25:43,  2.47s/it]"
     ]
    },
    {
     "name": "stdout",
     "output_type": "stream",
     "text": [
      "string indices must be integers\n",
      "string indices must be integers\n"
     ]
    },
    {
     "name": "stderr",
     "output_type": "stream",
     "text": [
      "\r",
      " 67%|████████████████████████████████████████████████████████                            | 1247/1870 [14:24<23:34,  2.27s/it]"
     ]
    },
    {
     "name": "stdout",
     "output_type": "stream",
     "text": [
      "string indices must be integers\n",
      "string indices must be integers\n",
      "string indices must be integers\n",
      "string indices must be integers\n",
      "string indices must be integers\n",
      "string indices must be integers\n"
     ]
    },
    {
     "name": "stderr",
     "output_type": "stream",
     "text": [
      "\r",
      " 67%|████████████████████████████████████████████████████████                            | 1248/1870 [14:27<24:45,  2.39s/it]"
     ]
    },
    {
     "name": "stdout",
     "output_type": "stream",
     "text": [
      "string indices must be integers\n"
     ]
    },
    {
     "name": "stderr",
     "output_type": "stream",
     "text": [
      "\r",
      " 67%|████████████████████████████████████████████████████████                            | 1249/1870 [14:29<23:24,  2.26s/it]"
     ]
    },
    {
     "name": "stdout",
     "output_type": "stream",
     "text": [
      "string indices must be integers\n"
     ]
    },
    {
     "name": "stderr",
     "output_type": "stream",
     "text": [
      "\r",
      " 67%|████████████████████████████████████████████████████████▏                           | 1250/1870 [14:30<21:32,  2.08s/it]"
     ]
    },
    {
     "name": "stdout",
     "output_type": "stream",
     "text": [
      "string indices must be integers\n",
      "string indices must be integers\n",
      "string indices must be integers\n"
     ]
    },
    {
     "name": "stderr",
     "output_type": "stream",
     "text": [
      "\r",
      " 67%|████████████████████████████████████████████████████████▏                           | 1251/1870 [14:32<21:48,  2.11s/it]"
     ]
    },
    {
     "name": "stdout",
     "output_type": "stream",
     "text": [
      "string indices must be integers\n",
      "string indices must be integers\n",
      "string indices must be integers\n",
      "string indices must be integers\n"
     ]
    },
    {
     "name": "stderr",
     "output_type": "stream",
     "text": [
      "\r",
      " 67%|████████████████████████████████████████████████████████▏                           | 1252/1870 [14:35<23:02,  2.24s/it]"
     ]
    },
    {
     "name": "stdout",
     "output_type": "stream",
     "text": [
      "string indices must be integers\n",
      "string indices must be integers\n",
      "string indices must be integers\n",
      "string indices must be integers\n",
      "string indices must be integers\n"
     ]
    },
    {
     "name": "stderr",
     "output_type": "stream",
     "text": [
      "\r",
      " 67%|████████████████████████████████████████████████████████▎                           | 1253/1870 [14:39<27:36,  2.69s/it]"
     ]
    },
    {
     "name": "stdout",
     "output_type": "stream",
     "text": [
      "string indices must be integers\n",
      "string indices must be integers\n"
     ]
    },
    {
     "name": "stderr",
     "output_type": "stream",
     "text": [
      "\r",
      " 67%|████████████████████████████████████████████████████████▎                           | 1254/1870 [14:41<26:52,  2.62s/it]"
     ]
    },
    {
     "name": "stdout",
     "output_type": "stream",
     "text": [
      "string indices must be integers\n",
      "string indices must be integers\n",
      "string indices must be integers\n",
      "string indices must be integers\n",
      "string indices must be integers\n",
      "string indices must be integers\n"
     ]
    },
    {
     "name": "stderr",
     "output_type": "stream",
     "text": [
      "\r",
      " 67%|████████████████████████████████████████████████████████▎                           | 1255/1870 [14:44<28:52,  2.82s/it]"
     ]
    },
    {
     "name": "stdout",
     "output_type": "stream",
     "text": [
      "string indices must be integers\n",
      "string indices must be integers\n"
     ]
    },
    {
     "name": "stderr",
     "output_type": "stream",
     "text": [
      "\r",
      " 67%|████████████████████████████████████████████████████████▍                           | 1256/1870 [14:47<27:56,  2.73s/it]"
     ]
    },
    {
     "name": "stdout",
     "output_type": "stream",
     "text": [
      "string indices must be integers\n"
     ]
    },
    {
     "name": "stderr",
     "output_type": "stream",
     "text": [
      "\r",
      " 67%|████████████████████████████████████████████████████████▍                           | 1257/1870 [14:49<27:15,  2.67s/it]"
     ]
    },
    {
     "name": "stdout",
     "output_type": "stream",
     "text": [
      "string indices must be integers\n",
      "string indices must be integers\n",
      "string indices must be integers\n"
     ]
    },
    {
     "name": "stderr",
     "output_type": "stream",
     "text": [
      "\r",
      " 67%|████████████████████████████████████████████████████████▌                           | 1258/1870 [14:52<26:21,  2.58s/it]"
     ]
    },
    {
     "name": "stdout",
     "output_type": "stream",
     "text": [
      "string indices must be integers\n",
      "string indices must be integers\n",
      "string indices must be integers\n",
      "string indices must be integers\n",
      "string indices must be integers\n"
     ]
    },
    {
     "name": "stderr",
     "output_type": "stream",
     "text": [
      "\r",
      " 67%|████████████████████████████████████████████████████████▌                           | 1259/1870 [14:54<25:21,  2.49s/it]"
     ]
    },
    {
     "name": "stdout",
     "output_type": "stream",
     "text": [
      "string indices must be integers\n"
     ]
    },
    {
     "name": "stderr",
     "output_type": "stream",
     "text": [
      "\r",
      " 67%|████████████████████████████████████████████████████████▌                           | 1260/1870 [14:56<24:38,  2.42s/it]"
     ]
    },
    {
     "name": "stdout",
     "output_type": "stream",
     "text": [
      "string indices must be integers\n"
     ]
    },
    {
     "name": "stderr",
     "output_type": "stream",
     "text": [
      "\r",
      " 67%|████████████████████████████████████████████████████████▋                           | 1261/1870 [14:58<22:32,  2.22s/it]"
     ]
    },
    {
     "name": "stdout",
     "output_type": "stream",
     "text": [
      "string indices must be integers\n",
      "string indices must be integers\n"
     ]
    },
    {
     "name": "stderr",
     "output_type": "stream",
     "text": [
      "\r",
      " 67%|████████████████████████████████████████████████████████▋                           | 1262/1870 [15:00<21:15,  2.10s/it]"
     ]
    },
    {
     "name": "stdout",
     "output_type": "stream",
     "text": [
      "string indices must be integers\n",
      "string indices must be integers\n",
      "string indices must be integers\n"
     ]
    },
    {
     "name": "stderr",
     "output_type": "stream",
     "text": [
      "\r",
      " 68%|████████████████████████████████████████████████████████▋                           | 1263/1870 [15:02<21:18,  2.11s/it]"
     ]
    },
    {
     "name": "stdout",
     "output_type": "stream",
     "text": [
      "string indices must be integers\n",
      "string indices must be integers\n",
      "string indices must be integers\n"
     ]
    },
    {
     "name": "stderr",
     "output_type": "stream",
     "text": [
      "\r",
      " 68%|████████████████████████████████████████████████████████▊                           | 1264/1870 [15:04<21:03,  2.08s/it]"
     ]
    },
    {
     "name": "stdout",
     "output_type": "stream",
     "text": [
      "string indices must be integers\n",
      "string indices must be integers\n"
     ]
    },
    {
     "name": "stderr",
     "output_type": "stream",
     "text": [
      "\r",
      " 68%|████████████████████████████████████████████████████████▊                           | 1265/1870 [15:07<22:12,  2.20s/it]"
     ]
    },
    {
     "name": "stdout",
     "output_type": "stream",
     "text": [
      "string indices must be integers\n",
      "string indices must be integers\n",
      "string indices must be integersstring indices must be integers\n",
      "\n",
      "string indices must be integers\n"
     ]
    },
    {
     "name": "stderr",
     "output_type": "stream",
     "text": [
      "\r",
      " 68%|████████████████████████████████████████████████████████▊                           | 1266/1870 [15:10<25:45,  2.56s/it]"
     ]
    },
    {
     "name": "stdout",
     "output_type": "stream",
     "text": [
      "string indices must be integersstring indices must be integers\n",
      "\n"
     ]
    },
    {
     "name": "stderr",
     "output_type": "stream",
     "text": [
      "\r",
      " 68%|████████████████████████████████████████████████████████▉                           | 1267/1870 [15:12<23:30,  2.34s/it]"
     ]
    },
    {
     "name": "stdout",
     "output_type": "stream",
     "text": [
      "string indices must be integers\n",
      "string indices must be integers\n"
     ]
    },
    {
     "name": "stderr",
     "output_type": "stream",
     "text": [
      "\r",
      " 68%|████████████████████████████████████████████████████████▉                           | 1268/1870 [15:14<22:43,  2.26s/it]"
     ]
    },
    {
     "name": "stdout",
     "output_type": "stream",
     "text": [
      "string indices must be integersstring indices must be integers\n",
      "\n",
      "string indices must be integersstring indices must be integersstring indices must be integers\n",
      "\n",
      "\n"
     ]
    },
    {
     "name": "stderr",
     "output_type": "stream",
     "text": [
      " 68%|█████████████████████████████████████████████████████████                           | 1270/1870 [15:18<21:13,  2.12s/it]"
     ]
    },
    {
     "name": "stdout",
     "output_type": "stream",
     "text": [
      "string indices must be integers\n",
      "string indices must be integers\n",
      "string indices must be integers\n"
     ]
    },
    {
     "name": "stderr",
     "output_type": "stream",
     "text": [
      "\r",
      " 68%|█████████████████████████████████████████████████████████                           | 1271/1870 [15:21<23:03,  2.31s/it]"
     ]
    },
    {
     "name": "stdout",
     "output_type": "stream",
     "text": [
      "string indices must be integers\n",
      "string indices must be integers\n",
      "string indices must be integersstring indices must be integers\n",
      "\n"
     ]
    },
    {
     "name": "stderr",
     "output_type": "stream",
     "text": [
      "\r",
      " 68%|█████████████████████████████████████████████████████████▏                          | 1272/1870 [15:23<22:51,  2.29s/it]"
     ]
    },
    {
     "name": "stdout",
     "output_type": "stream",
     "text": [
      "string indices must be integers\n",
      "string indices must be integers\n"
     ]
    },
    {
     "name": "stderr",
     "output_type": "stream",
     "text": [
      "\r",
      " 68%|█████████████████████████████████████████████████████████▏                          | 1273/1870 [15:25<22:06,  2.22s/it]"
     ]
    },
    {
     "name": "stdout",
     "output_type": "stream",
     "text": [
      "string indices must be integers\n",
      "string indices must be integers\n",
      "string indices must be integers\n",
      "string indices must be integers\n"
     ]
    },
    {
     "name": "stderr",
     "output_type": "stream",
     "text": [
      " 68%|█████████████████████████████████████████████████████████▎                          | 1275/1870 [15:31<25:35,  2.58s/it]"
     ]
    },
    {
     "name": "stdout",
     "output_type": "stream",
     "text": [
      "string indices must be integers\n",
      "string indices must be integers\n",
      "string indices must be integers\n",
      "string indices must be integers\n",
      "string indices must be integers\n",
      "string indices must be integers\n"
     ]
    },
    {
     "name": "stderr",
     "output_type": "stream",
     "text": [
      " 68%|█████████████████████████████████████████████████████████▎                          | 1277/1870 [15:36<24:14,  2.45s/it]"
     ]
    },
    {
     "name": "stdout",
     "output_type": "stream",
     "text": [
      "string indices must be integers\n",
      "string indices must be integers\n",
      "string indices must be integers\n",
      "string indices must be integers\n"
     ]
    },
    {
     "name": "stderr",
     "output_type": "stream",
     "text": [
      "\r",
      " 68%|█████████████████████████████████████████████████████████▍                          | 1278/1870 [15:38<23:26,  2.38s/it]"
     ]
    },
    {
     "name": "stdout",
     "output_type": "stream",
     "text": [
      "string indices must be integers\n",
      "string indices must be integers\n",
      "string indices must be integers\n"
     ]
    },
    {
     "name": "stderr",
     "output_type": "stream",
     "text": [
      "\r",
      " 68%|█████████████████████████████████████████████████████████▍                          | 1279/1870 [15:40<22:19,  2.27s/it]"
     ]
    },
    {
     "name": "stdout",
     "output_type": "stream",
     "text": [
      "string indices must be integers\n",
      "string indices must be integers\n",
      "string indices must be integers\n"
     ]
    },
    {
     "name": "stderr",
     "output_type": "stream",
     "text": [
      "\r",
      " 68%|█████████████████████████████████████████████████████████▍                          | 1280/1870 [15:42<21:19,  2.17s/it]"
     ]
    },
    {
     "name": "stdout",
     "output_type": "stream",
     "text": [
      "string indices must be integers\n",
      "string indices must be integers\n",
      "string indices must be integers\n"
     ]
    },
    {
     "name": "stderr",
     "output_type": "stream",
     "text": [
      "\r",
      " 69%|█████████████████████████████████████████████████████████▌                          | 1281/1870 [15:44<22:56,  2.34s/it]"
     ]
    },
    {
     "name": "stdout",
     "output_type": "stream",
     "text": [
      "string indices must be integers\n",
      "string indices must be integers\n"
     ]
    },
    {
     "name": "stderr",
     "output_type": "stream",
     "text": [
      "\r",
      " 69%|█████████████████████████████████████████████████████████▌                          | 1282/1870 [15:46<21:29,  2.19s/it]"
     ]
    },
    {
     "name": "stdout",
     "output_type": "stream",
     "text": [
      "string indices must be integersstring indices must be integers\n",
      "\n"
     ]
    },
    {
     "name": "stderr",
     "output_type": "stream",
     "text": [
      "\r",
      " 69%|█████████████████████████████████████████████████████████▋                          | 1283/1870 [15:48<20:15,  2.07s/it]"
     ]
    },
    {
     "name": "stdout",
     "output_type": "stream",
     "text": [
      "string indices must be integers\n",
      "string indices must be integers\n",
      "string indices must be integers\n"
     ]
    },
    {
     "name": "stderr",
     "output_type": "stream",
     "text": [
      "\r",
      " 69%|█████████████████████████████████████████████████████████▋                          | 1284/1870 [15:51<21:58,  2.25s/it]"
     ]
    },
    {
     "name": "stdout",
     "output_type": "stream",
     "text": [
      "string indices must be integers\n",
      "string indices must be integers\n"
     ]
    },
    {
     "name": "stderr",
     "output_type": "stream",
     "text": [
      "\r",
      " 69%|█████████████████████████████████████████████████████████▋                          | 1285/1870 [15:53<23:08,  2.37s/it]"
     ]
    },
    {
     "name": "stdout",
     "output_type": "stream",
     "text": [
      "string indices must be integers\n",
      "string indices must be integers\n"
     ]
    },
    {
     "name": "stderr",
     "output_type": "stream",
     "text": [
      "\r",
      " 69%|█████████████████████████████████████████████████████████▊                          | 1286/1870 [15:56<22:28,  2.31s/it]"
     ]
    },
    {
     "name": "stdout",
     "output_type": "stream",
     "text": [
      "string indices must be integers\n",
      "string indices must be integers\n",
      "string indices must be integers\n",
      "string indices must be integers\n",
      "string indices must be integers\n"
     ]
    },
    {
     "name": "stderr",
     "output_type": "stream",
     "text": [
      "\r",
      " 69%|█████████████████████████████████████████████████████████▊                          | 1287/1870 [15:58<22:21,  2.30s/it]"
     ]
    },
    {
     "name": "stdout",
     "output_type": "stream",
     "text": [
      "string indices must be integers\n",
      "string indices must be integers\n"
     ]
    },
    {
     "name": "stderr",
     "output_type": "stream",
     "text": [
      "\r",
      " 69%|█████████████████████████████████████████████████████████▊                          | 1288/1870 [16:00<21:31,  2.22s/it]"
     ]
    },
    {
     "name": "stdout",
     "output_type": "stream",
     "text": [
      "string indices must be integers\n",
      "string indices must be integers\n",
      "string indices must be integers\n",
      "string indices must be integers\n"
     ]
    },
    {
     "name": "stderr",
     "output_type": "stream",
     "text": [
      "\r",
      " 69%|█████████████████████████████████████████████████████████▉                          | 1289/1870 [16:03<24:58,  2.58s/it]"
     ]
    },
    {
     "name": "stdout",
     "output_type": "stream",
     "text": [
      "string indices must be integers\n",
      "string indices must be integers\n",
      "string indices must be integers\n",
      "string indices must be integers\n",
      "string indices must be integers\n"
     ]
    },
    {
     "name": "stderr",
     "output_type": "stream",
     "text": [
      "\r",
      " 69%|█████████████████████████████████████████████████████████▉                          | 1290/1870 [16:06<25:47,  2.67s/it]"
     ]
    },
    {
     "name": "stdout",
     "output_type": "stream",
     "text": [
      "string indices must be integers\n"
     ]
    },
    {
     "name": "stderr",
     "output_type": "stream",
     "text": [
      "\r",
      " 69%|█████████████████████████████████████████████████████████▉                          | 1291/1870 [16:09<25:10,  2.61s/it]"
     ]
    },
    {
     "name": "stdout",
     "output_type": "stream",
     "text": [
      "string indices must be integers\n",
      "string indices must be integers\n",
      "string indices must be integers\n",
      "string indices must be integers\n"
     ]
    },
    {
     "name": "stderr",
     "output_type": "stream",
     "text": [
      " 69%|██████████████████████████████████████████████████████████                          | 1293/1870 [16:13<23:07,  2.40s/it]"
     ]
    },
    {
     "name": "stdout",
     "output_type": "stream",
     "text": [
      "string indices must be integers\n",
      "string indices must be integers\n",
      "string indices must be integers\n",
      "string indices must be integers\n",
      "string indices must be integers\n"
     ]
    },
    {
     "name": "stderr",
     "output_type": "stream",
     "text": [
      "\r",
      " 69%|██████████████████████████████████████████████████████████▏                         | 1294/1870 [16:15<21:50,  2.28s/it]"
     ]
    },
    {
     "name": "stdout",
     "output_type": "stream",
     "text": [
      "string indices must be integers\n",
      "string indices must be integers\n",
      "string indices must be integers\n"
     ]
    },
    {
     "name": "stderr",
     "output_type": "stream",
     "text": [
      "\r",
      " 69%|██████████████████████████████████████████████████████████▏                         | 1295/1870 [16:18<23:06,  2.41s/it]"
     ]
    },
    {
     "name": "stdout",
     "output_type": "stream",
     "text": [
      "string indices must be integers\n",
      "string indices must be integers\n",
      "string indices must be integers\n",
      "string indices must be integers\n"
     ]
    },
    {
     "name": "stderr",
     "output_type": "stream",
     "text": [
      "\r",
      " 69%|██████████████████████████████████████████████████████████▏                         | 1296/1870 [16:21<25:59,  2.72s/it]"
     ]
    },
    {
     "name": "stdout",
     "output_type": "stream",
     "text": [
      "string indices must be integers\n",
      "string indices must be integers\n",
      "string indices must be integers\n"
     ]
    },
    {
     "name": "stderr",
     "output_type": "stream",
     "text": [
      "\r",
      " 69%|██████████████████████████████████████████████████████████▎                         | 1297/1870 [16:24<24:42,  2.59s/it]"
     ]
    },
    {
     "name": "stdout",
     "output_type": "stream",
     "text": [
      "string indices must be integers\n",
      "string indices must be integers\n",
      "string indices must be integers\n",
      "string indices must be integers\n"
     ]
    },
    {
     "name": "stderr",
     "output_type": "stream",
     "text": [
      " 69%|██████████████████████████████████████████████████████████▎                         | 1299/1870 [16:28<24:09,  2.54s/it]"
     ]
    },
    {
     "name": "stdout",
     "output_type": "stream",
     "text": [
      "string indices must be integers\n",
      "string indices must be integers\n",
      "string indices must be integers\n"
     ]
    },
    {
     "name": "stderr",
     "output_type": "stream",
     "text": [
      "\r",
      " 70%|██████████████████████████████████████████████████████████▍                         | 1300/1870 [16:31<22:45,  2.40s/it]"
     ]
    },
    {
     "name": "stdout",
     "output_type": "stream",
     "text": [
      "string indices must be integers\n",
      "string indices must be integers\n",
      "string indices must be integers\n",
      "string indices must be integers\n"
     ]
    },
    {
     "name": "stderr",
     "output_type": "stream",
     "text": [
      "\r",
      " 70%|██████████████████████████████████████████████████████████▍                         | 1301/1870 [16:33<22:04,  2.33s/it]"
     ]
    },
    {
     "name": "stdout",
     "output_type": "stream",
     "text": [
      "string indices must be integers\n",
      "string indices must be integers\n"
     ]
    },
    {
     "name": "stderr",
     "output_type": "stream",
     "text": [
      "\r",
      " 70%|██████████████████████████████████████████████████████████▍                         | 1302/1870 [16:35<20:44,  2.19s/it]"
     ]
    },
    {
     "name": "stdout",
     "output_type": "stream",
     "text": [
      "string indices must be integers\n",
      "string indices must be integers\n",
      "string indices must be integers\n"
     ]
    },
    {
     "name": "stderr",
     "output_type": "stream",
     "text": [
      "\r",
      " 70%|██████████████████████████████████████████████████████████▌                         | 1303/1870 [16:37<21:51,  2.31s/it]"
     ]
    },
    {
     "name": "stdout",
     "output_type": "stream",
     "text": [
      "string indices must be integers\n",
      "string indices must be integers\n",
      "string indices must be integers\n",
      "string indices must be integers\n",
      "string indices must be integers\n",
      "string indices must be integers\n"
     ]
    },
    {
     "name": "stderr",
     "output_type": "stream",
     "text": [
      " 70%|██████████████████████████████████████████████████████████▌                         | 1305/1870 [16:43<23:55,  2.54s/it]"
     ]
    },
    {
     "name": "stdout",
     "output_type": "stream",
     "text": [
      "string indices must be integers\n",
      "string indices must be integers\n",
      "string indices must be integers\n",
      "string indices must be integers\n"
     ]
    },
    {
     "name": "stderr",
     "output_type": "stream",
     "text": [
      "\r",
      " 70%|██████████████████████████████████████████████████████████▋                         | 1306/1870 [16:46<24:20,  2.59s/it]"
     ]
    },
    {
     "name": "stdout",
     "output_type": "stream",
     "text": [
      "string indices must be integers\n",
      "string indices must be integers\n",
      "string indices must be integers\n",
      "string indices must be integers\n",
      "string indices must be integers\n"
     ]
    },
    {
     "name": "stderr",
     "output_type": "stream",
     "text": [
      "\r",
      " 70%|██████████████████████████████████████████████████████████▋                         | 1307/1870 [16:50<29:53,  3.19s/it]"
     ]
    },
    {
     "name": "stdout",
     "output_type": "stream",
     "text": [
      "string indices must be integers\n"
     ]
    },
    {
     "name": "stderr",
     "output_type": "stream",
     "text": [
      "\r",
      " 70%|██████████████████████████████████████████████████████████▊                         | 1308/1870 [16:53<28:10,  3.01s/it]"
     ]
    },
    {
     "name": "stdout",
     "output_type": "stream",
     "text": [
      "string indices must be integers\n",
      "string indices must be integers\n",
      "string indices must be integers\n",
      "string indices must be integers\n",
      "string indices must be integers\n",
      "string indices must be integers\n"
     ]
    },
    {
     "name": "stderr",
     "output_type": "stream",
     "text": [
      "\r",
      " 70%|██████████████████████████████████████████████████████████▊                         | 1309/1870 [16:56<30:09,  3.23s/it]"
     ]
    },
    {
     "name": "stdout",
     "output_type": "stream",
     "text": [
      "string indices must be integers\n",
      "string indices must be integers\n"
     ]
    },
    {
     "name": "stderr",
     "output_type": "stream",
     "text": [
      "\r",
      " 70%|██████████████████████████████████████████████████████████▊                         | 1310/1870 [16:59<26:44,  2.87s/it]"
     ]
    },
    {
     "name": "stdout",
     "output_type": "stream",
     "text": [
      "string indices must be integersstring indices must be integers\n",
      "\n",
      "string indices must be integers\n",
      "string indices must be integers\n",
      "string indices must be integers\n"
     ]
    },
    {
     "name": "stderr",
     "output_type": "stream",
     "text": [
      "\r",
      " 70%|██████████████████████████████████████████████████████████▉                         | 1311/1870 [17:02<27:27,  2.95s/it]"
     ]
    },
    {
     "name": "stdout",
     "output_type": "stream",
     "text": [
      "string indices must be integers\n",
      "string indices must be integers\n",
      "string indices must be integers\n"
     ]
    },
    {
     "name": "stderr",
     "output_type": "stream",
     "text": [
      "\r",
      " 70%|██████████████████████████████████████████████████████████▉                         | 1312/1870 [17:04<24:45,  2.66s/it]"
     ]
    },
    {
     "name": "stdout",
     "output_type": "stream",
     "text": [
      "string indices must be integers\n"
     ]
    },
    {
     "name": "stderr",
     "output_type": "stream",
     "text": [
      "\r",
      " 70%|██████████████████████████████████████████████████████████▉                         | 1313/1870 [17:06<25:13,  2.72s/it]"
     ]
    },
    {
     "name": "stdout",
     "output_type": "stream",
     "text": [
      "string indices must be integers\n",
      "string indices must be integers\n",
      "string indices must be integers\n",
      "string indices must be integers\n"
     ]
    },
    {
     "name": "stderr",
     "output_type": "stream",
     "text": [
      "\r",
      " 70%|███████████████████████████████████████████████████████████                         | 1314/1870 [17:09<23:44,  2.56s/it]"
     ]
    },
    {
     "name": "stdout",
     "output_type": "stream",
     "text": [
      "string indices must be integers\n",
      "string indices must be integers\n",
      "string indices must be integers\n"
     ]
    },
    {
     "name": "stderr",
     "output_type": "stream",
     "text": [
      "\r",
      " 70%|███████████████████████████████████████████████████████████                         | 1315/1870 [17:11<21:48,  2.36s/it]"
     ]
    },
    {
     "name": "stdout",
     "output_type": "stream",
     "text": [
      "string indices must be integers\n",
      "string indices must be integers\n"
     ]
    },
    {
     "name": "stderr",
     "output_type": "stream",
     "text": [
      "\r",
      " 70%|███████████████████████████████████████████████████████████                         | 1316/1870 [17:13<22:04,  2.39s/it]"
     ]
    },
    {
     "name": "stdout",
     "output_type": "stream",
     "text": [
      "string indices must be integers\n"
     ]
    },
    {
     "name": "stderr",
     "output_type": "stream",
     "text": [
      "\r",
      " 70%|███████████████████████████████████████████████████████████▏                        | 1317/1870 [17:16<22:32,  2.45s/it]"
     ]
    },
    {
     "name": "stdout",
     "output_type": "stream",
     "text": [
      "string indices must be integers\n",
      "string indices must be integers\n",
      "string indices must be integers\n",
      "string indices must be integers\n",
      "string indices must be integers\n"
     ]
    },
    {
     "name": "stderr",
     "output_type": "stream",
     "text": [
      "\r",
      " 70%|███████████████████████████████████████████████████████████▏                        | 1318/1870 [17:18<23:07,  2.51s/it]"
     ]
    },
    {
     "name": "stdout",
     "output_type": "stream",
     "text": [
      "string indices must be integers\n",
      "string indices must be integers\n",
      "string indices must be integers\n"
     ]
    },
    {
     "name": "stderr",
     "output_type": "stream",
     "text": [
      "\r",
      " 71%|███████████████████████████████████████████████████████████▏                        | 1319/1870 [17:21<24:31,  2.67s/it]"
     ]
    },
    {
     "name": "stdout",
     "output_type": "stream",
     "text": [
      "string indices must be integers\n",
      "string indices must be integers\n",
      "string indices must be integers\n"
     ]
    },
    {
     "name": "stderr",
     "output_type": "stream",
     "text": [
      "\r",
      " 71%|███████████████████████████████████████████████████████████▎                        | 1320/1870 [17:24<25:07,  2.74s/it]"
     ]
    },
    {
     "name": "stdout",
     "output_type": "stream",
     "text": [
      "string indices must be integers\n",
      "string indices must be integers\n",
      "string indices must be integers\n"
     ]
    },
    {
     "name": "stderr",
     "output_type": "stream",
     "text": [
      "\r",
      " 71%|███████████████████████████████████████████████████████████▎                        | 1321/1870 [17:26<22:43,  2.48s/it]"
     ]
    },
    {
     "name": "stdout",
     "output_type": "stream",
     "text": [
      "string indices must be integers\n",
      "string indices must be integers\n",
      "string indices must be integers\n"
     ]
    },
    {
     "name": "stderr",
     "output_type": "stream",
     "text": [
      "\r",
      " 71%|███████████████████████████████████████████████████████████▍                        | 1322/1870 [17:28<20:28,  2.24s/it]"
     ]
    },
    {
     "name": "stdout",
     "output_type": "stream",
     "text": [
      "string indices must be integers\n",
      "string indices must be integers\n",
      "string indices must be integers\n",
      "string indices must be integers\n"
     ]
    },
    {
     "name": "stderr",
     "output_type": "stream",
     "text": [
      "\r",
      " 71%|███████████████████████████████████████████████████████████▍                        | 1323/1870 [17:31<22:36,  2.48s/it]"
     ]
    },
    {
     "name": "stdout",
     "output_type": "stream",
     "text": [
      "string indices must be integers\n",
      "string indices must be integers\n"
     ]
    },
    {
     "name": "stderr",
     "output_type": "stream",
     "text": [
      "\r",
      " 71%|███████████████████████████████████████████████████████████▍                        | 1324/1870 [17:33<22:59,  2.53s/it]"
     ]
    },
    {
     "name": "stdout",
     "output_type": "stream",
     "text": [
      "string indices must be integers\n",
      "string indices must be integers\n",
      "string indices must be integers\n",
      "string indices must be integers\n",
      "string indices must be integers\n",
      "string indices must be integers\n"
     ]
    },
    {
     "name": "stderr",
     "output_type": "stream",
     "text": [
      "\r",
      " 71%|███████████████████████████████████████████████████████████▌                        | 1325/1870 [17:37<25:28,  2.80s/it]"
     ]
    },
    {
     "name": "stdout",
     "output_type": "stream",
     "text": [
      "string indices must be integers\n",
      "string indices must be integers\n",
      "string indices must be integers\n"
     ]
    },
    {
     "name": "stderr",
     "output_type": "stream",
     "text": [
      "\r",
      " 71%|███████████████████████████████████████████████████████████▌                        | 1326/1870 [17:39<24:01,  2.65s/it]"
     ]
    },
    {
     "name": "stdout",
     "output_type": "stream",
     "text": [
      "string indices must be integers\n"
     ]
    },
    {
     "name": "stderr",
     "output_type": "stream",
     "text": [
      "\r",
      " 71%|███████████████████████████████████████████████████████████▌                        | 1327/1870 [17:42<24:09,  2.67s/it]"
     ]
    },
    {
     "name": "stdout",
     "output_type": "stream",
     "text": [
      "string indices must be integers\n",
      "string indices must be integers\n",
      "string indices must be integers\n"
     ]
    },
    {
     "name": "stderr",
     "output_type": "stream",
     "text": [
      "\r",
      " 71%|███████████████████████████████████████████████████████████▋                        | 1328/1870 [17:44<22:24,  2.48s/it]"
     ]
    },
    {
     "name": "stdout",
     "output_type": "stream",
     "text": [
      "string indices must be integers\n",
      "string indices must be integersstring indices must be integers\n",
      "\n",
      "string indices must be integers\n"
     ]
    },
    {
     "name": "stderr",
     "output_type": "stream",
     "text": [
      "\r",
      " 71%|███████████████████████████████████████████████████████████▋                        | 1329/1870 [17:46<21:22,  2.37s/it]"
     ]
    },
    {
     "name": "stdout",
     "output_type": "stream",
     "text": [
      "string indices must be integers\n",
      "string indices must be integers\n",
      "string indices must be integers\n"
     ]
    },
    {
     "name": "stderr",
     "output_type": "stream",
     "text": [
      "\r",
      " 71%|███████████████████████████████████████████████████████████▋                        | 1330/1870 [17:48<20:11,  2.24s/it]"
     ]
    },
    {
     "name": "stdout",
     "output_type": "stream",
     "text": [
      "string indices must be integers\n"
     ]
    },
    {
     "name": "stderr",
     "output_type": "stream",
     "text": [
      "\r",
      " 71%|███████████████████████████████████████████████████████████▊                        | 1331/1870 [17:50<19:50,  2.21s/it]"
     ]
    },
    {
     "name": "stdout",
     "output_type": "stream",
     "text": [
      "string indices must be integers\n",
      "string indices must be integers\n",
      "string indices must be integers\n"
     ]
    },
    {
     "name": "stderr",
     "output_type": "stream",
     "text": [
      "\r",
      " 71%|███████████████████████████████████████████████████████████▊                        | 1332/1870 [17:53<20:41,  2.31s/it]"
     ]
    },
    {
     "name": "stdout",
     "output_type": "stream",
     "text": [
      "string indices must be integers\n",
      "string indices must be integers\n",
      "string indices must be integers\n",
      "string indices must be integers\n",
      "string indices must be integers\n",
      "string indices must be integers\n"
     ]
    },
    {
     "name": "stderr",
     "output_type": "stream",
     "text": [
      " 71%|███████████████████████████████████████████████████████████▉                        | 1334/1870 [17:58<20:39,  2.31s/it]"
     ]
    },
    {
     "name": "stdout",
     "output_type": "stream",
     "text": [
      "string indices must be integers\n",
      "string indices must be integers\n",
      "string indices must be integers\n"
     ]
    },
    {
     "name": "stderr",
     "output_type": "stream",
     "text": [
      "\r",
      " 71%|███████████████████████████████████████████████████████████▉                        | 1335/1870 [18:00<21:11,  2.38s/it]"
     ]
    },
    {
     "name": "stdout",
     "output_type": "stream",
     "text": [
      "string indices must be integers\n",
      "string indices must be integers\n",
      "string indices must be integers\n",
      "string indices must be integers\n",
      "string indices must be integers\n"
     ]
    },
    {
     "name": "stderr",
     "output_type": "stream",
     "text": [
      "\r",
      " 71%|████████████████████████████████████████████████████████████                        | 1336/1870 [18:02<20:05,  2.26s/it]"
     ]
    },
    {
     "name": "stdout",
     "output_type": "stream",
     "text": [
      "string indices must be integers\n",
      "string indices must be integers\n"
     ]
    },
    {
     "name": "stderr",
     "output_type": "stream",
     "text": [
      "\r",
      " 71%|████████████████████████████████████████████████████████████                        | 1337/1870 [18:05<21:03,  2.37s/it]"
     ]
    },
    {
     "name": "stdout",
     "output_type": "stream",
     "text": [
      "string indices must be integers\n",
      "string indices must be integers\n"
     ]
    },
    {
     "name": "stderr",
     "output_type": "stream",
     "text": [
      "\r",
      " 72%|████████████████████████████████████████████████████████████                        | 1338/1870 [18:08<23:57,  2.70s/it]"
     ]
    },
    {
     "name": "stdout",
     "output_type": "stream",
     "text": [
      "string indices must be integers\n",
      "string indices must be integers\n",
      "string indices must be integers\n",
      "string indices must be integers\n",
      "string indices must be integers\n"
     ]
    },
    {
     "name": "stderr",
     "output_type": "stream",
     "text": [
      "\r",
      " 72%|████████████████████████████████████████████████████████████▏                       | 1339/1870 [18:11<23:13,  2.62s/it]"
     ]
    },
    {
     "name": "stdout",
     "output_type": "stream",
     "text": [
      "string indices must be integers\n",
      "string indices must be integers\n"
     ]
    },
    {
     "name": "stderr",
     "output_type": "stream",
     "text": [
      "\r",
      " 72%|████████████████████████████████████████████████████████████▏                       | 1340/1870 [18:13<21:47,  2.47s/it]"
     ]
    },
    {
     "name": "stdout",
     "output_type": "stream",
     "text": [
      "string indices must be integers\n",
      "string indices must be integers\n",
      "string indices must be integers\n"
     ]
    },
    {
     "name": "stderr",
     "output_type": "stream",
     "text": [
      "\r",
      " 72%|████████████████████████████████████████████████████████████▏                       | 1341/1870 [18:15<21:51,  2.48s/it]"
     ]
    },
    {
     "name": "stdout",
     "output_type": "stream",
     "text": [
      "string indices must be integers\n",
      "string indices must be integers\n",
      "string indices must be integers\n",
      "string indices must be integers\n"
     ]
    },
    {
     "name": "stderr",
     "output_type": "stream",
     "text": [
      "\r",
      " 72%|████████████████████████████████████████████████████████████▎                       | 1342/1870 [18:18<22:19,  2.54s/it]"
     ]
    },
    {
     "name": "stdout",
     "output_type": "stream",
     "text": [
      "string indices must be integers\n",
      "string indices must be integers\n",
      "string indices must be integers\n"
     ]
    },
    {
     "name": "stderr",
     "output_type": "stream",
     "text": [
      "\r",
      " 72%|████████████████████████████████████████████████████████████▎                       | 1343/1870 [18:20<21:53,  2.49s/it]"
     ]
    },
    {
     "name": "stdout",
     "output_type": "stream",
     "text": [
      "string indices must be integers\n"
     ]
    },
    {
     "name": "stderr",
     "output_type": "stream",
     "text": [
      "\r",
      " 72%|████████████████████████████████████████████████████████████▎                       | 1344/1870 [18:22<20:45,  2.37s/it]"
     ]
    },
    {
     "name": "stdout",
     "output_type": "stream",
     "text": [
      "string indices must be integers\n",
      "string indices must be integers\n",
      "string indices must be integersstring indices must be integers\n",
      "\n"
     ]
    },
    {
     "name": "stderr",
     "output_type": "stream",
     "text": [
      "\r",
      " 72%|████████████████████████████████████████████████████████████▍                       | 1345/1870 [18:26<23:15,  2.66s/it]"
     ]
    },
    {
     "name": "stdout",
     "output_type": "stream",
     "text": [
      "string indices must be integersstring indices must be integers\n",
      "\n",
      "string indices must be integers\n"
     ]
    },
    {
     "name": "stderr",
     "output_type": "stream",
     "text": [
      "\r",
      " 72%|████████████████████████████████████████████████████████████▍                       | 1346/1870 [18:28<21:21,  2.45s/it]"
     ]
    },
    {
     "name": "stdout",
     "output_type": "stream",
     "text": [
      "string indices must be integers\n",
      "string indices must be integers\n"
     ]
    },
    {
     "name": "stderr",
     "output_type": "stream",
     "text": [
      "\r",
      " 72%|████████████████████████████████████████████████████████████▌                       | 1347/1870 [18:30<20:52,  2.40s/it]"
     ]
    },
    {
     "name": "stdout",
     "output_type": "stream",
     "text": [
      "string indices must be integersstring indices must be integers\n",
      "\n",
      "string indices must be integers\n"
     ]
    },
    {
     "name": "stderr",
     "output_type": "stream",
     "text": [
      "\r",
      " 72%|████████████████████████████████████████████████████████████▌                       | 1348/1870 [18:32<20:25,  2.35s/it]"
     ]
    },
    {
     "name": "stdout",
     "output_type": "stream",
     "text": [
      "string indices must be integers\n",
      "string indices must be integers\n",
      "string indices must be integers\n"
     ]
    },
    {
     "name": "stderr",
     "output_type": "stream",
     "text": [
      "\r",
      " 72%|████████████████████████████████████████████████████████████▌                       | 1349/1870 [18:35<22:27,  2.59s/it]"
     ]
    },
    {
     "name": "stdout",
     "output_type": "stream",
     "text": [
      "string indices must be integers\n",
      "string indices must be integers\n",
      "string indices must be integers\n"
     ]
    },
    {
     "name": "stderr",
     "output_type": "stream",
     "text": [
      "\r",
      " 72%|████████████████████████████████████████████████████████████▋                       | 1350/1870 [18:37<20:40,  2.39s/it]"
     ]
    },
    {
     "name": "stdout",
     "output_type": "stream",
     "text": [
      "string indices must be integers\n",
      "string indices must be integers\n",
      "string indices must be integers\n",
      "string indices must be integers\n"
     ]
    },
    {
     "name": "stderr",
     "output_type": "stream",
     "text": [
      "\r",
      " 72%|████████████████████████████████████████████████████████████▋                       | 1351/1870 [18:39<19:54,  2.30s/it]"
     ]
    },
    {
     "name": "stdout",
     "output_type": "stream",
     "text": [
      "string indices must be integers\n"
     ]
    },
    {
     "name": "stderr",
     "output_type": "stream",
     "text": [
      "\r",
      " 72%|████████████████████████████████████████████████████████████▋                       | 1352/1870 [18:42<20:15,  2.35s/it]"
     ]
    },
    {
     "name": "stdout",
     "output_type": "stream",
     "text": [
      "string indices must be integers\n",
      "string indices must be integers\n",
      "string indices must be integers\n"
     ]
    },
    {
     "name": "stderr",
     "output_type": "stream",
     "text": [
      "\r",
      " 72%|████████████████████████████████████████████████████████████▊                       | 1353/1870 [18:44<19:45,  2.29s/it]"
     ]
    },
    {
     "name": "stdout",
     "output_type": "stream",
     "text": [
      "string indices must be integers\n",
      "string indices must be integers\n",
      "string indices must be integers\n",
      "string indices must be integers\n",
      "string indices must be integers\n"
     ]
    },
    {
     "name": "stderr",
     "output_type": "stream",
     "text": [
      "\r",
      " 72%|████████████████████████████████████████████████████████████▊                       | 1354/1870 [18:48<23:18,  2.71s/it]"
     ]
    },
    {
     "name": "stdout",
     "output_type": "stream",
     "text": [
      "string indices must be integers\n",
      "string indices must be integers\n"
     ]
    },
    {
     "name": "stderr",
     "output_type": "stream",
     "text": [
      "\r",
      " 72%|████████████████████████████████████████████████████████████▊                       | 1355/1870 [18:50<23:14,  2.71s/it]"
     ]
    },
    {
     "name": "stdout",
     "output_type": "stream",
     "text": [
      "string indices must be integersstring indices must be integers\n",
      "\n",
      "string indices must be integers\n",
      "string indices must be integers\n",
      "string indices must be integers\n"
     ]
    },
    {
     "name": "stderr",
     "output_type": "stream",
     "text": [
      "\r",
      " 73%|████████████████████████████████████████████████████████████▉                       | 1356/1870 [18:53<23:52,  2.79s/it]"
     ]
    },
    {
     "name": "stdout",
     "output_type": "stream",
     "text": [
      "string indices must be integers\n",
      "string indices must be integers\n",
      "string indices must be integers\n",
      "string indices must be integers\n"
     ]
    },
    {
     "name": "stderr",
     "output_type": "stream",
     "text": [
      "\r",
      " 73%|████████████████████████████████████████████████████████████▉                       | 1357/1870 [18:57<25:36,  2.99s/it]"
     ]
    },
    {
     "name": "stdout",
     "output_type": "stream",
     "text": [
      "string indices must be integersstring indices must be integers\n",
      "\n",
      "string indices must be integers\n"
     ]
    },
    {
     "name": "stderr",
     "output_type": "stream",
     "text": [
      "\r",
      " 73%|█████████████████████████████████████████████████████████████                       | 1358/1870 [19:00<24:54,  2.92s/it]"
     ]
    },
    {
     "name": "stdout",
     "output_type": "stream",
     "text": [
      "string indices must be integers\n",
      "string indices must be integers\n",
      "string indices must be integers\n",
      "string indices must be integers\n"
     ]
    },
    {
     "name": "stderr",
     "output_type": "stream",
     "text": [
      "\r",
      " 73%|█████████████████████████████████████████████████████████████                       | 1359/1870 [19:02<22:45,  2.67s/it]"
     ]
    },
    {
     "name": "stdout",
     "output_type": "stream",
     "text": [
      "string indices must be integers\n",
      "string indices must be integers\n",
      "string indices must be integers\n"
     ]
    },
    {
     "name": "stderr",
     "output_type": "stream",
     "text": [
      "\r",
      " 73%|█████████████████████████████████████████████████████████████                       | 1360/1870 [19:05<24:13,  2.85s/it]"
     ]
    },
    {
     "name": "stdout",
     "output_type": "stream",
     "text": [
      "string indices must be integers\n",
      "string indices must be integers\n"
     ]
    },
    {
     "name": "stderr",
     "output_type": "stream",
     "text": [
      "\r",
      " 73%|█████████████████████████████████████████████████████████████▏                      | 1361/1870 [19:08<23:36,  2.78s/it]"
     ]
    },
    {
     "name": "stdout",
     "output_type": "stream",
     "text": [
      "string indices must be integers\n",
      "string indices must be integers\n",
      "string indices must be integers\n"
     ]
    },
    {
     "name": "stderr",
     "output_type": "stream",
     "text": [
      "\r",
      " 73%|█████████████████████████████████████████████████████████████▏                      | 1362/1870 [19:10<22:58,  2.71s/it]"
     ]
    },
    {
     "name": "stdout",
     "output_type": "stream",
     "text": [
      "string indices must be integers\n",
      "string indices must be integers\n",
      "string indices must be integers\n"
     ]
    },
    {
     "name": "stderr",
     "output_type": "stream",
     "text": [
      "\r",
      " 73%|█████████████████████████████████████████████████████████████▏                      | 1363/1870 [19:13<22:15,  2.63s/it]"
     ]
    },
    {
     "name": "stdout",
     "output_type": "stream",
     "text": [
      "string indices must be integers\n",
      "string indices must be integers\n",
      "string indices must be integers\n"
     ]
    },
    {
     "name": "stderr",
     "output_type": "stream",
     "text": [
      "\r",
      " 73%|█████████████████████████████████████████████████████████████▎                      | 1364/1870 [19:15<22:23,  2.65s/it]"
     ]
    },
    {
     "name": "stdout",
     "output_type": "stream",
     "text": [
      "string indices must be integers\n"
     ]
    },
    {
     "name": "stderr",
     "output_type": "stream",
     "text": [
      "\r",
      " 73%|█████████████████████████████████████████████████████████████▎                      | 1365/1870 [19:17<20:26,  2.43s/it]"
     ]
    },
    {
     "name": "stdout",
     "output_type": "stream",
     "text": [
      "string indices must be integers\n",
      "string indices must be integersstring indices must be integers\n",
      "\n",
      "string indices must be integers\n"
     ]
    },
    {
     "name": "stderr",
     "output_type": "stream",
     "text": [
      "\r",
      " 73%|█████████████████████████████████████████████████████████████▎                      | 1366/1870 [19:20<21:37,  2.57s/it]"
     ]
    },
    {
     "name": "stdout",
     "output_type": "stream",
     "text": [
      "string indices must be integers\n",
      "string indices must be integers\n",
      "string indices must be integers\n",
      "string indices must be integers\n"
     ]
    },
    {
     "name": "stderr",
     "output_type": "stream",
     "text": [
      "\r",
      " 73%|█████████████████████████████████████████████████████████████▍                      | 1367/1870 [19:23<21:46,  2.60s/it]"
     ]
    },
    {
     "name": "stdout",
     "output_type": "stream",
     "text": [
      "string indices must be integers\n",
      "string indices must be integers\n"
     ]
    },
    {
     "name": "stderr",
     "output_type": "stream",
     "text": [
      "\r",
      " 73%|█████████████████████████████████████████████████████████████▍                      | 1368/1870 [19:25<21:20,  2.55s/it]"
     ]
    },
    {
     "name": "stdout",
     "output_type": "stream",
     "text": [
      "string indices must be integers\n",
      "string indices must be integers\n",
      "string indices must be integers\n"
     ]
    },
    {
     "name": "stderr",
     "output_type": "stream",
     "text": [
      "\r",
      " 73%|█████████████████████████████████████████████████████████████▍                      | 1369/1870 [19:28<21:25,  2.57s/it]"
     ]
    },
    {
     "name": "stdout",
     "output_type": "stream",
     "text": [
      "string indices must be integers\n",
      "string indices must be integers\n"
     ]
    },
    {
     "name": "stderr",
     "output_type": "stream",
     "text": [
      "\r",
      " 73%|█████████████████████████████████████████████████████████████▌                      | 1370/1870 [19:30<20:56,  2.51s/it]"
     ]
    },
    {
     "name": "stdout",
     "output_type": "stream",
     "text": [
      "string indices must be integers\n",
      "string indices must be integers\n"
     ]
    },
    {
     "name": "stderr",
     "output_type": "stream",
     "text": [
      "\r",
      " 73%|█████████████████████████████████████████████████████████████▌                      | 1371/1870 [19:32<19:11,  2.31s/it]"
     ]
    },
    {
     "name": "stdout",
     "output_type": "stream",
     "text": [
      "string indices must be integersstring indices must be integers\n",
      "\n",
      "string indices must be integers\n",
      "string indices must be integers\n"
     ]
    },
    {
     "name": "stderr",
     "output_type": "stream",
     "text": [
      "\r",
      " 73%|█████████████████████████████████████████████████████████████▋                      | 1372/1870 [19:35<19:59,  2.41s/it]"
     ]
    },
    {
     "name": "stdout",
     "output_type": "stream",
     "text": [
      "string indices must be integers\n",
      "string indices must be integers\n"
     ]
    },
    {
     "name": "stderr",
     "output_type": "stream",
     "text": [
      "\r",
      " 73%|█████████████████████████████████████████████████████████████▋                      | 1373/1870 [19:37<18:44,  2.26s/it]"
     ]
    },
    {
     "name": "stdout",
     "output_type": "stream",
     "text": [
      "string indices must be integers\n",
      "string indices must be integers\n",
      "string indices must be integers\n"
     ]
    },
    {
     "name": "stderr",
     "output_type": "stream",
     "text": [
      "\r",
      " 73%|█████████████████████████████████████████████████████████████▋                      | 1374/1870 [19:38<17:40,  2.14s/it]"
     ]
    },
    {
     "name": "stdout",
     "output_type": "stream",
     "text": [
      "string indices must be integers\n",
      "string indices must be integers\n"
     ]
    },
    {
     "name": "stderr",
     "output_type": "stream",
     "text": [
      "\r",
      " 74%|█████████████████████████████████████████████████████████████▊                      | 1375/1870 [19:40<16:53,  2.05s/it]"
     ]
    },
    {
     "name": "stdout",
     "output_type": "stream",
     "text": [
      "string indices must be integers\n",
      "string indices must be integers\n",
      "string indices must be integers\n"
     ]
    },
    {
     "name": "stderr",
     "output_type": "stream",
     "text": [
      "\r",
      " 74%|█████████████████████████████████████████████████████████████▊                      | 1376/1870 [19:43<18:28,  2.24s/it]"
     ]
    },
    {
     "name": "stdout",
     "output_type": "stream",
     "text": [
      "string indices must be integersstring indices must be integers\n",
      "\n",
      "string indices must be integers\n",
      "string indices must be integers\n",
      "string indices must be integers\n"
     ]
    },
    {
     "name": "stderr",
     "output_type": "stream",
     "text": [
      "\r",
      " 74%|█████████████████████████████████████████████████████████████▊                      | 1377/1870 [19:45<19:07,  2.33s/it]"
     ]
    },
    {
     "name": "stdout",
     "output_type": "stream",
     "text": [
      "string indices must be integers\n",
      "string indices must be integers\n",
      "string indices must be integers\n"
     ]
    },
    {
     "name": "stderr",
     "output_type": "stream",
     "text": [
      "\r",
      " 74%|█████████████████████████████████████████████████████████████▉                      | 1378/1870 [19:48<19:56,  2.43s/it]"
     ]
    },
    {
     "name": "stdout",
     "output_type": "stream",
     "text": [
      "string indices must be integers\n",
      "string indices must be integers\n"
     ]
    },
    {
     "name": "stderr",
     "output_type": "stream",
     "text": [
      "\r",
      " 74%|█████████████████████████████████████████████████████████████▉                      | 1379/1870 [19:50<18:37,  2.28s/it]"
     ]
    },
    {
     "name": "stdout",
     "output_type": "stream",
     "text": [
      "string indices must be integers\n"
     ]
    },
    {
     "name": "stderr",
     "output_type": "stream",
     "text": [
      "\r",
      " 74%|█████████████████████████████████████████████████████████████▉                      | 1380/1870 [19:52<18:11,  2.23s/it]"
     ]
    },
    {
     "name": "stdout",
     "output_type": "stream",
     "text": [
      "string indices must be integers\n",
      "string indices must be integers\n",
      "string indices must be integers\n",
      "string indices must be integers\n",
      "string indices must be integers\n",
      "string indices must be integers\n"
     ]
    },
    {
     "name": "stderr",
     "output_type": "stream",
     "text": [
      "\r",
      " 74%|██████████████████████████████████████████████████████████████                      | 1381/1870 [19:55<19:14,  2.36s/it]"
     ]
    },
    {
     "name": "stdout",
     "output_type": "stream",
     "text": [
      "string indices must be integers\n"
     ]
    },
    {
     "name": "stderr",
     "output_type": "stream",
     "text": [
      "\r",
      " 74%|██████████████████████████████████████████████████████████████                      | 1382/1870 [19:57<17:52,  2.20s/it]"
     ]
    },
    {
     "name": "stdout",
     "output_type": "stream",
     "text": [
      "string indices must be integers\n"
     ]
    },
    {
     "name": "stderr",
     "output_type": "stream",
     "text": [
      "\r",
      " 74%|██████████████████████████████████████████████████████████████                      | 1383/1870 [19:59<18:44,  2.31s/it]"
     ]
    },
    {
     "name": "stdout",
     "output_type": "stream",
     "text": [
      "string indices must be integers\n",
      "string indices must be integers\n",
      "string indices must be integers\n",
      "string indices must be integersstring indices must be integers\n",
      "\n"
     ]
    },
    {
     "name": "stderr",
     "output_type": "stream",
     "text": [
      "\r",
      " 74%|██████████████████████████████████████████████████████████████▏                     | 1384/1870 [20:02<20:34,  2.54s/it]"
     ]
    },
    {
     "name": "stdout",
     "output_type": "stream",
     "text": [
      "string indices must be integers\n",
      "string indices must be integers\n"
     ]
    },
    {
     "name": "stderr",
     "output_type": "stream",
     "text": [
      "\r",
      " 74%|██████████████████████████████████████████████████████████████▏                     | 1385/1870 [20:04<18:51,  2.33s/it]"
     ]
    },
    {
     "name": "stdout",
     "output_type": "stream",
     "text": [
      "string indices must be integers\n"
     ]
    },
    {
     "name": "stderr",
     "output_type": "stream",
     "text": [
      "\r",
      " 74%|██████████████████████████████████████████████████████████████▎                     | 1386/1870 [20:07<20:24,  2.53s/it]"
     ]
    },
    {
     "name": "stdout",
     "output_type": "stream",
     "text": [
      "string indices must be integers\n",
      "string indices must be integers\n",
      "string indices must be integers\n",
      "string indices must be integers\n",
      "string indices must be integers\n"
     ]
    },
    {
     "name": "stderr",
     "output_type": "stream",
     "text": [
      "\r",
      " 74%|██████████████████████████████████████████████████████████████▎                     | 1387/1870 [20:09<19:22,  2.41s/it]"
     ]
    },
    {
     "name": "stdout",
     "output_type": "stream",
     "text": [
      "string indices must be integers\n",
      "string indices must be integers\n"
     ]
    },
    {
     "name": "stderr",
     "output_type": "stream",
     "text": [
      "\r",
      " 74%|██████████████████████████████████████████████████████████████▎                     | 1388/1870 [20:11<17:56,  2.23s/it]"
     ]
    },
    {
     "name": "stdout",
     "output_type": "stream",
     "text": [
      "string indices must be integers\n",
      "string indices must be integers\n"
     ]
    },
    {
     "name": "stderr",
     "output_type": "stream",
     "text": [
      "\r",
      " 74%|██████████████████████████████████████████████████████████████▍                     | 1389/1870 [20:13<18:18,  2.28s/it]"
     ]
    },
    {
     "name": "stdout",
     "output_type": "stream",
     "text": [
      "string indices must be integersstring indices must be integers\n",
      "\n"
     ]
    },
    {
     "name": "stderr",
     "output_type": "stream",
     "text": [
      "\r",
      " 74%|██████████████████████████████████████████████████████████████▍                     | 1390/1870 [20:16<18:02,  2.26s/it]"
     ]
    },
    {
     "name": "stdout",
     "output_type": "stream",
     "text": [
      "string indices must be integers\n",
      "string indices must be integers\n",
      "string indices must be integersstring indices must be integers\n",
      "\n",
      "string indices must be integers\n"
     ]
    },
    {
     "name": "stderr",
     "output_type": "stream",
     "text": [
      "\r",
      " 74%|██████████████████████████████████████████████████████████████▍                     | 1391/1870 [20:19<20:11,  2.53s/it]"
     ]
    },
    {
     "name": "stdout",
     "output_type": "stream",
     "text": [
      "string indices must be integers\n",
      "string indices must be integers\n",
      "string indices must be integers\n",
      "string indices must be integers\n"
     ]
    },
    {
     "name": "stderr",
     "output_type": "stream",
     "text": [
      "\r",
      " 74%|██████████████████████████████████████████████████████████████▌                     | 1392/1870 [20:21<20:15,  2.54s/it]"
     ]
    },
    {
     "name": "stdout",
     "output_type": "stream",
     "text": [
      "string indices must be integersstring indices must be integers\n",
      "\n",
      "string indices must be integers\n",
      "string indices must be integers\n"
     ]
    },
    {
     "name": "stderr",
     "output_type": "stream",
     "text": [
      " 75%|██████████████████████████████████████████████████████████████▌                     | 1394/1870 [20:25<17:48,  2.24s/it]"
     ]
    },
    {
     "name": "stdout",
     "output_type": "stream",
     "text": [
      "string indices must be integers\n",
      "string indices must be integers\n",
      "string indices must be integers\n",
      "string indices must be integers\n",
      "string indices must be integers\n"
     ]
    },
    {
     "name": "stderr",
     "output_type": "stream",
     "text": [
      "\r",
      " 75%|██████████████████████████████████████████████████████████████▋                     | 1395/1870 [20:28<18:34,  2.35s/it]"
     ]
    },
    {
     "name": "stdout",
     "output_type": "stream",
     "text": [
      "string indices must be integers\n",
      "string indices must be integers\n",
      "string indices must be integers\n"
     ]
    },
    {
     "name": "stderr",
     "output_type": "stream",
     "text": [
      "\r",
      " 75%|██████████████████████████████████████████████████████████████▋                     | 1396/1870 [20:31<19:14,  2.44s/it]"
     ]
    },
    {
     "name": "stdout",
     "output_type": "stream",
     "text": [
      "string indices must be integers\n",
      "string indices must be integers\n"
     ]
    },
    {
     "name": "stderr",
     "output_type": "stream",
     "text": [
      "\r",
      " 75%|██████████████████████████████████████████████████████████████▊                     | 1397/1870 [20:34<20:41,  2.63s/it]"
     ]
    },
    {
     "name": "stdout",
     "output_type": "stream",
     "text": [
      "string indices must be integers\n",
      "string indices must be integers\n",
      "string indices must be integersstring indices must be integers\n",
      "\n",
      "string indices must be integers\n",
      "string indices must be integers\n",
      "string indices must be integers\n",
      "HTTPSConnectionPool(host='www.everydayhealth.com', port=443): Max retries exceeded with url: /hs/living-with-prostate-cancer/spread-to-bones/ (Caused by ProxyError('Cannot connect to proxy.', ConnectionResetError(10054, '远程主机强迫关闭了一个现有的连接。', None, 10054, None)))\n",
      "string indices must be integers\n",
      "string indices must be integers\n",
      "string indices must be integers\n",
      "string indices must be integers\n",
      "string indices must be integers\n",
      "string indices must be integers\n",
      "string indices must be integers\n",
      "string indices must be integers\n",
      "string indices must be integers\n",
      "string indices must be integers\n",
      "string indices must be integers\n",
      "string indices must be integers\n",
      "string indices must be integers\n",
      "string indices must be integers\n",
      "string indices must be integers\n",
      "string indices must be integers\n",
      "string indices must be integers\n",
      "string indices must be integers\n",
      "string indices must be integers\n",
      "string indices must be integers\n",
      "string indices must be integers\n",
      "string indices must be integers\n",
      "string indices must be integers\n",
      "string indices must be integers\n",
      "string indices must be integers\n",
      "string indices must be integers\n",
      "string indices must be integers\n",
      "string indices must be integers\n",
      "string indices must be integers\n",
      "string indices must be integers\n",
      "string indices must be integers\n",
      "string indices must be integers\n",
      "string indices must be integers\n",
      "string indices must be integers\n",
      "string indices must be integers\n",
      "string indices must be integers\n",
      "string indices must be integers\n",
      "string indices must be integers\n",
      "string indices must be integers\n",
      "string indices must be integers\n",
      "string indices must be integers\n",
      "string indices must be integers\n",
      "string indices must be integers\n",
      "string indices must be integers\n",
      "string indices must be integers\n",
      "string indices must be integers\n",
      "string indices must be integers\n",
      "string indices must be integers\n",
      "string indices must be integers\n",
      "string indices must be integers\n",
      "string indices must be integers\n",
      "string indices must be integers\n",
      "string indices must be integers\n",
      "string indices must be integers\n",
      "string indices must be integers\n",
      "string indices must be integers\n",
      "string indices must be integers\n",
      "string indices must be integers\n",
      "string indices must be integers\n",
      "string indices must be integers\n",
      "string indices must be integers\n",
      "string indices must be integers\n",
      "string indices must be integers\n",
      "string indices must be integers\n",
      "string indices must be integers\n",
      "string indices must be integers\n",
      "string indices must be integers\n",
      "string indices must be integers\n",
      "string indices must be integers\n",
      "string indices must be integers\n",
      "string indices must be integers\n",
      "string indices must be integers\n",
      "string indices must be integers\n",
      "string indices must be integers\n",
      "string indices must be integers\n",
      "string indices must be integers\n",
      "string indices must be integers\n",
      "string indices must be integers\n",
      "string indices must be integers\n",
      "string indices must be integers\n",
      "string indices must be integers\n",
      "string indices must be integers\n",
      "string indices must be integers\n",
      "string indices must be integers\n",
      "string indices must be integers\n",
      "string indices must be integersstring indices must be integers\n",
      "\n",
      "string indices must be integers\n",
      "string indices must be integers\n",
      "string indices must be integers\n",
      "string indices must be integersstring indices must be integers\n",
      "\n",
      "string indices must be integers\n",
      "string indices must be integers\n",
      "string indices must be integers\n",
      "string indices must be integers\n",
      "string indices must be integers\n",
      "string indices must be integers\n",
      "string indices must be integers\n",
      "string indices must be integersstring indices must be integers\n",
      "\n",
      "string indices must be integers\n",
      "string indices must be integers\n",
      "string indices must be integers\n",
      "string indices must be integers\n",
      "string indices must be integers\n",
      "string indices must be integers\n",
      "string indices must be integers\n",
      "string indices must be integers\n",
      "string indices must be integers\n",
      "string indices must be integers\n",
      "string indices must be integers\n",
      "string indices must be integers\n",
      "string indices must be integers\n",
      "string indices must be integers\n",
      "string indices must be integers\n",
      "string indices must be integers\n",
      "string indices must be integers\n",
      "string indices must be integers\n",
      "string indices must be integers\n",
      "string indices must be integers\n",
      "string indices must be integers\n",
      "string indices must be integers\n",
      "string indices must be integers\n",
      "string indices must be integers\n",
      "string indices must be integers\n",
      "string indices must be integers\n",
      "string indices must be integers\n",
      "string indices must be integers\n",
      "string indices must be integersstring indices must be integers\n",
      "\n",
      "string indices must be integers\n",
      "string indices must be integers\n",
      "string indices must be integersstring indices must be integers\n",
      "\n",
      "string indices must be integers\n",
      "string indices must be integers\n",
      "string indices must be integersstring indices must be integers\n",
      "\n",
      "string indices must be integers\n",
      "string indices must be integers\n",
      "string indices must be integers\n",
      "string indices must be integers\n",
      "string indices must be integers\n",
      "string indices must be integers\n",
      "string indices must be integers\n",
      "string indices must be integers\n",
      "string indices must be integersstring indices must be integers\n",
      "\n",
      "string indices must be integers\n",
      "string indices must be integers\n",
      "string indices must be integers\n",
      "string indices must be integers\n",
      "string indices must be integers\n",
      "string indices must be integers\n",
      "string indices must be integers\n",
      "string indices must be integers\n",
      "string indices must be integers\n",
      "string indices must be integersstring indices must be integers\n",
      "\n",
      "string indices must be integersstring indices must be integers\n",
      "\n",
      "string indices must be integers\n",
      "string indices must be integers\n",
      "string indices must be integers\n",
      "string indices must be integers\n",
      "string indices must be integers\n",
      "string indices must be integers\n",
      "string indices must be integers\n",
      "string indices must be integers\n",
      "string indices must be integers\n",
      "string indices must be integers\n",
      "string indices must be integers\n",
      "string indices must be integers\n",
      "string indices must be integers\n",
      "string indices must be integers\n",
      "string indices must be integers\n",
      "string indices must be integers\n",
      "string indices must be integers\n",
      "string indices must be integers\n",
      "string indices must be integers\n",
      "string indices must be integers\n",
      "string indices must be integers\n",
      "string indices must be integers\n",
      "string indices must be integers\n",
      "string indices must be integers\n",
      "string indices must be integers\n",
      "string indices must be integers\n",
      "string indices must be integers\n",
      "string indices must be integers\n",
      "string indices must be integers\n",
      "string indices must be integers\n",
      "string indices must be integers\n",
      "string indices must be integers\n",
      "string indices must be integers\n",
      "string indices must be integers\n",
      "string indices must be integers\n",
      "string indices must be integersstring indices must be integers\n",
      "\n",
      "string indices must be integers\n",
      "string indices must be integers\n",
      "string indices must be integers\n",
      "string indices must be integers\n",
      "string indices must be integers\n",
      "string indices must be integers\n",
      "string indices must be integers\n",
      "string indices must be integers\n",
      "string indices must be integers\n",
      "string indices must be integers\n",
      "string indices must be integers\n",
      "string indices must be integers\n",
      "string indices must be integers\n",
      "string indices must be integers\n",
      "string indices must be integers\n",
      "string indices must be integers\n",
      "string indices must be integers\n",
      "string indices must be integers\n",
      "string indices must be integers\n",
      "string indices must be integers\n",
      "string indices must be integers\n",
      "string indices must be integers\n",
      "string indices must be integers\n",
      "string indices must be integers\n",
      "string indices must be integers\n",
      "string indices must be integers\n",
      "string indices must be integersstring indices must be integers\n",
      "\n",
      "string indices must be integers\n",
      "string indices must be integers\n",
      "string indices must be integers\n",
      "string indices must be integers\n",
      "string indices must be integers\n",
      "string indices must be integers\n",
      "string indices must be integers\n",
      "string indices must be integers\n",
      "string indices must be integers\n",
      "string indices must be integers\n",
      "string indices must be integersstring indices must be integers\n",
      "\n",
      "string indices must be integers\n",
      "string indices must be integers\n",
      "string indices must be integers\n"
     ]
    },
    {
     "name": "stdout",
     "output_type": "stream",
     "text": [
      "string indices must be integers\n",
      "string indices must be integers\n",
      "string indices must be integersstring indices must be integers\n",
      "\n",
      "string indices must be integers\n",
      "string indices must be integers\n",
      "string indices must be integers\n",
      "string indices must be integers\n",
      "string indices must be integers\n",
      "string indices must be integers\n",
      "string indices must be integers\n",
      "string indices must be integers\n",
      "string indices must be integers\n",
      "string indices must be integers\n",
      "string indices must be integers\n",
      "string indices must be integers\n",
      "string indices must be integers\n",
      "string indices must be integers\n",
      "string indices must be integers\n",
      "string indices must be integers\n",
      "string indices must be integers\n",
      "string indices must be integers\n",
      "string indices must be integers\n",
      "string indices must be integers\n",
      "string indices must be integers\n",
      "string indices must be integers\n",
      "string indices must be integers\n",
      "string indices must be integers\n",
      "string indices must be integers\n",
      "string indices must be integers\n",
      "string indices must be integers\n",
      "string indices must be integers\n",
      "string indices must be integers\n",
      "string indices must be integers\n",
      "string indices must be integers\n",
      "string indices must be integers\n",
      "string indices must be integers\n",
      "string indices must be integers\n",
      "string indices must be integers\n",
      "string indices must be integers\n",
      "string indices must be integersstring indices must be integers\n",
      "\n",
      "string indices must be integers\n",
      "string indices must be integers\n",
      "string indices must be integers\n",
      "string indices must be integers\n",
      "string indices must be integers\n",
      "string indices must be integers\n",
      "string indices must be integers\n",
      "string indices must be integers\n",
      "string indices must be integersstring indices must be integersstring indices must be integers\n",
      "\n",
      "\n",
      "string indices must be integersstring indices must be integersstring indices must be integers\n",
      "\n",
      "\n",
      "string indices must be integers\n",
      "string indices must be integers\n",
      "string indices must be integers\n",
      "string indices must be integers\n",
      "string indices must be integers\n",
      "string indices must be integers\n",
      "string indices must be integersstring indices must be integers\n",
      "string indices must be integers\n",
      "\n",
      "string indices must be integers\n",
      "string indices must be integers\n",
      "string indices must be integers\n",
      "string indices must be integers\n",
      "string indices must be integers\n",
      "string indices must be integers\n",
      "string indices must be integers\n",
      "string indices must be integers\n",
      "string indices must be integersstring indices must be integers\n",
      "string indices must be integers\n",
      "\n",
      "string indices must be integers\n",
      "string indices must be integers\n",
      "string indices must be integersstring indices must be integers\n",
      "\n",
      "string indices must be integers\n",
      "string indices must be integers\n",
      "string indices must be integersstring indices must be integers\n",
      "\n",
      "string indices must be integers\n",
      "string indices must be integers\n",
      "string indices must be integers\n",
      "string indices must be integers\n",
      "string indices must be integers\n",
      "string indices must be integers\n",
      "string indices must be integers\n",
      "string indices must be integers\n",
      "string indices must be integers\n",
      "string indices must be integers\n",
      "string indices must be integers\n",
      "string indices must be integers\n",
      "string indices must be integers\n",
      "string indices must be integers\n",
      "string indices must be integers\n",
      "string indices must be integers\n",
      "string indices must be integers\n",
      "string indices must be integers\n",
      "string indices must be integers\n",
      "string indices must be integers\n",
      "string indices must be integers\n",
      "string indices must be integers\n",
      "string indices must be integers\n",
      "string indices must be integers\n",
      "string indices must be integers\n",
      "string indices must be integers\n",
      "string indices must be integers\n",
      "string indices must be integers\n",
      "string indices must be integers\n",
      "string indices must be integers\n",
      "string indices must be integers\n",
      "string indices must be integers\n",
      "string indices must be integers\n",
      "string indices must be integers\n",
      "string indices must be integers\n",
      "string indices must be integers\n",
      "string indices must be integersstring indices must be integers\n",
      "\n",
      "string indices must be integers\n",
      "string indices must be integers\n",
      "string indices must be integers\n",
      "string indices must be integers\n",
      "string indices must be integers\n",
      "string indices must be integers\n",
      "string indices must be integers\n",
      "string indices must be integers\n",
      "string indices must be integers\n",
      "string indices must be integers\n",
      "string indices must be integers\n",
      "string indices must be integers\n",
      "string indices must be integers\n",
      "string indices must be integers\n",
      "string indices must be integers\n",
      "string indices must be integers\n",
      "string indices must be integers\n",
      "string indices must be integers\n",
      "string indices must be integers\n",
      "string indices must be integers\n",
      "string indices must be integersstring indices must be integers\n",
      "\n",
      "string indices must be integers\n",
      "string indices must be integers\n",
      "string indices must be integers\n",
      "string indices must be integers\n",
      "string indices must be integers\n",
      "string indices must be integers\n",
      "string indices must be integers\n",
      "string indices must be integers\n",
      "string indices must be integers\n",
      "string indices must be integers\n",
      "string indices must be integers\n",
      "string indices must be integers\n",
      "string indices must be integersstring indices must be integers\n",
      "\n",
      "string indices must be integers\n",
      "string indices must be integers\n",
      "string indices must be integers\n",
      "string indices must be integers\n",
      "string indices must be integers\n",
      "string indices must be integers\n",
      "string indices must be integers\n",
      "string indices must be integers\n",
      "string indices must be integers\n",
      "string indices must be integers\n",
      "string indices must be integers\n",
      "string indices must be integers\n",
      "string indices must be integers\n",
      "string indices must be integers\n",
      "string indices must be integers\n",
      "string indices must be integers\n",
      "string indices must be integers\n",
      "string indices must be integers\n",
      "string indices must be integers\n",
      "string indices must be integers\n",
      "string indices must be integers\n",
      "string indices must be integers\n",
      "string indices must be integers\n",
      "string indices must be integers\n",
      "string indices must be integers\n",
      "string indices must be integers\n",
      "string indices must be integers\n",
      "string indices must be integers\n",
      "string indices must be integers\n",
      "string indices must be integers\n",
      "string indices must be integersstring indices must be integers\n",
      "\n",
      "string indices must be integers\n",
      "string indices must be integers\n",
      "string indices must be integers\n",
      "string indices must be integersstring indices must be integers\n",
      "\n",
      "string indices must be integers\n",
      "string indices must be integers\n",
      "string indices must be integers\n",
      "string indices must be integers\n",
      "string indices must be integers\n",
      "string indices must be integers\n",
      "string indices must be integers\n",
      "string indices must be integers\n",
      "string indices must be integersstring indices must be integers\n",
      "\n",
      "string indices must be integers\n",
      "string indices must be integers\n",
      "string indices must be integers\n",
      "string indices must be integers\n",
      "string indices must be integers\n",
      "string indices must be integers\n",
      "string indices must be integers\n",
      "string indices must be integers\n",
      "string indices must be integersstring indices must be integers\n",
      "\n",
      "string indices must be integers\n",
      "string indices must be integers\n",
      "string indices must be integers\n",
      "string indices must be integers\n",
      "string indices must be integers\n",
      "string indices must be integersstring indices must be integers\n",
      "\n",
      "string indices must be integers\n",
      "string indices must be integers\n",
      "string indices must be integers\n",
      "string indices must be integers\n",
      "string indices must be integers\n",
      "string indices must be integers\n",
      "string indices must be integers\n",
      "string indices must be integers\n",
      "string indices must be integers\n",
      "string indices must be integers\n",
      "string indices must be integers\n",
      "string indices must be integers\n",
      "string indices must be integers\n",
      "string indices must be integers\n",
      "string indices must be integers\n",
      "string indices must be integers\n",
      "string indices must be integers\n",
      "string indices must be integers\n",
      "string indices must be integers\n",
      "string indices must be integers\n",
      "string indices must be integers\n",
      "string indices must be integers\n",
      "string indices must be integers\n",
      "string indices must be integersstring indices must be integers\n",
      "\n",
      "string indices must be integers\n",
      "string indices must be integers\n",
      "string indices must be integersstring indices must be integers\n",
      "\n",
      "string indices must be integers\n",
      "string indices must be integers\n",
      "string indices must be integers\n",
      "string indices must be integers\n",
      "string indices must be integers\n",
      "string indices must be integers\n"
     ]
    },
    {
     "name": "stdout",
     "output_type": "stream",
     "text": [
      "string indices must be integers\n",
      "string indices must be integers\n",
      "string indices must be integersstring indices must be integers\n",
      "\n",
      "string indices must be integers\n",
      "string indices must be integers\n",
      "string indices must be integers\n",
      "string indices must be integers\n",
      "string indices must be integers\n",
      "string indices must be integers\n",
      "string indices must be integers\n",
      "string indices must be integers\n",
      "string indices must be integers\n",
      "string indices must be integers\n",
      "string indices must be integers\n",
      "string indices must be integers\n",
      "string indices must be integers\n",
      "string indices must be integers\n",
      "string indices must be integers\n",
      "string indices must be integers\n",
      "string indices must be integers\n",
      "string indices must be integers\n",
      "string indices must be integers\n",
      "string indices must be integers\n",
      "string indices must be integers\n",
      "string indices must be integers\n",
      "string indices must be integers\n",
      "string indices must be integers\n",
      "string indices must be integers\n",
      "string indices must be integers\n",
      "string indices must be integers\n",
      "string indices must be integers\n",
      "string indices must be integers\n",
      "string indices must be integers\n",
      "string indices must be integers\n",
      "string indices must be integers\n",
      "string indices must be integers\n",
      "string indices must be integers\n",
      "string indices must be integers\n",
      "string indices must be integers\n",
      "string indices must be integers\n",
      "string indices must be integers\n",
      "string indices must be integers\n",
      "string indices must be integers\n",
      "string indices must be integers\n",
      "string indices must be integers\n",
      "string indices must be integers\n",
      "string indices must be integers\n",
      "string indices must be integers\n",
      "string indices must be integers\n",
      "string indices must be integers\n",
      "string indices must be integers\n",
      "string indices must be integers\n",
      "string indices must be integers\n",
      "string indices must be integers\n",
      "string indices must be integers\n",
      "string indices must be integers\n",
      "string indices must be integers\n",
      "string indices must be integers\n",
      "string indices must be integers\n",
      "string indices must be integers\n",
      "string indices must be integers\n",
      "string indices must be integers\n",
      "string indices must be integers\n",
      "string indices must be integers\n",
      "string indices must be integers\n",
      "string indices must be integers\n",
      "string indices must be integers\n",
      "string indices must be integers\n",
      "string indices must be integers\n",
      "string indices must be integers\n",
      "string indices must be integers\n",
      "string indices must be integers\n",
      "string indices must be integers\n",
      "string indices must be integers\n",
      "string indices must be integers\n",
      "string indices must be integers\n",
      "string indices must be integers\n",
      "string indices must be integers\n",
      "string indices must be integers\n",
      "string indices must be integers\n",
      "string indices must be integers\n",
      "string indices must be integers\n",
      "string indices must be integers\n",
      "string indices must be integers\n",
      "string indices must be integers\n",
      "string indices must be integers\n",
      "string indices must be integers\n",
      "string indices must be integers\n",
      "string indices must be integers\n",
      "string indices must be integersstring indices must be integers\n",
      "\n",
      "string indices must be integers\n",
      "string indices must be integers\n",
      "string indices must be integers\n",
      "string indices must be integers\n",
      "string indices must be integers\n",
      "string indices must be integers\n",
      "string indices must be integers\n",
      "string indices must be integers\n",
      "string indices must be integers\n",
      "string indices must be integers\n",
      "string indices must be integers\n",
      "string indices must be integers\n",
      "string indices must be integers\n",
      "string indices must be integers\n",
      "string indices must be integers\n",
      "string indices must be integers\n",
      "string indices must be integers\n",
      "string indices must be integers\n",
      "string indices must be integersstring indices must be integers\n",
      "\n",
      "string indices must be integers\n",
      "string indices must be integers\n",
      "string indices must be integers\n",
      "string indices must be integers\n",
      "string indices must be integers\n",
      "string indices must be integers\n",
      "string indices must be integers\n",
      "string indices must be integers\n",
      "string indices must be integers\n",
      "string indices must be integers\n",
      "string indices must be integers\n",
      "string indices must be integers\n",
      "string indices must be integers\n",
      "string indices must be integers\n",
      "string indices must be integersstring indices must be integers\n",
      "\n",
      "string indices must be integers\n",
      "string indices must be integers\n",
      "string indices must be integers\n",
      "string indices must be integers\n",
      "string indices must be integers\n",
      "string indices must be integers\n",
      "string indices must be integers\n",
      "string indices must be integers\n",
      "string indices must be integers\n",
      "string indices must be integers\n",
      "string indices must be integers\n",
      "string indices must be integers\n",
      "string indices must be integers\n",
      "string indices must be integers\n",
      "string indices must be integers\n",
      "string indices must be integers\n",
      "string indices must be integers\n",
      "string indices must be integersstring indices must be integers\n",
      "\n",
      "string indices must be integers\n",
      "string indices must be integers\n",
      "string indices must be integers\n",
      "string indices must be integersstring indices must be integers\n",
      "\n",
      "string indices must be integers\n",
      "string indices must be integers\n",
      "string indices must be integers\n",
      "string indices must be integers\n",
      "string indices must be integers\n",
      "string indices must be integers\n",
      "string indices must be integers\n",
      "string indices must be integers\n",
      "string indices must be integers\n",
      "string indices must be integers\n",
      "string indices must be integersstring indices must be integers\n",
      "\n",
      "string indices must be integers\n",
      "string indices must be integers\n",
      "string indices must be integers\n",
      "string indices must be integersstring indices must be integers\n",
      "\n",
      "string indices must be integers\n",
      "string indices must be integers\n",
      "string indices must be integers\n",
      "string indices must be integers\n"
     ]
    }
   ],
   "source": [
    "# 下载health_html_append\n",
    "with open('D:/Intern_Project/5_everydayhealth/补充文章列表.json', 'r', encoding='utf-8') as f:\n",
    "    url_list_append = json.load(f)\n",
    "\n",
    "# pbar = tqdm(total=len(url_list_append))\n",
    "\n",
    "all_craw_tasks = []\n",
    "headers_pc, randomproxy = changeparams()\n",
    "with ThreadPoolExecutor(max_workers=10) as mt_pool:\n",
    "    for url in url_list_append:\n",
    "        headers_pc, randomproxy = changeparams()\n",
    "        tmp_task = mt_pool.submit(html_download_append, headers_pc, randomproxy, url)\n",
    "        all_craw_tasks.append(tmp_task)\n",
    "\n",
    "    # 监测下载任务进展\n",
    "    task_monitor(all_craw_tasks, mt_pool)"
   ]
  },
  {
   "cell_type": "code",
   "execution_count": 8,
   "id": "e2b64925",
   "metadata": {
    "collapsed": true
   },
   "outputs": [
    {
     "name": "stderr",
     "output_type": "stream",
     "text": [
      "Arthroscopy:   6%|████▌                                                                   | 39/618 [00:19<02:04,  4.66it/s]"
     ]
    },
    {
     "name": "stdout",
     "output_type": "stream",
     "text": [
      "HTTPSConnectionPool(host='www.everydayhealth.com', port=443): Read timed out. (read timeout=10)\n",
      "write() argument must be str, not None\n"
     ]
    },
    {
     "name": "stderr",
     "output_type": "stream",
     "text": [
      "Carbohydrate:  16%|███████████▎                                                           | 98/618 [00:38<03:31,  2.46it/s]"
     ]
    },
    {
     "name": "stdout",
     "output_type": "stream",
     "text": [
      "HTTPSConnectionPool(host='www.everydayhealth.comhttps', port=443): Max retries exceeded with url: //www.everydayhealth.com/pregnancy/all-articles/?ie=UTF-8&wd=Python (Caused by NewConnectionError('<urllib3.connection.HTTPSConnection object at 0x00000278D42BDEE0>: Failed to establish a new connection: [Errno 11001] getaddrinfo failed'))\n",
      "write() argument must be str, not None\n"
     ]
    },
    {
     "name": "stderr",
     "output_type": "stream",
     "text": [
      "Endocarditis:  30%|████████████████████▉                                                 | 185/618 [01:05<03:01,  2.38it/s]"
     ]
    },
    {
     "name": "stdout",
     "output_type": "stream",
     "text": [
      "HTTPSConnectionPool(host='www.everydayhealth.comhttps', port=443): Max retries exceeded with url: //www.everydayhealth.com/drugs/?ie=UTF-8&wd=Python (Caused by NewConnectionError('<urllib3.connection.HTTPSConnection object at 0x00000278D42E0640>: Failed to establish a new connection: [Errno 11001] getaddrinfo failed'))\n",
      "write() argument must be str, not None\n"
     ]
    },
    {
     "name": "stderr",
     "output_type": "stream",
     "text": [
      "Hepatitis:  41%|██████████████████████████████▏                                          | 256/618 [01:27<01:44,  3.47it/s]"
     ]
    },
    {
     "name": "stdout",
     "output_type": "stream",
     "text": [
      "HTTPSConnectionPool(host='www.everydayhealth.comhttps', port=443): Max retries exceeded with url: //www.everydayhealth.com/healthy-living/all-articles/?ie=UTF-8&wd=Python (Caused by NewConnectionError('<urllib3.connection.HTTPSConnection object at 0x00000278D41EBCA0>: Failed to establish a new connection: [Errno 11001] getaddrinfo failed'))\n",
      "write() argument must be str, not None\n"
     ]
    },
    {
     "name": "stderr",
     "output_type": "stream",
     "text": [
      "Hypothyroidism:  46%|███████████████████████████████▎                                    | 285/618 [01:36<01:39,  3.34it/s]"
     ]
    },
    {
     "name": "stdout",
     "output_type": "stream",
     "text": [
      "[Errno 2] No such file or directory: 'D:/Intern_Project/5_everydayhealth/health_html/HIV/AIDS.html'\n"
     ]
    },
    {
     "name": "stderr",
     "output_type": "stream",
     "text": [
      "Lymph Nodes:  55%|███████████████████████████████████████                                | 340/618 [01:52<01:25,  3.25it/s]"
     ]
    },
    {
     "name": "stdout",
     "output_type": "stream",
     "text": [
      "HTTPSConnectionPool(host='www.everydayhealth.comhttps', port=443): Max retries exceeded with url: //www.everydayhealth.com/pictures/10-diseases-your-pets-could-give-you/?ie=UTF-8&wd=Python (Caused by NewConnectionError('<urllib3.connection.HTTPSConnection object at 0x00000278D4206160>: Failed to establish a new connection: [Errno 11001] getaddrinfo failed'))\n",
      "write() argument must be str, not None\n"
     ]
    },
    {
     "name": "stderr",
     "output_type": "stream",
     "text": [
      "\r",
      "Lymphoma:  55%|████████████████████████████████████████▋                                 | 340/618 [01:53<01:25,  3.25it/s]"
     ]
    },
    {
     "name": "stdout",
     "output_type": "stream",
     "text": [
      "HTTPSConnectionPool(host='www.everydayhealth.comhttps', port=443): Max retries exceeded with url: //www.everydayhealth.com/lgbtq/?ie=UTF-8&wd=Python (Caused by NewConnectionError('<urllib3.connection.HTTPSConnection object at 0x00000278D41F1A00>: Failed to establish a new connection: [Errno 11001] getaddrinfo failed'))\n",
      "write() argument must be str, not None\n"
     ]
    },
    {
     "name": "stderr",
     "output_type": "stream",
     "text": [
      "Rare Diseases:  75%|███████████████████████████████████████████████████▊                 | 464/618 [02:30<00:37,  4.08it/s]"
     ]
    },
    {
     "name": "stdout",
     "output_type": "stream",
     "text": [
      "HTTPSConnectionPool(host='www.everydayhealth.comhttps', port=443): Max retries exceeded with url: //www.everydayhealth.com/prostate/guide/?ie=UTF-8&wd=Python (Caused by NewConnectionError('<urllib3.connection.HTTPSConnection object at 0x00000278D4211820>: Failed to establish a new connection: [Errno 11001] getaddrinfo failed'))\n",
      "write() argument must be str, not None\n"
     ]
    },
    {
     "name": "stderr",
     "output_type": "stream",
     "text": [
      "Sinus Infection:  80%|█████████████████████████████████████████████████████▉             | 497/618 [02:41<00:39,  3.10it/s]"
     ]
    },
    {
     "name": "stdout",
     "output_type": "stream",
     "text": [
      "HTTPSConnectionPool(host='www.everydayhealth.comhttps', port=443): Max retries exceeded with url: //www.everydayhealth.com/infectious-diseases/coronavirus/?ie=UTF-8&wd=Python (Caused by NewConnectionError('<urllib3.connection.HTTPSConnection object at 0x00000278D4219FD0>: Failed to establish a new connection: [Errno 11001] getaddrinfo failed'))\n",
      "write() argument must be str, not None\n"
     ]
    },
    {
     "name": "stderr",
     "output_type": "stream",
     "text": [
      "Sulfonylureas:  84%|██████████████████████████████████████████████████████████▎          | 522/618 [02:48<00:35,  2.70it/s]"
     ]
    },
    {
     "name": "stdout",
     "output_type": "stream",
     "text": [
      "[Errno 2] No such file or directory: 'D:/Intern_Project/5_everydayhealth/health_html/Staph/MRSA.html'\n"
     ]
    },
    {
     "name": "stderr",
     "output_type": "stream",
     "text": [
      "Zika:  98%|████████████████████████████████████████████████████████████████████████████▋ | 608/618 [03:13<00:03,  3.12it/s]"
     ]
    },
    {
     "ename": "TypeError",
     "evalue": "'NoneType' object is not iterable",
     "output_type": "error",
     "traceback": [
      "\u001b[1;31m---------------------------------------------------------------------------\u001b[0m",
      "\u001b[1;31mTypeError\u001b[0m                                 Traceback (most recent call last)",
      "Input \u001b[1;32mIn [8]\u001b[0m, in \u001b[0;36m<cell line: 9>\u001b[1;34m()\u001b[0m\n\u001b[0;32m     12\u001b[0m     all_craw_tasks\u001b[38;5;241m.\u001b[39mappend(tmp_task)\n\u001b[0;32m     14\u001b[0m \u001b[38;5;66;03m# 监测下载任务进展\u001b[39;00m\n\u001b[1;32m---> 15\u001b[0m \u001b[43mtask_monitor\u001b[49m\u001b[43m(\u001b[49m\u001b[43mall_craw_tasks\u001b[49m\u001b[43m,\u001b[49m\u001b[43m \u001b[49m\u001b[43mmt_pool\u001b[49m\u001b[43m,\u001b[49m\u001b[43m \u001b[49m\u001b[43mresults\u001b[49m\u001b[43m)\u001b[49m\n",
      "Input \u001b[1;32mIn [7]\u001b[0m, in \u001b[0;36mtask_monitor\u001b[1;34m(task_list, mt_pool, results)\u001b[0m\n\u001b[0;32m      5\u001b[0m \u001b[38;5;28;01mif\u001b[39;00m future\u001b[38;5;241m.\u001b[39mdone():\n\u001b[0;32m      6\u001b[0m     result \u001b[38;5;241m=\u001b[39m future\u001b[38;5;241m.\u001b[39mresult()\n\u001b[1;32m----> 7\u001b[0m     \u001b[43mresults\u001b[49m\u001b[38;5;241;43m.\u001b[39;49m\u001b[43mextend\u001b[49m\u001b[43m(\u001b[49m\u001b[43mresult\u001b[49m\u001b[43m)\u001b[49m\n\u001b[0;32m      8\u001b[0m \u001b[38;5;28;01melse\u001b[39;00m:\n\u001b[0;32m      9\u001b[0m     tmp_task_list\u001b[38;5;241m.\u001b[39mappend(future)\n",
      "\u001b[1;31mTypeError\u001b[0m: 'NoneType' object is not iterable"
     ]
    }
   ],
   "source": [
    "# 下载health_html\n",
    "with open('D:/Intern_Project/5_everydayhealth/health术语链接列表.json', 'r', encoding='utf-8') as f:\n",
    "    url_list = json.load(f)\n",
    "\n",
    "pbar = tqdm(total=len(url_list))\n",
    "\n",
    "all_craw_tasks = []\n",
    "results = []\n",
    "headers_pc, randomproxy, cookie_dict = changeparams()\n",
    "with ThreadPoolExecutor(max_workers=10) as mt_pool:\n",
    "    for item in url_list:\n",
    "        tmp_task = mt_pool.submit(html_download, headers_pc, randomproxy, cookie_dict, item)\n",
    "        all_craw_tasks.append(tmp_task)\n",
    "\n",
    "    # 监测下载任务进展\n",
    "    task_monitor(all_craw_tasks, mt_pool, results)"
   ]
  }
 ],
 "metadata": {
  "kernelspec": {
   "display_name": "Python 3 (ipykernel)",
   "language": "python",
   "name": "python3"
  },
  "language_info": {
   "codemirror_mode": {
    "name": "ipython",
    "version": 3
   },
   "file_extension": ".py",
   "mimetype": "text/x-python",
   "name": "python",
   "nbconvert_exporter": "python",
   "pygments_lexer": "ipython3",
   "version": "3.9.12"
  }
 },
 "nbformat": 4,
 "nbformat_minor": 5
}
